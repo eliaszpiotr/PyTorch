{
  "nbformat": 4,
  "nbformat_minor": 0,
  "metadata": {
    "colab": {
      "provenance": [],
      "toc_visible": true
    },
    "kernelspec": {
      "name": "python3",
      "display_name": "Python 3"
    },
    "language_info": {
      "name": "python"
    },
    "gpuClass": "standard",
    "accelerator": "GPU"
  },
  "cells": [
    {
      "cell_type": "markdown",
      "source": [
        "#PyTorch Basics"
      ],
      "metadata": {
        "id": "eMhUsrD2xSnd"
      }
    },
    {
      "cell_type": "markdown",
      "source": [
        "## Importing PyTorch and needed libraries\n",
        "\n"
      ],
      "metadata": {
        "id": "OAge_8_g5MWk"
      }
    },
    {
      "cell_type": "code",
      "source": [
        "import torch\n",
        "import pandas as pd\n",
        "import numpy as np\n",
        "import matplotlib.pyplot as plt\n",
        "print(torch.__version__)"
      ],
      "metadata": {
        "colab": {
          "base_uri": "https://localhost:8080/"
        },
        "id": "7nNDSXHV5E-9",
        "outputId": "911a3ebf-e44d-4d4f-9376-16148fcd62c4"
      },
      "execution_count": 1,
      "outputs": [
        {
          "output_type": "stream",
          "name": "stdout",
          "text": [
            "2.0.0+cu118\n"
          ]
        }
      ]
    },
    {
      "cell_type": "markdown",
      "source": [
        "## Introduction to Tensors\n",
        "https://pytorch.org/docs/stable/index.html"
      ],
      "metadata": {
        "id": "-qE2E23X6zK1"
      }
    },
    {
      "cell_type": "markdown",
      "source": [
        "#### Creating Tensors\n",
        "\n",
        "*PyTorch tensors are created using `torch.tensor()`*  \n",
        "https://pytorch.org/docs/stable/tensors.html"
      ],
      "metadata": {
        "id": "YXvZijc07u0h"
      }
    },
    {
      "cell_type": "markdown",
      "source": [
        "##### Scalars\n",
        "*Scalars are commonly used in PyTorch to represent single numerical values, such as loss or accuracy metrics.*\n"
      ],
      "metadata": {
        "id": "EnPOxbSw8YRh"
      }
    },
    {
      "cell_type": "code",
      "source": [
        "scalar = torch.tensor(7)\n",
        "scalar"
      ],
      "metadata": {
        "colab": {
          "base_uri": "https://localhost:8080/"
        },
        "id": "0lgsaioa72wO",
        "outputId": "4566a32b-3b14-4c63-bea6-233cb2e1de3d"
      },
      "execution_count": 2,
      "outputs": [
        {
          "output_type": "execute_result",
          "data": {
            "text/plain": [
              "tensor(7)"
            ]
          },
          "metadata": {},
          "execution_count": 2
        }
      ]
    },
    {
      "cell_type": "markdown",
      "source": [
        "Scalar has no dimension"
      ],
      "metadata": {
        "id": "PRf6I6PD9iPC"
      }
    },
    {
      "cell_type": "code",
      "source": [
        "scalar.ndim"
      ],
      "metadata": {
        "colab": {
          "base_uri": "https://localhost:8080/"
        },
        "id": "jDDuJW3z8E0t",
        "outputId": "97fa5a15-fe68-44b2-f057-fca94daf1b0f"
      },
      "execution_count": 3,
      "outputs": [
        {
          "output_type": "execute_result",
          "data": {
            "text/plain": [
              "0"
            ]
          },
          "metadata": {},
          "execution_count": 3
        }
      ]
    },
    {
      "cell_type": "markdown",
      "source": [
        "Get tensor back as Python int"
      ],
      "metadata": {
        "id": "E5LIW-2b9-AW"
      }
    },
    {
      "cell_type": "code",
      "source": [
        "scalar.item()"
      ],
      "metadata": {
        "colab": {
          "base_uri": "https://localhost:8080/"
        },
        "id": "4gfqmxTh9Pwg",
        "outputId": "2294c716-9f1b-4122-defd-d58171f34b68"
      },
      "execution_count": 4,
      "outputs": [
        {
          "output_type": "execute_result",
          "data": {
            "text/plain": [
              "7"
            ]
          },
          "metadata": {},
          "execution_count": 4
        }
      ]
    },
    {
      "cell_type": "markdown",
      "source": [
        "##### Vectors\n",
        "*In PyTorch, a vector is a one-dimensional tensor that contains a sequence of numerical values.*"
      ],
      "metadata": {
        "id": "effCo3tI-SCH"
      }
    },
    {
      "cell_type": "code",
      "source": [
        "vector = torch.tensor([7,7])\n",
        "vector"
      ],
      "metadata": {
        "colab": {
          "base_uri": "https://localhost:8080/"
        },
        "id": "kG3nH47G9t0g",
        "outputId": "6a7cf5a1-1cc7-47df-c1af-353347ab0664"
      },
      "execution_count": 5,
      "outputs": [
        {
          "output_type": "execute_result",
          "data": {
            "text/plain": [
              "tensor([7, 7])"
            ]
          },
          "metadata": {},
          "execution_count": 5
        }
      ]
    },
    {
      "cell_type": "markdown",
      "source": [
        "Vector has one dimension"
      ],
      "metadata": {
        "id": "px_nqdno-yA6"
      }
    },
    {
      "cell_type": "code",
      "source": [
        "vector.ndim"
      ],
      "metadata": {
        "colab": {
          "base_uri": "https://localhost:8080/"
        },
        "id": "_ToSYQx6-ZGF",
        "outputId": "20fe48fa-f9d2-4b5f-d3f5-31725a8aed51"
      },
      "execution_count": 6,
      "outputs": [
        {
          "output_type": "execute_result",
          "data": {
            "text/plain": [
              "1"
            ]
          },
          "metadata": {},
          "execution_count": 6
        }
      ]
    },
    {
      "cell_type": "code",
      "source": [
        "vector.shape"
      ],
      "metadata": {
        "colab": {
          "base_uri": "https://localhost:8080/"
        },
        "id": "6YKiOMF--wLT",
        "outputId": "a405605c-6b30-4a67-e987-d9d80c9db613"
      },
      "execution_count": 7,
      "outputs": [
        {
          "output_type": "execute_result",
          "data": {
            "text/plain": [
              "torch.Size([2])"
            ]
          },
          "metadata": {},
          "execution_count": 7
        }
      ]
    },
    {
      "cell_type": "markdown",
      "source": [
        "##### Matrix"
      ],
      "metadata": {
        "id": "358xDX6n_Knd"
      }
    },
    {
      "cell_type": "code",
      "source": [
        "MATRIX = torch.tensor([[7, 8],\n",
        "                       [9, 10]])\n",
        "\n",
        "MATRIX"
      ],
      "metadata": {
        "colab": {
          "base_uri": "https://localhost:8080/"
        },
        "id": "jPLBiWlX_Bec",
        "outputId": "d10c46b9-078d-46f0-d5d6-e91368289978"
      },
      "execution_count": 8,
      "outputs": [
        {
          "output_type": "execute_result",
          "data": {
            "text/plain": [
              "tensor([[ 7,  8],\n",
              "        [ 9, 10]])"
            ]
          },
          "metadata": {},
          "execution_count": 8
        }
      ]
    },
    {
      "cell_type": "markdown",
      "source": [
        "Matrix has two dimensions"
      ],
      "metadata": {
        "id": "3DDNYNJp_qZT"
      }
    },
    {
      "cell_type": "code",
      "source": [
        "MATRIX.ndim"
      ],
      "metadata": {
        "colab": {
          "base_uri": "https://localhost:8080/"
        },
        "id": "owoV5Zt0_Y2-",
        "outputId": "c4118d04-c40c-4b8b-ee18-1404e59b4dec"
      },
      "execution_count": 9,
      "outputs": [
        {
          "output_type": "execute_result",
          "data": {
            "text/plain": [
              "2"
            ]
          },
          "metadata": {},
          "execution_count": 9
        }
      ]
    },
    {
      "cell_type": "code",
      "source": [
        "print(MATRIX[0])\n",
        "print(MATRIX[1])"
      ],
      "metadata": {
        "colab": {
          "base_uri": "https://localhost:8080/"
        },
        "id": "NCpLSomB_pk4",
        "outputId": "5539550c-ba83-49dc-c127-36e737c7a9c0"
      },
      "execution_count": 10,
      "outputs": [
        {
          "output_type": "stream",
          "name": "stdout",
          "text": [
            "tensor([7, 8])\n",
            "tensor([ 9, 10])\n"
          ]
        }
      ]
    },
    {
      "cell_type": "code",
      "source": [
        "MATRIX.shape"
      ],
      "metadata": {
        "colab": {
          "base_uri": "https://localhost:8080/"
        },
        "id": "CkRac0Lf_2yR",
        "outputId": "2369e67a-3e60-4413-ae8b-1de8a7146237"
      },
      "execution_count": 11,
      "outputs": [
        {
          "output_type": "execute_result",
          "data": {
            "text/plain": [
              "torch.Size([2, 2])"
            ]
          },
          "metadata": {},
          "execution_count": 11
        }
      ]
    },
    {
      "cell_type": "markdown",
      "source": [
        "##### Tensor\n",
        "*Tensors are a fundamental data structure in many deep learning frameworks, such as TensorFlow and PyTorch, and they can be used to represent a wide range of data, including images, audio, text, and numerical data.*"
      ],
      "metadata": {
        "id": "CFDl5RrN_-hN"
      }
    },
    {
      "cell_type": "code",
      "source": [
        "TENSOR = torch.tensor([[[1,2,3],\n",
        "                        [4,5,6],\n",
        "                        [7,8,9,]]])\n",
        "TENSOR"
      ],
      "metadata": {
        "colab": {
          "base_uri": "https://localhost:8080/"
        },
        "id": "0GZm5W4__53A",
        "outputId": "dec51c90-3540-4a4c-9fb2-c2345003e38a"
      },
      "execution_count": 12,
      "outputs": [
        {
          "output_type": "execute_result",
          "data": {
            "text/plain": [
              "tensor([[[1, 2, 3],\n",
              "         [4, 5, 6],\n",
              "         [7, 8, 9]]])"
            ]
          },
          "metadata": {},
          "execution_count": 12
        }
      ]
    },
    {
      "cell_type": "markdown",
      "source": [
        "Number of dimentions of our tensor"
      ],
      "metadata": {
        "id": "cflUmAiwAdtf"
      }
    },
    {
      "cell_type": "code",
      "source": [
        "TENSOR.ndim"
      ],
      "metadata": {
        "colab": {
          "base_uri": "https://localhost:8080/"
        },
        "id": "4ldsCfwOAX6d",
        "outputId": "b9ccef2e-8305-492e-e2dd-51a04603a2a5"
      },
      "execution_count": 13,
      "outputs": [
        {
          "output_type": "execute_result",
          "data": {
            "text/plain": [
              "3"
            ]
          },
          "metadata": {},
          "execution_count": 13
        }
      ]
    },
    {
      "cell_type": "code",
      "source": [
        "TENSOR.shape"
      ],
      "metadata": {
        "colab": {
          "base_uri": "https://localhost:8080/"
        },
        "id": "5YzU3AIdAbwT",
        "outputId": "722d5232-343a-4a49-86fc-e92ae9b1bf30"
      },
      "execution_count": 14,
      "outputs": [
        {
          "output_type": "execute_result",
          "data": {
            "text/plain": [
              "torch.Size([1, 3, 3])"
            ]
          },
          "metadata": {},
          "execution_count": 14
        }
      ]
    },
    {
      "cell_type": "code",
      "source": [
        "# dim=0\n",
        "TENSOR[0]"
      ],
      "metadata": {
        "colab": {
          "base_uri": "https://localhost:8080/"
        },
        "id": "Czr9POkXA0Ze",
        "outputId": "fe881d16-6979-452b-c961-a9a4b41f153d"
      },
      "execution_count": 15,
      "outputs": [
        {
          "output_type": "execute_result",
          "data": {
            "text/plain": [
              "tensor([[1, 2, 3],\n",
              "        [4, 5, 6],\n",
              "        [7, 8, 9]])"
            ]
          },
          "metadata": {},
          "execution_count": 15
        }
      ]
    },
    {
      "cell_type": "markdown",
      "source": [
        "#### Random Tensors\n",
        "*Random tensors ar important because the way many neural networks learn is that start with tensor full of random numbers and then adjust those random numbers to beter represent the data*\n",
        "\n",
        "`Start with random numbers -> Look at data -> Update random numbers\n",
        "-> Look at data -> Update random numbers`\n",
        "\n",
        "Random tensors - https://pytorch.org/docs/stable/generated/torch.rand.html?highlight=torch+rand#torch.rand\n"
      ],
      "metadata": {
        "id": "_BvFKs2ADyNX"
      }
    },
    {
      "cell_type": "code",
      "source": [
        "# create random tensor (1, 3, 4)\n",
        "\n",
        "random_tensor = torch.rand(1, 3, 4)\n",
        "# random_tensor = torch.rand(size=(1, 3, 4))\n",
        "random_tensor"
      ],
      "metadata": {
        "colab": {
          "base_uri": "https://localhost:8080/"
        },
        "id": "BkxKNz86HNde",
        "outputId": "e05d9ec2-f14c-428c-e894-a487e69e8794"
      },
      "execution_count": 16,
      "outputs": [
        {
          "output_type": "execute_result",
          "data": {
            "text/plain": [
              "tensor([[[0.1776, 0.7810, 0.2504, 0.0909],\n",
              "         [0.9064, 0.4215, 0.5775, 0.0944],\n",
              "         [0.3181, 0.3967, 0.8051, 0.8098]]])"
            ]
          },
          "metadata": {},
          "execution_count": 16
        }
      ]
    },
    {
      "cell_type": "code",
      "source": [
        "random_tensor.ndim"
      ],
      "metadata": {
        "colab": {
          "base_uri": "https://localhost:8080/"
        },
        "id": "d4IorAQsHZbU",
        "outputId": "525a450c-f564-40f2-fe59-b4ab077481ce"
      },
      "execution_count": 17,
      "outputs": [
        {
          "output_type": "execute_result",
          "data": {
            "text/plain": [
              "3"
            ]
          },
          "metadata": {},
          "execution_count": 17
        }
      ]
    },
    {
      "cell_type": "code",
      "source": [
        "random_tensor.dtype"
      ],
      "metadata": {
        "colab": {
          "base_uri": "https://localhost:8080/"
        },
        "id": "T3JPFYybKkn2",
        "outputId": "acea847f-7fe6-46e8-c0ba-deb5fd1fb326"
      },
      "execution_count": 18,
      "outputs": [
        {
          "output_type": "execute_result",
          "data": {
            "text/plain": [
              "torch.float32"
            ]
          },
          "metadata": {},
          "execution_count": 18
        }
      ]
    },
    {
      "cell_type": "code",
      "source": [
        "# create a random tensor with similar shape to an image tensor\n",
        "\n",
        "random_image_size_tensor = torch.rand(size=(3, 224, 224)) # color chanels (R,G,B), height, width\n",
        "random_image_size_tensor.shape, random_image_size_tensor.ndim"
      ],
      "metadata": {
        "colab": {
          "base_uri": "https://localhost:8080/"
        },
        "id": "w9eVGjj5ILCy",
        "outputId": "6c00709b-fddb-427b-d5fc-e1bd5be0760a"
      },
      "execution_count": 19,
      "outputs": [
        {
          "output_type": "execute_result",
          "data": {
            "text/plain": [
              "(torch.Size([3, 224, 224]), 3)"
            ]
          },
          "metadata": {},
          "execution_count": 19
        }
      ]
    },
    {
      "cell_type": "markdown",
      "source": [
        "#### Zeros and ones"
      ],
      "metadata": {
        "id": "2ibG0lpiJ1Ak"
      }
    },
    {
      "cell_type": "code",
      "source": [
        "# create tensor full of all zeros\n",
        "\n",
        "zeros_tensor = torch.zeros(3, 4)\n",
        "zeros_tensor "
      ],
      "metadata": {
        "colab": {
          "base_uri": "https://localhost:8080/"
        },
        "id": "FHK-QxxwJzCY",
        "outputId": "033d8958-d5a4-4a63-f3a5-4b80d90ea227"
      },
      "execution_count": 20,
      "outputs": [
        {
          "output_type": "execute_result",
          "data": {
            "text/plain": [
              "tensor([[0., 0., 0., 0.],\n",
              "        [0., 0., 0., 0.],\n",
              "        [0., 0., 0., 0.]])"
            ]
          },
          "metadata": {},
          "execution_count": 20
        }
      ]
    },
    {
      "cell_type": "code",
      "source": [
        "# create tensor full of all ones\n",
        "\n",
        "ones_tensor = torch.ones(3, 4)\n",
        "ones_tensor"
      ],
      "metadata": {
        "colab": {
          "base_uri": "https://localhost:8080/"
        },
        "id": "VG244GA0KJWz",
        "outputId": "5dbf0f08-1fc3-4322-ad15-7f95b0c448ea"
      },
      "execution_count": 21,
      "outputs": [
        {
          "output_type": "execute_result",
          "data": {
            "text/plain": [
              "tensor([[1., 1., 1., 1.],\n",
              "        [1., 1., 1., 1.],\n",
              "        [1., 1., 1., 1.]])"
            ]
          },
          "metadata": {},
          "execution_count": 21
        }
      ]
    },
    {
      "cell_type": "markdown",
      "source": [
        "#### Creating a range of tensors and tensors-like"
      ],
      "metadata": {
        "id": "yY4Xq9z-KymK"
      }
    },
    {
      "cell_type": "code",
      "source": [
        "# Use torch.range() and get deprecated message, use torch.arange() insted\n",
        "\n",
        "one_to_ten = torch.arange(start=1, end=11, step=1)\n",
        "one_to_ten"
      ],
      "metadata": {
        "colab": {
          "base_uri": "https://localhost:8080/"
        },
        "id": "luVOZFSVKVr7",
        "outputId": "1be8ffb5-973e-4cac-d3f8-73b28f8ea6a1"
      },
      "execution_count": 22,
      "outputs": [
        {
          "output_type": "execute_result",
          "data": {
            "text/plain": [
              "tensor([ 1,  2,  3,  4,  5,  6,  7,  8,  9, 10])"
            ]
          },
          "metadata": {},
          "execution_count": 22
        }
      ]
    },
    {
      "cell_type": "code",
      "source": [
        "# Creating tensors like\n",
        "\n",
        "ten_zeroes = torch.zeros_like(input=one_to_ten)\n",
        "ten_zeroes"
      ],
      "metadata": {
        "colab": {
          "base_uri": "https://localhost:8080/"
        },
        "id": "C1wqaoKELHAT",
        "outputId": "a3a901c5-345a-4a83-b5cd-bf84563c2abc"
      },
      "execution_count": 23,
      "outputs": [
        {
          "output_type": "execute_result",
          "data": {
            "text/plain": [
              "tensor([0, 0, 0, 0, 0, 0, 0, 0, 0, 0])"
            ]
          },
          "metadata": {},
          "execution_count": 23
        }
      ]
    },
    {
      "cell_type": "markdown",
      "source": [
        "### Tensor Datatypes\n",
        "\n",
        "**Note:** Tensor datatypes is on of 3 big errors you'll run into with PyTorch and deep learning:\n",
        "1.   Tensors not right datatype\n",
        "2.   Tensor not right shape (e.g. during matrix multiplication)\n",
        "3.   Tensor not on the right device\n",
        "\n",
        "Datatype - https://pytorch.org/docs/stable/tensor_attributes.html#torch.dtype\n",
        "Device - https://pytorch.org/docs/stable/tensor_attributes.html#torch.device\n",
        "\n"
      ],
      "metadata": {
        "id": "oYDEp4DbMyXe"
      }
    },
    {
      "cell_type": "code",
      "source": [
        "# Float 32 tensor\n",
        "\n",
        "float_32_tensor = torch.tensor([3.0, 6.0, 9.0], \n",
        "                               dtype=None,            # what datatype is the tensor (defeault: float 32) \n",
        "                               device=None,           # what device is your tensor on       \n",
        "                               requires_grad=False)   # whether or not to track gradients with this tensors operations\n",
        "float_32_tensor"
      ],
      "metadata": {
        "colab": {
          "base_uri": "https://localhost:8080/"
        },
        "id": "Dv72F2ZkL0tF",
        "outputId": "44a726c9-109a-4006-880a-7b1af2a22b7a"
      },
      "execution_count": 24,
      "outputs": [
        {
          "output_type": "execute_result",
          "data": {
            "text/plain": [
              "tensor([3., 6., 9.])"
            ]
          },
          "metadata": {},
          "execution_count": 24
        }
      ]
    },
    {
      "cell_type": "code",
      "source": [
        "float_32_tensor.dtype"
      ],
      "metadata": {
        "colab": {
          "base_uri": "https://localhost:8080/"
        },
        "id": "XIRgtM7YM6V0",
        "outputId": "d9e3d8c8-ad8c-4d64-a52b-270f3c4de408"
      },
      "execution_count": 25,
      "outputs": [
        {
          "output_type": "execute_result",
          "data": {
            "text/plain": [
              "torch.float32"
            ]
          },
          "metadata": {},
          "execution_count": 25
        }
      ]
    },
    {
      "cell_type": "code",
      "source": [
        "float_16_tensor = float_32_tensor.type(torch.float16)\n",
        "float_16_tensor"
      ],
      "metadata": {
        "colab": {
          "base_uri": "https://localhost:8080/"
        },
        "id": "wbGLYGGqN5_H",
        "outputId": "fde9d11a-ffbd-45d0-ad9a-3a9ca56f3a78"
      },
      "execution_count": 26,
      "outputs": [
        {
          "output_type": "execute_result",
          "data": {
            "text/plain": [
              "tensor([3., 6., 9.], dtype=torch.float16)"
            ]
          },
          "metadata": {},
          "execution_count": 26
        }
      ]
    },
    {
      "cell_type": "code",
      "source": [
        "float_64_tensor = torch.tensor([3.0, 6.0, 9.0], dtype=torch.float64)\n",
        "float_64_tensor"
      ],
      "metadata": {
        "colab": {
          "base_uri": "https://localhost:8080/"
        },
        "id": "FJbnOPW0RjTF",
        "outputId": "c8ac7a73-3cfe-433e-eb9f-e8112f547eb6"
      },
      "execution_count": 27,
      "outputs": [
        {
          "output_type": "execute_result",
          "data": {
            "text/plain": [
              "tensor([3., 6., 9.], dtype=torch.float64)"
            ]
          },
          "metadata": {},
          "execution_count": 27
        }
      ]
    },
    {
      "cell_type": "code",
      "source": [
        "bool_tensor = torch.tensor([1,0,1], dtype=torch.bool)\n",
        "bool_tensor, bool_tensor.dtype"
      ],
      "metadata": {
        "colab": {
          "base_uri": "https://localhost:8080/"
        },
        "id": "sbY6pYLXSCp6",
        "outputId": "bc5b7a58-70d1-463f-9828-a3b4f675f9a2"
      },
      "execution_count": 28,
      "outputs": [
        {
          "output_type": "execute_result",
          "data": {
            "text/plain": [
              "(tensor([ True, False,  True]), torch.bool)"
            ]
          },
          "metadata": {},
          "execution_count": 28
        }
      ]
    },
    {
      "cell_type": "markdown",
      "source": [
        "## Getting information from tensor\n",
        "\n",
        "1.   Tensors not right datatype: *to get datatype of a tensor use `tensor.dtype`*\n",
        "2.   Tensor not right shape (e.g. during matrix multiplication): *to get shape of a tensor use `tensor.shape`*\n",
        "3.   Tensor not on the right device: *to get divice from a tensor use `tensor.divice`*\n",
        "\n"
      ],
      "metadata": {
        "id": "3CBAElqQTtjE"
      }
    },
    {
      "cell_type": "code",
      "source": [
        "# Create a tensor \n",
        "tensor = torch.rand(2,3,4).type(torch.float64)"
      ],
      "metadata": {
        "id": "O0hzmLVZTMN7"
      },
      "execution_count": 29,
      "outputs": []
    },
    {
      "cell_type": "code",
      "source": [
        "# Finding out details about tensor\n",
        "\n",
        "print(tensor)\n",
        "print('\\nDetails of tensor:')\n",
        "print(f'\\t datatype: {tensor.dtype}')\n",
        "print(f'\\t shape: {tensor.shape}')\n",
        "print(f'\\t device: {tensor.device}')"
      ],
      "metadata": {
        "colab": {
          "base_uri": "https://localhost:8080/"
        },
        "id": "LQohNhfxU8VK",
        "outputId": "4ced49ba-bb2e-4412-ad55-e1751a268eaa"
      },
      "execution_count": 30,
      "outputs": [
        {
          "output_type": "stream",
          "name": "stdout",
          "text": [
            "tensor([[[0.2182, 0.2409, 0.1019, 0.9888],\n",
            "         [0.9515, 0.0582, 0.5785, 0.3379],\n",
            "         [0.4344, 0.9942, 0.3954, 0.3219]],\n",
            "\n",
            "        [[0.4861, 0.0671, 0.1162, 0.4463],\n",
            "         [0.6035, 0.1257, 0.0476, 0.6586],\n",
            "         [0.9619, 0.5918, 0.5371, 0.0428]]], dtype=torch.float64)\n",
            "\n",
            "Details of tensor:\n",
            "\t datatype: torch.float64\n",
            "\t shape: torch.Size([2, 3, 4])\n",
            "\t device: cpu\n"
          ]
        }
      ]
    },
    {
      "cell_type": "markdown",
      "source": [
        "## Manipulating tensors (tensors operations)\n",
        "\n",
        "Tensors operations:\n",
        "* addition\n",
        "* subtraction\n",
        "* multiplication (element-wise)\n",
        "* dvision\n",
        "* matrix multiplication\n",
        "\n",
        "\n",
        "\n",
        "\n",
        "\n"
      ],
      "metadata": {
        "id": "jJKUkJb7Wk45"
      }
    },
    {
      "cell_type": "markdown",
      "source": [
        "### Basic operations on tensors"
      ],
      "metadata": {
        "id": "vlyKDMcRyK86"
      }
    },
    {
      "cell_type": "code",
      "source": [
        "# Create a tensor and add 10 to it\n",
        "tensor = torch.tensor([1, 2, 3])\n",
        "tensor + 10"
      ],
      "metadata": {
        "colab": {
          "base_uri": "https://localhost:8080/"
        },
        "id": "N7RqA_YIVcgi",
        "outputId": "70720bfc-9b27-4bf1-9537-ae70ef50a3d7"
      },
      "execution_count": 31,
      "outputs": [
        {
          "output_type": "execute_result",
          "data": {
            "text/plain": [
              "tensor([11, 12, 13])"
            ]
          },
          "metadata": {},
          "execution_count": 31
        }
      ]
    },
    {
      "cell_type": "code",
      "source": [
        "# Multiply tensor by 10\n",
        "tensor * 10"
      ],
      "metadata": {
        "colab": {
          "base_uri": "https://localhost:8080/"
        },
        "id": "U0GCpKItXsbe",
        "outputId": "00eb442f-fd26-4b34-86ee-30aaf3a83f28"
      },
      "execution_count": 32,
      "outputs": [
        {
          "output_type": "execute_result",
          "data": {
            "text/plain": [
              "tensor([10, 20, 30])"
            ]
          },
          "metadata": {},
          "execution_count": 32
        }
      ]
    },
    {
      "cell_type": "code",
      "source": [
        "# Substract 10 \n",
        "tensor - 10"
      ],
      "metadata": {
        "colab": {
          "base_uri": "https://localhost:8080/"
        },
        "id": "AONDPzq2X8Rd",
        "outputId": "73403e57-a229-4ab7-a505-9087b41f2674"
      },
      "execution_count": 33,
      "outputs": [
        {
          "output_type": "execute_result",
          "data": {
            "text/plain": [
              "tensor([-9, -8, -7])"
            ]
          },
          "metadata": {},
          "execution_count": 33
        }
      ]
    },
    {
      "cell_type": "code",
      "source": [
        "# We can use PyTorch in-build fonctions\n",
        "multiplied_tensor = torch.mul(tensor, 10)\n",
        "tensor_with_added_10 = torch.add(tensor, 10)\n",
        "\n",
        "multiplied_tensor, tensor_with_added_10"
      ],
      "metadata": {
        "colab": {
          "base_uri": "https://localhost:8080/"
        },
        "id": "O1fVtAlaYJpn",
        "outputId": "69f9cfe1-0165-4272-812d-51e4f60ca5d3"
      },
      "execution_count": 34,
      "outputs": [
        {
          "output_type": "execute_result",
          "data": {
            "text/plain": [
              "(tensor([10, 20, 30]), tensor([11, 12, 13]))"
            ]
          },
          "metadata": {},
          "execution_count": 34
        }
      ]
    },
    {
      "cell_type": "markdown",
      "source": [
        "### Matrix multiplication\n",
        "\n",
        "Two main ways of performing matrix multiplication in neural networks and deep learning:\n",
        "\n",
        "1. Element-wise multiplication\n",
        "# 2. Matrix multiplication (dot product): *use `torch.matmul()` or `torch.mm()` or `@`*\n",
        "    \n",
        "    https://pytorch.org/docs/stable/generated/torch.mm.html?highlight=torch+mm#torch.mm\n",
        "\n",
        "\n",
        "There are two matrix multiplication rules that must be followed:\n",
        "1. The **inner dimension** must match:\n",
        "  * `(3, 2) @ (3, 2)` won't work\n",
        "\n",
        "    `RuntimeError: mat1 and mat2 shapes cannot be multiplied (3x2 and 3x2)`\n",
        "  * `(3, 2) @ (2, 3)` will work\n",
        "2. The resulting matrix has the shape of the **outer dimensions**:\n",
        "  * `(3, 2) @ (2, 3) -> (2, 2)`"
      ],
      "metadata": {
        "id": "DaI28Wu9ZlNc"
      }
    },
    {
      "cell_type": "code",
      "source": [
        "# Element wise multiplication \n",
        "print(tensor, '*', tensor)\n",
        "print(tensor * tensor) # [(1*1), (2*2), (3*3)]\n"
      ],
      "metadata": {
        "colab": {
          "base_uri": "https://localhost:8080/"
        },
        "id": "BMcE90BJYkl4",
        "outputId": "76db2240-aabf-49de-a102-55d012f87378"
      },
      "execution_count": 35,
      "outputs": [
        {
          "output_type": "stream",
          "name": "stdout",
          "text": [
            "tensor([1, 2, 3]) * tensor([1, 2, 3])\n",
            "tensor([1, 4, 9])\n"
          ]
        }
      ]
    },
    {
      "cell_type": "code",
      "source": [
        "# Matrix multiplication\n",
        "torch.matmul(tensor, tensor) # 1*1 + 2*2 + 3*3 = 14 "
      ],
      "metadata": {
        "colab": {
          "base_uri": "https://localhost:8080/"
        },
        "id": "Ss8F9rs5a61E",
        "outputId": "827c867a-e07a-4ab4-bd91-3e9d6a033d2a"
      },
      "execution_count": 36,
      "outputs": [
        {
          "output_type": "execute_result",
          "data": {
            "text/plain": [
              "tensor(14)"
            ]
          },
          "metadata": {},
          "execution_count": 36
        }
      ]
    },
    {
      "cell_type": "markdown",
      "source": [
        "## Most common errors in deep learning: shape error"
      ],
      "metadata": {
        "id": "b3LTmInLcRAB"
      }
    },
    {
      "cell_type": "code",
      "source": [
        "# Shapes for matrix multiplication\n",
        "tensor_A = torch.tensor([[1, 2], \n",
        "                         [3, 4], \n",
        "                         [5, 6]])\n",
        "tensor_B = torch.tensor([[7, 10], \n",
        "                         [8, 11], \n",
        "                         [9, 12]])"
      ],
      "metadata": {
        "id": "v5_y9OghbADA"
      },
      "execution_count": 37,
      "outputs": []
    },
    {
      "cell_type": "code",
      "source": [
        "# torch.mm(tensor_A, tensor_B)"
      ],
      "metadata": {
        "id": "nkllvQ0vfIgi"
      },
      "execution_count": 38,
      "outputs": []
    },
    {
      "cell_type": "code",
      "source": [
        "# It doesn't work because \n",
        "tensor_A.shape, tensor_B.shape"
      ],
      "metadata": {
        "colab": {
          "base_uri": "https://localhost:8080/"
        },
        "id": "Eh-PXJtsfSjX",
        "outputId": "aabf9eeb-cf1d-444d-9fd3-e1c1a22f839d"
      },
      "execution_count": 39,
      "outputs": [
        {
          "output_type": "execute_result",
          "data": {
            "text/plain": [
              "(torch.Size([3, 2]), torch.Size([3, 2]))"
            ]
          },
          "metadata": {},
          "execution_count": 39
        }
      ]
    },
    {
      "cell_type": "markdown",
      "source": [
        "To fix our tensor shape issues, we can manipulate shape of one of our tensors using `transpose`."
      ],
      "metadata": {
        "id": "UKQ2IDRWf3NH"
      }
    },
    {
      "cell_type": "code",
      "source": [
        "tensor_B.T, tensor_B.T.shape"
      ],
      "metadata": {
        "colab": {
          "base_uri": "https://localhost:8080/"
        },
        "id": "2Fyp50ugf1R1",
        "outputId": "d8ef5184-32c5-4467-e473-4316f0e05bcf"
      },
      "execution_count": 40,
      "outputs": [
        {
          "output_type": "execute_result",
          "data": {
            "text/plain": [
              "(tensor([[ 7,  8,  9],\n",
              "         [10, 11, 12]]),\n",
              " torch.Size([2, 3]))"
            ]
          },
          "metadata": {},
          "execution_count": 40
        }
      ]
    },
    {
      "cell_type": "code",
      "source": [
        "# It will works because we have two matrix multiplication with shapes (3, 2)x(2, 3)\n",
        "torch.matmul(tensor_A, tensor_B.T)"
      ],
      "metadata": {
        "colab": {
          "base_uri": "https://localhost:8080/"
        },
        "id": "VjmltT57gLRI",
        "outputId": "90c67c4f-95b3-4e1b-a522-0ec2816e9a2d"
      },
      "execution_count": 41,
      "outputs": [
        {
          "output_type": "execute_result",
          "data": {
            "text/plain": [
              "tensor([[ 27,  30,  33],\n",
              "        [ 61,  68,  75],\n",
              "        [ 95, 106, 117]])"
            ]
          },
          "metadata": {},
          "execution_count": 41
        }
      ]
    },
    {
      "cell_type": "markdown",
      "source": [
        "## Finding the min, max, mean, sum, etc. (tensor agregation)"
      ],
      "metadata": {
        "id": "WTcz_mhjhAY8"
      }
    },
    {
      "cell_type": "code",
      "source": [
        "# Create a tensor \n",
        "x = torch.arange(0, 100, 10)\n",
        "x, x.dtype"
      ],
      "metadata": {
        "colab": {
          "base_uri": "https://localhost:8080/"
        },
        "id": "vA8YS2Wpgd_D",
        "outputId": "ef7f2a8e-c17d-4a0e-caf7-ff66d151efa7"
      },
      "execution_count": 42,
      "outputs": [
        {
          "output_type": "execute_result",
          "data": {
            "text/plain": [
              "(tensor([ 0, 10, 20, 30, 40, 50, 60, 70, 80, 90]), torch.int64)"
            ]
          },
          "metadata": {},
          "execution_count": 42
        }
      ]
    },
    {
      "cell_type": "code",
      "source": [
        "# Finding the min \n",
        "torch.min(x), x.min()"
      ],
      "metadata": {
        "colab": {
          "base_uri": "https://localhost:8080/"
        },
        "id": "90qkoTmOhOwe",
        "outputId": "af8a8920-aef4-4ab6-9f3a-aed4b3770eb0"
      },
      "execution_count": 43,
      "outputs": [
        {
          "output_type": "execute_result",
          "data": {
            "text/plain": [
              "(tensor(0), tensor(0))"
            ]
          },
          "metadata": {},
          "execution_count": 43
        }
      ]
    },
    {
      "cell_type": "code",
      "source": [
        "# Finding the max \n",
        "torch.max(x), x.max()"
      ],
      "metadata": {
        "colab": {
          "base_uri": "https://localhost:8080/"
        },
        "id": "XLKHT47Ahmeb",
        "outputId": "fa3edaa0-070b-4a08-b313-790cffb6d9fa"
      },
      "execution_count": 44,
      "outputs": [
        {
          "output_type": "execute_result",
          "data": {
            "text/plain": [
              "(tensor(90), tensor(90))"
            ]
          },
          "metadata": {},
          "execution_count": 44
        }
      ]
    },
    {
      "cell_type": "code",
      "source": [
        "# Finding the mean - note: the torch.mean() dunction requires a tensor of float32 datatype to work\n",
        "torch.mean(x.type(torch.float32)), x.type(torch.float32).mean()"
      ],
      "metadata": {
        "colab": {
          "base_uri": "https://localhost:8080/"
        },
        "id": "Ab6jrNfdhp8Q",
        "outputId": "ba42c4e3-b2f7-4e6b-e4b8-fafd47e1dc03"
      },
      "execution_count": 45,
      "outputs": [
        {
          "output_type": "execute_result",
          "data": {
            "text/plain": [
              "(tensor(45.), tensor(45.))"
            ]
          },
          "metadata": {},
          "execution_count": 45
        }
      ]
    },
    {
      "cell_type": "code",
      "source": [
        "# Finding the sum \n",
        "torch.sum(x), x.sum()"
      ],
      "metadata": {
        "colab": {
          "base_uri": "https://localhost:8080/"
        },
        "id": "UtZgipsWhy-O",
        "outputId": "2996f676-810a-46ad-bfd0-412ede726139"
      },
      "execution_count": 46,
      "outputs": [
        {
          "output_type": "execute_result",
          "data": {
            "text/plain": [
              "(tensor(450), tensor(450))"
            ]
          },
          "metadata": {},
          "execution_count": 46
        }
      ]
    },
    {
      "cell_type": "code",
      "source": [
        "# Finding the standard deviation - note: the torch.std() dunction requires a tensor of float32 datatype to work\n",
        "torch.std(x.type(torch.float32)), x.type(torch.float32).std()"
      ],
      "metadata": {
        "colab": {
          "base_uri": "https://localhost:8080/"
        },
        "id": "_wxruLYBiQ6w",
        "outputId": "d5af1689-8076-4b6d-fd4b-843215e4c575"
      },
      "execution_count": 47,
      "outputs": [
        {
          "output_type": "execute_result",
          "data": {
            "text/plain": [
              "(tensor(30.2765), tensor(30.2765))"
            ]
          },
          "metadata": {},
          "execution_count": 47
        }
      ]
    },
    {
      "cell_type": "markdown",
      "source": [
        "## Finding the positional of min and max"
      ],
      "metadata": {
        "id": "IUyWJiFSjDuj"
      }
    },
    {
      "cell_type": "code",
      "source": [
        "# Find the position in tensor that has the minimum/maximum value with argmin() -> returns index of position\n",
        "x.argmin(), x.argmax()"
      ],
      "metadata": {
        "colab": {
          "base_uri": "https://localhost:8080/"
        },
        "id": "bK_vrxzxikkH",
        "outputId": "9e67e761-b267-4443-cff3-091051ae8942"
      },
      "execution_count": 48,
      "outputs": [
        {
          "output_type": "execute_result",
          "data": {
            "text/plain": [
              "(tensor(0), tensor(9))"
            ]
          },
          "metadata": {},
          "execution_count": 48
        }
      ]
    },
    {
      "cell_type": "markdown",
      "source": [
        "## Reshaping, stacking, squeezing and unsqueezing tensors\n",
        "\n",
        "* Reshaping - reshapes an input tensor to a define shape\n",
        "  * **note:** `our new shape has to be equal as previous`\n",
        "* View - return a view od an input tensor of certain shape but keep yhe same memory as the orginal tensor\n",
        "* Stacking comnibe multiple tensors on top of each other (vstack) or side by side (hstack)\n",
        "* Squeeze - removes all `1` dimension from a tensor\n",
        "* Unsqueeze - add `1` dimension to a target tensor \n",
        "* Permute - return a view of the input with dimensions permuted (swapped) in a certain way"
      ],
      "metadata": {
        "id": "mdzbLfOXvaXR"
      }
    },
    {
      "cell_type": "code",
      "source": [
        "# Create a tensor\n",
        "x = torch.arange(1., 10.)\n",
        "x, x.shape"
      ],
      "metadata": {
        "colab": {
          "base_uri": "https://localhost:8080/"
        },
        "id": "jI-YTsO_inHW",
        "outputId": "b3fd1821-c9e9-4915-a618-b0ef699b84e3"
      },
      "execution_count": 49,
      "outputs": [
        {
          "output_type": "execute_result",
          "data": {
            "text/plain": [
              "(tensor([1., 2., 3., 4., 5., 6., 7., 8., 9.]), torch.Size([9]))"
            ]
          },
          "metadata": {},
          "execution_count": 49
        }
      ]
    },
    {
      "cell_type": "code",
      "source": [
        "# Add an extra dimension - note: our new shape has to be equal as previous 1*9=9\n",
        "x_reshaped = x.reshape(1, 9)\n",
        "print(x_reshaped, x_reshaped.shape)\n",
        "\n",
        "# We can also make (9, 1) because 9*1=9 \n",
        "x_reshaped_2 = x.reshape(9, 1) \n",
        "print(x_reshaped_2, x_reshaped_2.shape)"
      ],
      "metadata": {
        "colab": {
          "base_uri": "https://localhost:8080/"
        },
        "id": "GCKy2AwpymQ2",
        "outputId": "30b546c9-bfea-4673-a566-722fd7b951ea"
      },
      "execution_count": 50,
      "outputs": [
        {
          "output_type": "stream",
          "name": "stdout",
          "text": [
            "tensor([[1., 2., 3., 4., 5., 6., 7., 8., 9.]]) torch.Size([1, 9])\n",
            "tensor([[1.],\n",
            "        [2.],\n",
            "        [3.],\n",
            "        [4.],\n",
            "        [5.],\n",
            "        [6.],\n",
            "        [7.],\n",
            "        [8.],\n",
            "        [9.]]) torch.Size([9, 1])\n"
          ]
        }
      ]
    },
    {
      "cell_type": "code",
      "source": [
        "# Change the view\n",
        "z = x.view(1, 9)\n",
        "z, z.shape"
      ],
      "metadata": {
        "colab": {
          "base_uri": "https://localhost:8080/"
        },
        "id": "-pPhwnqCy3mJ",
        "outputId": "0bfda293-5649-4783-f366-cdb346936563"
      },
      "execution_count": 51,
      "outputs": [
        {
          "output_type": "execute_result",
          "data": {
            "text/plain": [
              "(tensor([[1., 2., 3., 4., 5., 6., 7., 8., 9.]]), torch.Size([1, 9]))"
            ]
          },
          "metadata": {},
          "execution_count": 51
        }
      ]
    },
    {
      "cell_type": "code",
      "source": [
        "# Changing z changes x (because a view of a tensor shares the same memory as the orginal input)\n",
        "z[:, 0] = 5\n",
        "z, x"
      ],
      "metadata": {
        "colab": {
          "base_uri": "https://localhost:8080/"
        },
        "id": "BzrCVjIW0epd",
        "outputId": "032093fa-024c-47f4-df71-20b9e6ed7d4b"
      },
      "execution_count": 52,
      "outputs": [
        {
          "output_type": "execute_result",
          "data": {
            "text/plain": [
              "(tensor([[5., 2., 3., 4., 5., 6., 7., 8., 9.]]),\n",
              " tensor([5., 2., 3., 4., 5., 6., 7., 8., 9.]))"
            ]
          },
          "metadata": {},
          "execution_count": 52
        }
      ]
    },
    {
      "cell_type": "code",
      "source": [
        "# Stack tensors on top of each other\n",
        "x_stacked = torch.stack([x, x, x, x], dim=0)\n",
        "x_stacked"
      ],
      "metadata": {
        "colab": {
          "base_uri": "https://localhost:8080/"
        },
        "id": "u6I85pbY1Gz1",
        "outputId": "9172a6fa-f454-4cac-c816-4f7a0ef06b42"
      },
      "execution_count": 53,
      "outputs": [
        {
          "output_type": "execute_result",
          "data": {
            "text/plain": [
              "tensor([[5., 2., 3., 4., 5., 6., 7., 8., 9.],\n",
              "        [5., 2., 3., 4., 5., 6., 7., 8., 9.],\n",
              "        [5., 2., 3., 4., 5., 6., 7., 8., 9.],\n",
              "        [5., 2., 3., 4., 5., 6., 7., 8., 9.]])"
            ]
          },
          "metadata": {},
          "execution_count": 53
        }
      ]
    },
    {
      "cell_type": "code",
      "source": [
        "# Squeezing a tensor using\n",
        "## torch.squeeze()- removes all single dimensions from a target tensor\n",
        "x_squeezed = torch.squeeze(x)\n",
        "x_squeezed, x_squeezed.shape"
      ],
      "metadata": {
        "colab": {
          "base_uri": "https://localhost:8080/"
        },
        "id": "8DfZ5uOQ1j9N",
        "outputId": "58d67485-331d-409e-9a1c-1684fc0519b3"
      },
      "execution_count": 54,
      "outputs": [
        {
          "output_type": "execute_result",
          "data": {
            "text/plain": [
              "(tensor([5., 2., 3., 4., 5., 6., 7., 8., 9.]), torch.Size([9]))"
            ]
          },
          "metadata": {},
          "execution_count": 54
        }
      ]
    },
    {
      "cell_type": "code",
      "source": [
        "# For better visualization of squeezing a tensor\n",
        "print(f\"Previous tensor: {x_reshaped}\")\n",
        "print(f\"Previous shape: {x_reshaped.shape}\")\n",
        "\n",
        "# Remove extra dimension from x_reshaped\n",
        "x_squeezed = x_reshaped.squeeze()\n",
        "print(f\"\\nNew tensor: {x_squeezed}\")\n",
        "print(f\"New shape: {x_squeezed.shape}\")"
      ],
      "metadata": {
        "colab": {
          "base_uri": "https://localhost:8080/"
        },
        "id": "gwKggEji2l8n",
        "outputId": "49711870-b0fe-47aa-9249-a66546d0f8a1"
      },
      "execution_count": 55,
      "outputs": [
        {
          "output_type": "stream",
          "name": "stdout",
          "text": [
            "Previous tensor: tensor([[5., 2., 3., 4., 5., 6., 7., 8., 9.]])\n",
            "Previous shape: torch.Size([1, 9])\n",
            "\n",
            "New tensor: tensor([5., 2., 3., 4., 5., 6., 7., 8., 9.])\n",
            "New shape: torch.Size([9])\n"
          ]
        }
      ]
    },
    {
      "cell_type": "code",
      "source": [
        "# Unsqueeze a tensor\n",
        "## torch.unsqueeze()- adds a single dimensions to a target tensor ta s specific dim (dimension)\n",
        "x_unsqueezed = x_squeezed.unsqueeze(dim=0)\n",
        "x_unsqueezed, x_unsqueezed.shape"
      ],
      "metadata": {
        "colab": {
          "base_uri": "https://localhost:8080/"
        },
        "id": "Mhz5bq3GkVil",
        "outputId": "07fd93d7-33dd-4f2b-d9b8-ad40c9724eaa"
      },
      "execution_count": 56,
      "outputs": [
        {
          "output_type": "execute_result",
          "data": {
            "text/plain": [
              "(tensor([[5., 2., 3., 4., 5., 6., 7., 8., 9.]]), torch.Size([1, 9]))"
            ]
          },
          "metadata": {},
          "execution_count": 56
        }
      ]
    },
    {
      "cell_type": "code",
      "source": [
        "# For better visualization of unsqueezing a tensor\n",
        "print(f\"Previous tensor: {x_squeezed}\")\n",
        "print(f\"Previous shape: {x_squeezed.shape}\")\n",
        "\n",
        "# Add an extra dimension with unsqueeze\n",
        "x_unsqueezed = x_squeezed.unsqueeze(dim=0)\n",
        "print(f\"\\nNew tensor: {x_unsqueezed}\")\n",
        "print(f\"New shape: {x_unsqueezed.shape}\")"
      ],
      "metadata": {
        "colab": {
          "base_uri": "https://localhost:8080/"
        },
        "id": "o1_GIKSCj94E",
        "outputId": "9f8fe381-749b-456e-f1fc-ce6251e33242"
      },
      "execution_count": 57,
      "outputs": [
        {
          "output_type": "stream",
          "name": "stdout",
          "text": [
            "Previous tensor: tensor([5., 2., 3., 4., 5., 6., 7., 8., 9.])\n",
            "Previous shape: torch.Size([9])\n",
            "\n",
            "New tensor: tensor([[5., 2., 3., 4., 5., 6., 7., 8., 9.]])\n",
            "New shape: torch.Size([1, 9])\n"
          ]
        }
      ]
    },
    {
      "cell_type": "code",
      "source": [
        "# torch.permute() - rearranges the dimensions of a target tensor in a specified order\n",
        "x_orginal = torch.rand(size=(224, 224, 3)) # (height, width, color_chanels)- common for image data \n",
        "\n",
        "# Permute the orginal tensor to rearrange the axis (or dim) order\n",
        "x_permured = x_orginal.permute(2, 0, 1) # shifts axis order -> (color_chanels, height, width)\n",
        "\n",
        "print(f'Previous shape: {x_orginal.shape}')\n",
        "print(f'New shape: {x_permured.shape}')"
      ],
      "metadata": {
        "colab": {
          "base_uri": "https://localhost:8080/"
        },
        "id": "6EZQ-zkmlySF",
        "outputId": "a3c0cf5e-f7e1-4013-fb01-aeb6013eae4a"
      },
      "execution_count": 58,
      "outputs": [
        {
          "output_type": "stream",
          "name": "stdout",
          "text": [
            "Previous shape: torch.Size([224, 224, 3])\n",
            "New shape: torch.Size([3, 224, 224])\n"
          ]
        }
      ]
    },
    {
      "cell_type": "markdown",
      "source": [
        "## Indexing (selecting data from tensor)\n"
      ],
      "metadata": {
        "id": "_rmBW60Xn8s5"
      }
    },
    {
      "cell_type": "code",
      "source": [
        "# Create a tensor\n",
        "x = torch.arange(1, 10).reshape(1, 3, 3)\n",
        "x, x.shape"
      ],
      "metadata": {
        "colab": {
          "base_uri": "https://localhost:8080/"
        },
        "id": "_Ic9GX9intXi",
        "outputId": "e27e1ed9-fdca-4c50-a8a1-4857e5daf7da"
      },
      "execution_count": 59,
      "outputs": [
        {
          "output_type": "execute_result",
          "data": {
            "text/plain": [
              "(tensor([[[1, 2, 3],\n",
              "          [4, 5, 6],\n",
              "          [7, 8, 9]]]),\n",
              " torch.Size([1, 3, 3]))"
            ]
          },
          "metadata": {},
          "execution_count": 59
        }
      ]
    },
    {
      "cell_type": "code",
      "source": [
        "# Indexing the outer bracket of our tensor (dim=0)\n",
        "x[0]"
      ],
      "metadata": {
        "colab": {
          "base_uri": "https://localhost:8080/"
        },
        "id": "DOXdgeiEofEZ",
        "outputId": "928b5f23-02c3-4333-8771-c8653e18230e"
      },
      "execution_count": 60,
      "outputs": [
        {
          "output_type": "execute_result",
          "data": {
            "text/plain": [
              "tensor([[1, 2, 3],\n",
              "        [4, 5, 6],\n",
              "        [7, 8, 9]])"
            ]
          },
          "metadata": {},
          "execution_count": 60
        }
      ]
    },
    {
      "cell_type": "code",
      "source": [
        "# Indexing the middle bracket (dim=1)\n",
        "x[0][0]\n",
        "x[0, 0] # works the same!"
      ],
      "metadata": {
        "colab": {
          "base_uri": "https://localhost:8080/"
        },
        "id": "CAZzc6PXoqLD",
        "outputId": "5db92842-fd7b-46fb-ab7e-693cfddb7f97"
      },
      "execution_count": 61,
      "outputs": [
        {
          "output_type": "execute_result",
          "data": {
            "text/plain": [
              "tensor([1, 2, 3])"
            ]
          },
          "metadata": {},
          "execution_count": 61
        }
      ]
    },
    {
      "cell_type": "code",
      "source": [
        "# Indexing the inner bracket (last dim)\n",
        "x[0][2][2]"
      ],
      "metadata": {
        "colab": {
          "base_uri": "https://localhost:8080/"
        },
        "id": "lCV58JacpAgy",
        "outputId": "1f90a976-fba8-443d-f82e-7f6357358e97"
      },
      "execution_count": 62,
      "outputs": [
        {
          "output_type": "execute_result",
          "data": {
            "text/plain": [
              "tensor(9)"
            ]
          },
          "metadata": {},
          "execution_count": 62
        }
      ]
    },
    {
      "cell_type": "markdown",
      "source": [
        "Our tensor has shape [**1**, 3, 3], in our dim=0 we have **1**, but in indexing `x[0][2][2]` in the first bracket we can pass only 0 (it may be confusing)"
      ],
      "metadata": {
        "id": "MG1LDeJrqCzF"
      }
    },
    {
      "cell_type": "code",
      "source": [
        "# We can use also ':' to select 'all' of a target dimension\n",
        "x[:, 0]"
      ],
      "metadata": {
        "colab": {
          "base_uri": "https://localhost:8080/"
        },
        "id": "exihNJSXpgco",
        "outputId": "8c026443-0380-4097-95ff-27055a692277"
      },
      "execution_count": 63,
      "outputs": [
        {
          "output_type": "execute_result",
          "data": {
            "text/plain": [
              "tensor([[1, 2, 3]])"
            ]
          },
          "metadata": {},
          "execution_count": 63
        }
      ]
    },
    {
      "cell_type": "code",
      "source": [
        "# More complex example:\n",
        "# Get all values of 0th and 1st dimensions but only 1 of 2nd dimension\n",
        "x[:, :, 1]"
      ],
      "metadata": {
        "colab": {
          "base_uri": "https://localhost:8080/"
        },
        "id": "qWPec-xPq2P2",
        "outputId": "3304bc3a-735f-438a-911c-42e2de805c6a"
      },
      "execution_count": 64,
      "outputs": [
        {
          "output_type": "execute_result",
          "data": {
            "text/plain": [
              "tensor([[2, 5, 8]])"
            ]
          },
          "metadata": {},
          "execution_count": 64
        }
      ]
    },
    {
      "cell_type": "markdown",
      "source": [
        "## PyTorch tensors and NumPy\n",
        "\n",
        "* Data in NumPy to PyTorch tensor -> `torch.from_numpy(ndarray)`\n",
        "* Data in PyTorch tensor to NumPy -> `torch.Tensor.numpy)_`"
      ],
      "metadata": {
        "id": "qDwLK0kfrn0M"
      }
    },
    {
      "cell_type": "code",
      "source": [
        "# NumPy array to tensor\n",
        "import torch\n",
        "import numpy as np\n",
        "\n",
        "array = np.arange(1.0, 8.0) # numpy has default datatyple float 64\n",
        "tensor = torch.from_numpy(array) # WARNING: during converting from numpy -> pytorch, pytorch takes numpy's default datatype \n",
        "array, tensor"
      ],
      "metadata": {
        "colab": {
          "base_uri": "https://localhost:8080/"
        },
        "id": "fQqbhyb4rJEO",
        "outputId": "041c3c68-57b0-404b-948a-787da80558fa"
      },
      "execution_count": 65,
      "outputs": [
        {
          "output_type": "execute_result",
          "data": {
            "text/plain": [
              "(array([1., 2., 3., 4., 5., 6., 7.]),\n",
              " tensor([1., 2., 3., 4., 5., 6., 7.], dtype=torch.float64))"
            ]
          },
          "metadata": {},
          "execution_count": 65
        }
      ]
    },
    {
      "cell_type": "code",
      "source": [
        "# Changing the values of array doesn't change value in tensor\n",
        "array = array +1\n",
        "array, tensor"
      ],
      "metadata": {
        "colab": {
          "base_uri": "https://localhost:8080/"
        },
        "id": "5VhP_w2Rsa5E",
        "outputId": "9e588581-71b2-4a27-adb6-0059f44a63e1"
      },
      "execution_count": 66,
      "outputs": [
        {
          "output_type": "execute_result",
          "data": {
            "text/plain": [
              "(array([2., 3., 4., 5., 6., 7., 8.]),\n",
              " tensor([1., 2., 3., 4., 5., 6., 7.], dtype=torch.float64))"
            ]
          },
          "metadata": {},
          "execution_count": 66
        }
      ]
    },
    {
      "cell_type": "code",
      "source": [
        "# Tensor to NumPy array\n",
        "tensor = torch.ones(7)\n",
        "array = tensor.numpy() # new array keeps datatype of the tensor\n",
        "tensor, array"
      ],
      "metadata": {
        "colab": {
          "base_uri": "https://localhost:8080/"
        },
        "id": "b-lb_u57t8gK",
        "outputId": "e8524753-9cb7-490d-e0e3-d88f03788455"
      },
      "execution_count": 67,
      "outputs": [
        {
          "output_type": "execute_result",
          "data": {
            "text/plain": [
              "(tensor([1., 1., 1., 1., 1., 1., 1.]),\n",
              " array([1., 1., 1., 1., 1., 1., 1.], dtype=float32))"
            ]
          },
          "metadata": {},
          "execution_count": 67
        }
      ]
    },
    {
      "cell_type": "code",
      "source": [
        "# Changing the tensor's values doesn't change value in tensor\n",
        "tensor = tensor + 1\n",
        "tensor, array"
      ],
      "metadata": {
        "colab": {
          "base_uri": "https://localhost:8080/"
        },
        "id": "jF1XT1bLuOJ6",
        "outputId": "8449e2f0-c245-4ed6-8a16-5be82e15d964"
      },
      "execution_count": 68,
      "outputs": [
        {
          "output_type": "execute_result",
          "data": {
            "text/plain": [
              "(tensor([2., 2., 2., 2., 2., 2., 2.]),\n",
              " array([1., 1., 1., 1., 1., 1., 1.], dtype=float32))"
            ]
          },
          "metadata": {},
          "execution_count": 68
        }
      ]
    },
    {
      "cell_type": "markdown",
      "source": [
        "**Note:** PyTorch tensor and NumPy array don't share the memory"
      ],
      "metadata": {
        "id": "m6HCr1y3up98"
      }
    },
    {
      "cell_type": "markdown",
      "source": [
        "## Reproducbility (trying to take the random out of random) \n",
        " \n",
        "In short how a neural networks learns:\n",
        "\n",
        "`start with random numbers -> tensor operations -> update random numbers to try and make them better representations of the data -> again -> again..`\n",
        "\n",
        "To reduce randomness in neural networks and PyTorch comes to the concept of a **random seed**.\n",
        "\n",
        "* https://pytorch.org/docs/stable/random.html?highlight=random+seed#torch.random.seed\n",
        "\n",
        "* https://en.wikipedia.org/wiki/Random_seed"
      ],
      "metadata": {
        "id": "MpYGkReIu9eR"
      }
    },
    {
      "cell_type": "code",
      "source": [
        "# Create two random tensors\n",
        "random_tensor_A = torch.rand(3, 4)\n",
        "random_tensor_B = torch.rand(3, 4)\n",
        "\n",
        "random_tensor_A, random_tensor_B, random_tensor_A==random_tensor_B"
      ],
      "metadata": {
        "colab": {
          "base_uri": "https://localhost:8080/"
        },
        "id": "PkDSicKxuivG",
        "outputId": "c39f590f-c0f5-4c4c-8a53-4f3de510fd8e"
      },
      "execution_count": 69,
      "outputs": [
        {
          "output_type": "execute_result",
          "data": {
            "text/plain": [
              "(tensor([[0.5079, 0.3519, 0.3104, 0.5571],\n",
              "         [0.6221, 0.5345, 0.9946, 0.2856],\n",
              "         [0.2288, 0.8799, 0.5360, 0.3331]]),\n",
              " tensor([[0.3529, 0.2116, 0.0863, 0.3969],\n",
              "         [0.7900, 0.3404, 0.7956, 0.1422],\n",
              "         [0.3355, 0.0913, 0.8680, 0.1747]]),\n",
              " tensor([[False, False, False, False],\n",
              "         [False, False, False, False],\n",
              "         [False, False, False, False]]))"
            ]
          },
          "metadata": {},
          "execution_count": 69
        }
      ]
    },
    {
      "cell_type": "code",
      "source": [
        "# Create two random but reproducible tensors\n",
        "\n",
        "# Set the random seed\n",
        "RANDOM_SEED = 42 \n",
        "\n",
        "torch.manual_seed(RANDOM_SEED)\n",
        "random_tensor_C = torch.rand(3, 4)\n",
        "\n",
        "torch.manual_seed(RANDOM_SEED)\n",
        "random_tensor_D = torch.rand(3, 4)\n",
        "\n",
        "random_tensor_C, random_tensor_D, random_tensor_C==random_tensor_D"
      ],
      "metadata": {
        "colab": {
          "base_uri": "https://localhost:8080/"
        },
        "id": "Ss3kLC9Hv8Vj",
        "outputId": "5675f1ee-12db-4a89-d6b1-976ddffd0cad"
      },
      "execution_count": 70,
      "outputs": [
        {
          "output_type": "execute_result",
          "data": {
            "text/plain": [
              "(tensor([[0.8823, 0.9150, 0.3829, 0.9593],\n",
              "         [0.3904, 0.6009, 0.2566, 0.7936],\n",
              "         [0.9408, 0.1332, 0.9346, 0.5936]]),\n",
              " tensor([[0.8823, 0.9150, 0.3829, 0.9593],\n",
              "         [0.3904, 0.6009, 0.2566, 0.7936],\n",
              "         [0.9408, 0.1332, 0.9346, 0.5936]]),\n",
              " tensor([[True, True, True, True],\n",
              "         [True, True, True, True],\n",
              "         [True, True, True, True]]))"
            ]
          },
          "metadata": {},
          "execution_count": 70
        }
      ]
    },
    {
      "cell_type": "markdown",
      "source": [
        "**Note:** *using `torch.manual_seed(RANDOM_SEED)` -> remeber it works only for \n",
        "one block of code, so we need to use it each time*"
      ],
      "metadata": {
        "id": "Tl46N77QyCd0"
      }
    },
    {
      "cell_type": "markdown",
      "source": [
        "##  Running tensors and PyTorch objects on the GPUs (and making faster computations)\n"
      ],
      "metadata": {
        "id": "lL7Rc2_JzODq"
      }
    },
    {
      "cell_type": "markdown",
      "source": [
        "### Getting a GPU:\n",
        "In Google Colab:\n",
        "\n",
        "`Runtime -> Change runtime type -> Hardware accelerator -> GPU`"
      ],
      "metadata": {
        "id": "ZPrxQTNo66d1"
      }
    },
    {
      "cell_type": "code",
      "source": [
        "# Details about GPU\n",
        "!nvidia-smi"
      ],
      "metadata": {
        "colab": {
          "base_uri": "https://localhost:8080/"
        },
        "id": "SHplwLtpxqrF",
        "outputId": "1e6bce4a-d951-4f6f-da8f-8e85a03b52ea"
      },
      "execution_count": 72,
      "outputs": [
        {
          "output_type": "stream",
          "name": "stdout",
          "text": [
            "Thu Apr 13 18:37:52 2023       \n",
            "+-----------------------------------------------------------------------------+\n",
            "| NVIDIA-SMI 525.85.12    Driver Version: 525.85.12    CUDA Version: 12.0     |\n",
            "|-------------------------------+----------------------+----------------------+\n",
            "| GPU  Name        Persistence-M| Bus-Id        Disp.A | Volatile Uncorr. ECC |\n",
            "| Fan  Temp  Perf  Pwr:Usage/Cap|         Memory-Usage | GPU-Util  Compute M. |\n",
            "|                               |                      |               MIG M. |\n",
            "|===============================+======================+======================|\n",
            "|   0  Tesla T4            Off  | 00000000:00:04.0 Off |                    0 |\n",
            "| N/A   51C    P8    10W /  70W |      0MiB / 15360MiB |      0%      Default |\n",
            "|                               |                      |                  N/A |\n",
            "+-------------------------------+----------------------+----------------------+\n",
            "                                                                               \n",
            "+-----------------------------------------------------------------------------+\n",
            "| Processes:                                                                  |\n",
            "|  GPU   GI   CI        PID   Type   Process name                  GPU Memory |\n",
            "|        ID   ID                                                   Usage      |\n",
            "|=============================================================================|\n",
            "|  No running processes found                                                 |\n",
            "+-----------------------------------------------------------------------------+\n"
          ]
        }
      ]
    },
    {
      "cell_type": "markdown",
      "source": [
        "### Check for GPU access with PyTorch"
      ],
      "metadata": {
        "id": "wGaenaH67IjR"
      }
    },
    {
      "cell_type": "code",
      "source": [
        "# Check for GPU access with PyTorch\n",
        "import torch \n",
        "torch.cuda.is_available()"
      ],
      "metadata": {
        "colab": {
          "base_uri": "https://localhost:8080/"
        },
        "id": "5xQeioUN6Now",
        "outputId": "c4810b9b-0cba-4b53-9904-648bb21279ad"
      },
      "execution_count": 74,
      "outputs": [
        {
          "output_type": "execute_result",
          "data": {
            "text/plain": [
              "True"
            ]
          },
          "metadata": {},
          "execution_count": 74
        }
      ]
    },
    {
      "cell_type": "markdown",
      "source": [
        "Setup device agnostic code: \n",
        "https://pytorch.org/docs/stable/notes/cuda.html"
      ],
      "metadata": {
        "id": "90jgHWrK8Vkw"
      }
    },
    {
      "cell_type": "code",
      "source": [
        "# Setup device agnostic code\n",
        "# Run on GPU if available, els default to CPU\n",
        "device = 'cuda' if torch.cuda.is_available() else 'cpu'\n",
        "device"
      ],
      "metadata": {
        "colab": {
          "base_uri": "https://localhost:8080/",
          "height": 37
        },
        "id": "3sIgGmPt7Xnz",
        "outputId": "5439a9a0-1746-4fec-bf8b-eb937e9a2b5d"
      },
      "execution_count": 75,
      "outputs": [
        {
          "output_type": "execute_result",
          "data": {
            "text/plain": [
              "'cuda'"
            ],
            "application/vnd.google.colaboratory.intrinsic+json": {
              "type": "string"
            }
          },
          "metadata": {},
          "execution_count": 75
        }
      ]
    },
    {
      "cell_type": "code",
      "source": [
        "# Count number of divices\n",
        "torch.cuda.device_count()"
      ],
      "metadata": {
        "colab": {
          "base_uri": "https://localhost:8080/"
        },
        "id": "PYJASAX_7-xJ",
        "outputId": "38410f0c-65d3-44b7-a898-267177c74ef3"
      },
      "execution_count": 76,
      "outputs": [
        {
          "output_type": "execute_result",
          "data": {
            "text/plain": [
              "1"
            ]
          },
          "metadata": {},
          "execution_count": 76
        }
      ]
    },
    {
      "cell_type": "markdown",
      "source": [
        "### Putting tensors (and models) on the GPU\n",
        "\n",
        "The rason we want our tensors/models on the GPU is because Using GPU results in faster computations."
      ],
      "metadata": {
        "id": "T1TQuewR89mJ"
      }
    },
    {
      "cell_type": "code",
      "source": [
        "# Create a tensor (default on the CPU)\n",
        "tensor = torch.tensor([1, 2, 3])\n",
        "\n",
        "# Tensor not on GPU\n",
        "tensor, tensor.device"
      ],
      "metadata": {
        "colab": {
          "base_uri": "https://localhost:8080/"
        },
        "id": "rG-lxENo8Kkn",
        "outputId": "22afb0fd-a8a4-4774-e686-553daa142830"
      },
      "execution_count": 78,
      "outputs": [
        {
          "output_type": "execute_result",
          "data": {
            "text/plain": [
              "(tensor([1, 2, 3]), device(type='cpu'))"
            ]
          },
          "metadata": {},
          "execution_count": 78
        }
      ]
    },
    {
      "cell_type": "code",
      "source": [
        "# Move tensor to GPU (if available)\n",
        "tensor_on_gpu = tensor.to(device)\n",
        "tensor_on_gpu"
      ],
      "metadata": {
        "colab": {
          "base_uri": "https://localhost:8080/"
        },
        "id": "iiv2o3la9pGW",
        "outputId": "0aeb7362-dd43-44e8-8bc1-e90b9a1a79aa"
      },
      "execution_count": 79,
      "outputs": [
        {
          "output_type": "execute_result",
          "data": {
            "text/plain": [
              "tensor([1, 2, 3], device='cuda:0')"
            ]
          },
          "metadata": {},
          "execution_count": 79
        }
      ]
    },
    {
      "cell_type": "markdown",
      "source": [
        "### Moving back tensors to the CPU\n",
        "\n",
        "**If tensor is on GPU, can't transform it to NumPy** -> *To fix GPU tensor with NumPy issue, we can first set it on CPU*"
      ],
      "metadata": {
        "id": "FTZ0bCYT-Unq"
      }
    },
    {
      "cell_type": "code",
      "source": [
        "tensor_back_on_cpu = tensor_on_gpu.cpu().numpy()\n",
        "tensor_back_on_cpu"
      ],
      "metadata": {
        "colab": {
          "base_uri": "https://localhost:8080/"
        },
        "id": "NmySPWQ29_d0",
        "outputId": "4e01c1e1-9354-4473-e2ef-b83e151773b2"
      },
      "execution_count": 80,
      "outputs": [
        {
          "output_type": "execute_result",
          "data": {
            "text/plain": [
              "array([1, 2, 3])"
            ]
          },
          "metadata": {},
          "execution_count": 80
        }
      ]
    },
    {
      "cell_type": "markdown",
      "source": [
        "# Exercises"
      ],
      "metadata": {
        "id": "NTqScTp-_yyR"
      }
    },
    {
      "cell_type": "code",
      "source": [
        "import torch"
      ],
      "metadata": {
        "id": "mVQKEUgUArP1"
      },
      "execution_count": 83,
      "outputs": []
    },
    {
      "cell_type": "code",
      "source": [
        "# 1. Create a random tensor with shape (7, 7).\n",
        "tensor_A = torch.rand(7, 7)\n",
        "tensor_A, tensor_A.shape"
      ],
      "metadata": {
        "colab": {
          "base_uri": "https://localhost:8080/"
        },
        "id": "PKIUzYUl_UT9",
        "outputId": "073e0d0d-cd64-4789-cb18-9a5a249d21ef"
      },
      "execution_count": 89,
      "outputs": [
        {
          "output_type": "execute_result",
          "data": {
            "text/plain": [
              "(tensor([[0.6161, 0.7583, 0.5907, 0.3219, 0.7610, 0.7628, 0.6870],\n",
              "         [0.4121, 0.3676, 0.5535, 0.4117, 0.3510, 0.8196, 0.9297],\n",
              "         [0.4505, 0.3881, 0.5073, 0.4701, 0.6202, 0.6401, 0.0459],\n",
              "         [0.3155, 0.9211, 0.6948, 0.4751, 0.1985, 0.1941, 0.0521],\n",
              "         [0.3370, 0.6689, 0.8188, 0.7308, 0.0580, 0.1993, 0.4211],\n",
              "         [0.9837, 0.5723, 0.3705, 0.7069, 0.3096, 0.1764, 0.8649],\n",
              "         [0.2726, 0.3998, 0.0026, 0.8346, 0.8788, 0.6822, 0.1514]]),\n",
              " torch.Size([7, 7]))"
            ]
          },
          "metadata": {},
          "execution_count": 89
        }
      ]
    },
    {
      "cell_type": "code",
      "source": [
        "# 2. Perform a matrix multiplication on the tensor from 2 with another random tensor with shape (1, 7)\n",
        "tensor_B = torch.rand(1, 7)\n",
        "\n",
        "result = torch.mm(tensor_A, tensor_B.T)\n",
        "result, result.shape"
      ],
      "metadata": {
        "colab": {
          "base_uri": "https://localhost:8080/"
        },
        "id": "do3G_GDbADru",
        "outputId": "26dd0308-c1b5-4c24-ee8e-f0dc87f95300"
      },
      "execution_count": 91,
      "outputs": [
        {
          "output_type": "execute_result",
          "data": {
            "text/plain": [
              "(tensor([[1.4533],\n",
              "         [1.1283],\n",
              "         [0.9393],\n",
              "         [0.5417],\n",
              "         [0.5890],\n",
              "         [1.2134],\n",
              "         [1.0634]]),\n",
              " torch.Size([7, 1]))"
            ]
          },
          "metadata": {},
          "execution_count": 91
        }
      ]
    },
    {
      "cell_type": "code",
      "source": [
        "# 3. Set the random seed to 0 and do exercises 1 & 2 over again\n",
        "\n",
        "torch.manual_seed(0)\n",
        "X = torch.rand(7, 7)\n",
        "\n",
        "torch.manual_seed(0)\n",
        "Y = torch.rand(1, 7)\n",
        "\n",
        "result = torch.mm(X, Y.T)\n",
        "result, result.shape"
      ],
      "metadata": {
        "colab": {
          "base_uri": "https://localhost:8080/"
        },
        "id": "Q2UmxQMSA0l7",
        "outputId": "72ce4380-79e6-41f9-eb2d-c9a9c10b9dbc"
      },
      "execution_count": 95,
      "outputs": [
        {
          "output_type": "execute_result",
          "data": {
            "text/plain": [
              "(tensor([[1.8542],\n",
              "         [1.9611],\n",
              "         [2.2884],\n",
              "         [3.0481],\n",
              "         [1.7067],\n",
              "         [2.5290],\n",
              "         [1.7989]]),\n",
              " torch.Size([7, 1]))"
            ]
          },
          "metadata": {},
          "execution_count": 95
        }
      ]
    },
    {
      "cell_type": "code",
      "source": [
        "# 4. Speaking of random seeds, we saw how to set it with torch.manual_seed() but is there a GPU equivalent?\n",
        "torch.cuda.manual_seed(123)"
      ],
      "metadata": {
        "id": "4ckPyG-CCEB_"
      },
      "execution_count": 98,
      "outputs": []
    },
    {
      "cell_type": "code",
      "source": [
        "# 5. Create two random tensors of shape (2, 3) and send them both to the GPU\n",
        "device = \"cuda\" if torch.cuda.is_available() else \"cpu\"\n",
        "print(f\"Device: {device}\")\n",
        "\n",
        "torch.manual_seed(123)\n",
        "X = torch.rand(2, 3).to(device)\n",
        "\n",
        "torch.manual_seed(123)\n",
        "Y = torch.rand(2, 3).to(device)\n",
        "\n",
        "X, Y"
      ],
      "metadata": {
        "colab": {
          "base_uri": "https://localhost:8080/"
        },
        "id": "bm_v_7V-C2aA",
        "outputId": "01957fda-f06d-426a-d08b-adc3343277af"
      },
      "execution_count": 104,
      "outputs": [
        {
          "output_type": "stream",
          "name": "stdout",
          "text": [
            "Device: cuda\n"
          ]
        },
        {
          "output_type": "execute_result",
          "data": {
            "text/plain": [
              "(tensor([[0.2961, 0.5166, 0.2517],\n",
              "         [0.6886, 0.0740, 0.8665]], device='cuda:0'),\n",
              " tensor([[0.2961, 0.5166, 0.2517],\n",
              "         [0.6886, 0.0740, 0.8665]], device='cuda:0'))"
            ]
          },
          "metadata": {},
          "execution_count": 104
        }
      ]
    },
    {
      "cell_type": "code",
      "source": [
        "# 6. Perform a matrix multiplication on the tensors you created in 5.\n",
        "result = torch.mm(X, Y.T)\n",
        "result, result.shape "
      ],
      "metadata": {
        "colab": {
          "base_uri": "https://localhost:8080/"
        },
        "id": "ha0EK0jPDM3h",
        "outputId": "7094ab05-9b1d-420e-f794-4966fa74abfc"
      },
      "execution_count": 105,
      "outputs": [
        {
          "output_type": "execute_result",
          "data": {
            "text/plain": [
              "(tensor([[0.4179, 0.4602],\n",
              "         [0.4602, 1.2304]], device='cuda:0'),\n",
              " torch.Size([2, 2]))"
            ]
          },
          "metadata": {},
          "execution_count": 105
        }
      ]
    },
    {
      "cell_type": "code",
      "source": [
        "# 7. Find the maximum and minimum values of the output of 6.\n",
        "minimum = result.min()\n",
        "maximum = result.max()\n",
        "minimum, maximum"
      ],
      "metadata": {
        "colab": {
          "base_uri": "https://localhost:8080/"
        },
        "id": "jZr9l5-HEPSc",
        "outputId": "a4c78b85-3b02-44bf-9658-786642fcf5da"
      },
      "execution_count": 107,
      "outputs": [
        {
          "output_type": "execute_result",
          "data": {
            "text/plain": [
              "(tensor(0.4179, device='cuda:0'), tensor(1.2304, device='cuda:0'))"
            ]
          },
          "metadata": {},
          "execution_count": 107
        }
      ]
    },
    {
      "cell_type": "code",
      "source": [
        "# 8. Find the maximum and minimum index values of the output of 6. \n",
        "min_index = result.argmin()\n",
        "max_index = result.argmax()\n",
        "min_index, max_index"
      ],
      "metadata": {
        "colab": {
          "base_uri": "https://localhost:8080/"
        },
        "id": "WfA68e-gEjFj",
        "outputId": "7c36416c-2df4-4039-825f-e53ea03abb1b"
      },
      "execution_count": 108,
      "outputs": [
        {
          "output_type": "execute_result",
          "data": {
            "text/plain": [
              "(tensor(0, device='cuda:0'), tensor(3, device='cuda:0'))"
            ]
          },
          "metadata": {},
          "execution_count": 108
        }
      ]
    },
    {
      "cell_type": "code",
      "source": [
        "# 9. Make a random tensor with shape (1, 1, 1, 10) and then create a new tensor \n",
        "# with all the 1 dimensions removed to be left with a tensor of shape (10). \n",
        "# Set the seed to 7 when you create it and print out the first tensor \n",
        "# and it's shape as well as the second tensor and it's shape.\n",
        "\n",
        "torch.manual_seed(7)\n",
        "\n",
        "random_tensor = torch.rand(1, 1, 1, 10)\n",
        "print(random_tensor.shape)\n",
        "\n",
        "new_tensor = torch.squeeze(random_tensor)\n",
        "print(new_tensor.shape)"
      ],
      "metadata": {
        "colab": {
          "base_uri": "https://localhost:8080/"
        },
        "id": "ciuT1CdWE4J9",
        "outputId": "ec7b4774-f820-4b31-9d56-b27c522acd25"
      },
      "execution_count": 113,
      "outputs": [
        {
          "output_type": "stream",
          "name": "stdout",
          "text": [
            "torch.Size([1, 1, 1, 10])\n",
            "torch.Size([10])\n"
          ]
        }
      ]
    },
    {
      "cell_type": "code",
      "source": [],
      "metadata": {
        "id": "u6YoT8MqFOkC"
      },
      "execution_count": null,
      "outputs": []
    }
  ]
}
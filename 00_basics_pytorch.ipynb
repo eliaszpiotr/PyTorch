{
  "nbformat": 4,
  "nbformat_minor": 0,
  "metadata": {
    "colab": {
      "provenance": [],
      "toc_visible": true
    },
    "kernelspec": {
      "name": "python3",
      "display_name": "Python 3"
    },
    "language_info": {
      "name": "python"
    },
    "gpuClass": "standard"
  },
  "cells": [
    {
      "cell_type": "markdown",
      "source": [
        "#PyTorch Basics"
      ],
      "metadata": {
        "id": "eMhUsrD2xSnd"
      }
    },
    {
      "cell_type": "markdown",
      "source": [
        "## Importing PyTorch and needed libraries\n",
        "\n"
      ],
      "metadata": {
        "id": "OAge_8_g5MWk"
      }
    },
    {
      "cell_type": "code",
      "source": [
        "import torch\n",
        "import pandas as pd\n",
        "import numpy as np\n",
        "import matplotlib.pyplot as plt\n",
        "print(torch.__version__)"
      ],
      "metadata": {
        "colab": {
          "base_uri": "https://localhost:8080/"
        },
        "id": "7nNDSXHV5E-9",
        "outputId": "b3d84ac5-f5a7-4a50-c0d2-63a2a1dc64f8"
      },
      "execution_count": 4,
      "outputs": [
        {
          "output_type": "stream",
          "name": "stdout",
          "text": [
            "2.0.0+cu118\n"
          ]
        }
      ]
    },
    {
      "cell_type": "markdown",
      "source": [
        "## Introduction to Tensors\n",
        "https://pytorch.org/docs/stable/index.html"
      ],
      "metadata": {
        "id": "-qE2E23X6zK1"
      }
    },
    {
      "cell_type": "markdown",
      "source": [
        "#### Creating Tensors\n",
        "\n",
        "*PyTorch tensors are created using `torch.tensor()`*  \n",
        "https://pytorch.org/docs/stable/tensors.html"
      ],
      "metadata": {
        "id": "YXvZijc07u0h"
      }
    },
    {
      "cell_type": "markdown",
      "source": [
        "##### Scalars\n",
        "*Scalars are commonly used in PyTorch to represent single numerical values, such as loss or accuracy metrics.*\n"
      ],
      "metadata": {
        "id": "EnPOxbSw8YRh"
      }
    },
    {
      "cell_type": "code",
      "source": [
        "scalar = torch.tensor(7)\n",
        "scalar"
      ],
      "metadata": {
        "colab": {
          "base_uri": "https://localhost:8080/"
        },
        "id": "0lgsaioa72wO",
        "outputId": "38d57950-2eed-4fab-cff9-4bc2d038556a"
      },
      "execution_count": 5,
      "outputs": [
        {
          "output_type": "execute_result",
          "data": {
            "text/plain": [
              "tensor(7)"
            ]
          },
          "metadata": {},
          "execution_count": 5
        }
      ]
    },
    {
      "cell_type": "markdown",
      "source": [
        "Scalar has no dimension"
      ],
      "metadata": {
        "id": "PRf6I6PD9iPC"
      }
    },
    {
      "cell_type": "code",
      "source": [
        "scalar.ndim"
      ],
      "metadata": {
        "colab": {
          "base_uri": "https://localhost:8080/"
        },
        "id": "jDDuJW3z8E0t",
        "outputId": "fa71d024-79a7-4996-fcb3-e7130c2cf1bd"
      },
      "execution_count": 6,
      "outputs": [
        {
          "output_type": "execute_result",
          "data": {
            "text/plain": [
              "0"
            ]
          },
          "metadata": {},
          "execution_count": 6
        }
      ]
    },
    {
      "cell_type": "markdown",
      "source": [
        "Get tensor back as Python int"
      ],
      "metadata": {
        "id": "E5LIW-2b9-AW"
      }
    },
    {
      "cell_type": "code",
      "source": [
        "scalar.item()"
      ],
      "metadata": {
        "colab": {
          "base_uri": "https://localhost:8080/"
        },
        "id": "4gfqmxTh9Pwg",
        "outputId": "2ba16e50-4938-4deb-a18b-45cd89f9d056"
      },
      "execution_count": 7,
      "outputs": [
        {
          "output_type": "execute_result",
          "data": {
            "text/plain": [
              "7"
            ]
          },
          "metadata": {},
          "execution_count": 7
        }
      ]
    },
    {
      "cell_type": "markdown",
      "source": [
        "##### Vectors\n",
        "*In PyTorch, a vector is a one-dimensional tensor that contains a sequence of numerical values.*"
      ],
      "metadata": {
        "id": "effCo3tI-SCH"
      }
    },
    {
      "cell_type": "code",
      "source": [
        "vector = torch.tensor([7,7])\n",
        "vector"
      ],
      "metadata": {
        "colab": {
          "base_uri": "https://localhost:8080/"
        },
        "id": "kG3nH47G9t0g",
        "outputId": "ed33abf5-8147-4dde-c7ec-8d77a708ed5f"
      },
      "execution_count": 8,
      "outputs": [
        {
          "output_type": "execute_result",
          "data": {
            "text/plain": [
              "tensor([7, 7])"
            ]
          },
          "metadata": {},
          "execution_count": 8
        }
      ]
    },
    {
      "cell_type": "markdown",
      "source": [
        "Vector has one dimension"
      ],
      "metadata": {
        "id": "px_nqdno-yA6"
      }
    },
    {
      "cell_type": "code",
      "source": [
        "vector.ndim"
      ],
      "metadata": {
        "colab": {
          "base_uri": "https://localhost:8080/"
        },
        "id": "_ToSYQx6-ZGF",
        "outputId": "7b5a9283-caf5-42df-b404-239e4c30203e"
      },
      "execution_count": 9,
      "outputs": [
        {
          "output_type": "execute_result",
          "data": {
            "text/plain": [
              "1"
            ]
          },
          "metadata": {},
          "execution_count": 9
        }
      ]
    },
    {
      "cell_type": "code",
      "source": [
        "vector.shape"
      ],
      "metadata": {
        "colab": {
          "base_uri": "https://localhost:8080/"
        },
        "id": "6YKiOMF--wLT",
        "outputId": "c151d3ba-2436-4a90-e728-b3443436b156"
      },
      "execution_count": 10,
      "outputs": [
        {
          "output_type": "execute_result",
          "data": {
            "text/plain": [
              "torch.Size([2])"
            ]
          },
          "metadata": {},
          "execution_count": 10
        }
      ]
    },
    {
      "cell_type": "markdown",
      "source": [
        "##### Matrix"
      ],
      "metadata": {
        "id": "358xDX6n_Knd"
      }
    },
    {
      "cell_type": "code",
      "source": [
        "MATRIX = torch.tensor([[7, 8],\n",
        "                       [9, 10]])\n",
        "\n",
        "MATRIX"
      ],
      "metadata": {
        "colab": {
          "base_uri": "https://localhost:8080/"
        },
        "id": "jPLBiWlX_Bec",
        "outputId": "7ac6e63f-6c79-41c5-cec1-1134c5597d78"
      },
      "execution_count": 11,
      "outputs": [
        {
          "output_type": "execute_result",
          "data": {
            "text/plain": [
              "tensor([[ 7,  8],\n",
              "        [ 9, 10]])"
            ]
          },
          "metadata": {},
          "execution_count": 11
        }
      ]
    },
    {
      "cell_type": "markdown",
      "source": [
        "Matrix has two dimensions"
      ],
      "metadata": {
        "id": "3DDNYNJp_qZT"
      }
    },
    {
      "cell_type": "code",
      "source": [
        "MATRIX.ndim"
      ],
      "metadata": {
        "colab": {
          "base_uri": "https://localhost:8080/"
        },
        "id": "owoV5Zt0_Y2-",
        "outputId": "6f38fa20-eefb-4713-b2b4-1cf793d12e84"
      },
      "execution_count": 12,
      "outputs": [
        {
          "output_type": "execute_result",
          "data": {
            "text/plain": [
              "2"
            ]
          },
          "metadata": {},
          "execution_count": 12
        }
      ]
    },
    {
      "cell_type": "code",
      "source": [
        "print(MATRIX[0])\n",
        "print(MATRIX[1])"
      ],
      "metadata": {
        "colab": {
          "base_uri": "https://localhost:8080/"
        },
        "id": "NCpLSomB_pk4",
        "outputId": "ceecfc9f-4f1b-4a3d-bf19-8d190f8986cd"
      },
      "execution_count": 13,
      "outputs": [
        {
          "output_type": "stream",
          "name": "stdout",
          "text": [
            "tensor([7, 8])\n",
            "tensor([ 9, 10])\n"
          ]
        }
      ]
    },
    {
      "cell_type": "code",
      "source": [
        "MATRIX.shape"
      ],
      "metadata": {
        "colab": {
          "base_uri": "https://localhost:8080/"
        },
        "id": "CkRac0Lf_2yR",
        "outputId": "1b0ccd71-b314-4c1f-fb5f-a235c57c761f"
      },
      "execution_count": 14,
      "outputs": [
        {
          "output_type": "execute_result",
          "data": {
            "text/plain": [
              "torch.Size([2, 2])"
            ]
          },
          "metadata": {},
          "execution_count": 14
        }
      ]
    },
    {
      "cell_type": "markdown",
      "source": [
        "##### Tensor\n",
        "*Tensors are a fundamental data structure in many deep learning frameworks, such as TensorFlow and PyTorch, and they can be used to represent a wide range of data, including images, audio, text, and numerical data.*"
      ],
      "metadata": {
        "id": "CFDl5RrN_-hN"
      }
    },
    {
      "cell_type": "code",
      "source": [
        "TENSOR = torch.tensor([[[1,2,3],\n",
        "                        [4,5,6],\n",
        "                        [7,8,9,]]])\n",
        "TENSOR"
      ],
      "metadata": {
        "colab": {
          "base_uri": "https://localhost:8080/"
        },
        "id": "0GZm5W4__53A",
        "outputId": "b97f0598-6128-4bb9-f570-1dde3d0077a2"
      },
      "execution_count": 15,
      "outputs": [
        {
          "output_type": "execute_result",
          "data": {
            "text/plain": [
              "tensor([[[1, 2, 3],\n",
              "         [4, 5, 6],\n",
              "         [7, 8, 9]]])"
            ]
          },
          "metadata": {},
          "execution_count": 15
        }
      ]
    },
    {
      "cell_type": "markdown",
      "source": [
        "Number of dimentions of our tensor"
      ],
      "metadata": {
        "id": "cflUmAiwAdtf"
      }
    },
    {
      "cell_type": "code",
      "source": [
        "TENSOR.ndim"
      ],
      "metadata": {
        "colab": {
          "base_uri": "https://localhost:8080/"
        },
        "id": "4ldsCfwOAX6d",
        "outputId": "cdf13691-e0af-4847-8a04-cfb44635d362"
      },
      "execution_count": 16,
      "outputs": [
        {
          "output_type": "execute_result",
          "data": {
            "text/plain": [
              "3"
            ]
          },
          "metadata": {},
          "execution_count": 16
        }
      ]
    },
    {
      "cell_type": "code",
      "source": [
        "TENSOR.shape"
      ],
      "metadata": {
        "colab": {
          "base_uri": "https://localhost:8080/"
        },
        "id": "5YzU3AIdAbwT",
        "outputId": "a0fc5996-f28a-4c27-9e30-f7cfd0e368e5"
      },
      "execution_count": 17,
      "outputs": [
        {
          "output_type": "execute_result",
          "data": {
            "text/plain": [
              "torch.Size([1, 3, 3])"
            ]
          },
          "metadata": {},
          "execution_count": 17
        }
      ]
    },
    {
      "cell_type": "code",
      "source": [
        "# dim=0\n",
        "TENSOR[0]"
      ],
      "metadata": {
        "colab": {
          "base_uri": "https://localhost:8080/"
        },
        "id": "Czr9POkXA0Ze",
        "outputId": "cf970536-a919-4dd6-bf34-54c9ad875e45"
      },
      "execution_count": 18,
      "outputs": [
        {
          "output_type": "execute_result",
          "data": {
            "text/plain": [
              "tensor([[1, 2, 3],\n",
              "        [4, 5, 6],\n",
              "        [7, 8, 9]])"
            ]
          },
          "metadata": {},
          "execution_count": 18
        }
      ]
    },
    {
      "cell_type": "markdown",
      "source": [
        "#### Random Tensors\n",
        "*Random tensors ar important because the way many neural networks learn is that start with tensor full of random numbers and then adjust those random numbers to beter represent the data*\n",
        "\n",
        "`Start with random numbers -> Look at data -> Update random numbers\n",
        "-> Look at data -> Update random numbers`\n",
        "\n",
        "Random tensors - https://pytorch.org/docs/stable/generated/torch.rand.html?highlight=torch+rand#torch.rand\n"
      ],
      "metadata": {
        "id": "_BvFKs2ADyNX"
      }
    },
    {
      "cell_type": "code",
      "source": [
        "# create random tensor (1, 3, 4)\n",
        "\n",
        "random_tensor = torch.rand(1, 3, 4)\n",
        "# random_tensor = torch.rand(size=(1, 3, 4))\n",
        "random_tensor"
      ],
      "metadata": {
        "colab": {
          "base_uri": "https://localhost:8080/"
        },
        "id": "BkxKNz86HNde",
        "outputId": "0ef69941-9393-4ecb-a426-d5a335d1cbfb"
      },
      "execution_count": 19,
      "outputs": [
        {
          "output_type": "execute_result",
          "data": {
            "text/plain": [
              "tensor([[[0.8981, 0.8513, 0.0674, 0.8811],\n",
              "         [0.4724, 0.9847, 0.7760, 0.2327],\n",
              "         [0.6336, 0.0649, 0.3282, 0.0113]]])"
            ]
          },
          "metadata": {},
          "execution_count": 19
        }
      ]
    },
    {
      "cell_type": "code",
      "source": [
        "random_tensor.ndim"
      ],
      "metadata": {
        "colab": {
          "base_uri": "https://localhost:8080/"
        },
        "id": "d4IorAQsHZbU",
        "outputId": "83af01df-1459-4df9-f01a-e18cf7023c44"
      },
      "execution_count": 20,
      "outputs": [
        {
          "output_type": "execute_result",
          "data": {
            "text/plain": [
              "3"
            ]
          },
          "metadata": {},
          "execution_count": 20
        }
      ]
    },
    {
      "cell_type": "code",
      "source": [
        "random_tensor.dtype"
      ],
      "metadata": {
        "colab": {
          "base_uri": "https://localhost:8080/"
        },
        "id": "T3JPFYybKkn2",
        "outputId": "5393e071-30c9-484f-ecef-e4ca2ebf904e"
      },
      "execution_count": 21,
      "outputs": [
        {
          "output_type": "execute_result",
          "data": {
            "text/plain": [
              "torch.float32"
            ]
          },
          "metadata": {},
          "execution_count": 21
        }
      ]
    },
    {
      "cell_type": "code",
      "source": [
        "# create a random tensor with similar shape to an image tensor\n",
        "\n",
        "random_image_size_tensor = torch.rand(size=(3, 224, 224)) # color chanels (R,G,B), height, width\n",
        "random_image_size_tensor.shape, random_image_size_tensor.ndim"
      ],
      "metadata": {
        "colab": {
          "base_uri": "https://localhost:8080/"
        },
        "id": "w9eVGjj5ILCy",
        "outputId": "e1cae925-20f8-491d-9891-cf24eceee5d5"
      },
      "execution_count": 22,
      "outputs": [
        {
          "output_type": "execute_result",
          "data": {
            "text/plain": [
              "(torch.Size([3, 224, 224]), 3)"
            ]
          },
          "metadata": {},
          "execution_count": 22
        }
      ]
    },
    {
      "cell_type": "markdown",
      "source": [
        "#### Zeros and ones"
      ],
      "metadata": {
        "id": "2ibG0lpiJ1Ak"
      }
    },
    {
      "cell_type": "code",
      "source": [
        "# create tensor full of all zeros\n",
        "\n",
        "zeros_tensor = torch.zeros(3, 4)\n",
        "zeros_tensor "
      ],
      "metadata": {
        "colab": {
          "base_uri": "https://localhost:8080/"
        },
        "id": "FHK-QxxwJzCY",
        "outputId": "02e91103-5ff8-4c08-96d1-baa9f8ce76b2"
      },
      "execution_count": 23,
      "outputs": [
        {
          "output_type": "execute_result",
          "data": {
            "text/plain": [
              "tensor([[0., 0., 0., 0.],\n",
              "        [0., 0., 0., 0.],\n",
              "        [0., 0., 0., 0.]])"
            ]
          },
          "metadata": {},
          "execution_count": 23
        }
      ]
    },
    {
      "cell_type": "code",
      "source": [
        "# create tensor full of all ones\n",
        "\n",
        "ones_tensor = torch.ones(3, 4)\n",
        "ones_tensor"
      ],
      "metadata": {
        "colab": {
          "base_uri": "https://localhost:8080/"
        },
        "id": "VG244GA0KJWz",
        "outputId": "45731123-4054-4306-bc06-e7ed1d792768"
      },
      "execution_count": 24,
      "outputs": [
        {
          "output_type": "execute_result",
          "data": {
            "text/plain": [
              "tensor([[1., 1., 1., 1.],\n",
              "        [1., 1., 1., 1.],\n",
              "        [1., 1., 1., 1.]])"
            ]
          },
          "metadata": {},
          "execution_count": 24
        }
      ]
    },
    {
      "cell_type": "markdown",
      "source": [
        "#### Creating a range of tensors and tensors-like"
      ],
      "metadata": {
        "id": "yY4Xq9z-KymK"
      }
    },
    {
      "cell_type": "code",
      "source": [
        "# Use torch.range() and get deprecated message, use torch.arange() insted\n",
        "\n",
        "one_to_ten = torch.arange(start=1, end=11, step=1)\n",
        "one_to_ten"
      ],
      "metadata": {
        "colab": {
          "base_uri": "https://localhost:8080/"
        },
        "id": "luVOZFSVKVr7",
        "outputId": "5e86577e-4fff-45d0-aa63-4046ed9bff90"
      },
      "execution_count": 25,
      "outputs": [
        {
          "output_type": "execute_result",
          "data": {
            "text/plain": [
              "tensor([ 1,  2,  3,  4,  5,  6,  7,  8,  9, 10])"
            ]
          },
          "metadata": {},
          "execution_count": 25
        }
      ]
    },
    {
      "cell_type": "code",
      "source": [
        "# Creating tensors like\n",
        "\n",
        "ten_zeroes = torch.zeros_like(input=one_to_ten)\n",
        "ten_zeroes"
      ],
      "metadata": {
        "colab": {
          "base_uri": "https://localhost:8080/"
        },
        "id": "C1wqaoKELHAT",
        "outputId": "f0fdd105-cf2f-4daa-9a99-44d2df2c93c3"
      },
      "execution_count": 26,
      "outputs": [
        {
          "output_type": "execute_result",
          "data": {
            "text/plain": [
              "tensor([0, 0, 0, 0, 0, 0, 0, 0, 0, 0])"
            ]
          },
          "metadata": {},
          "execution_count": 26
        }
      ]
    },
    {
      "cell_type": "markdown",
      "source": [
        "### Tensor Datatypes\n",
        "\n",
        "**Note:** Tensor datatypes is one of 3 big errors you'll run into with PyTorch and deep learning.\n",
        "\n",
        "Datatype - https://pytorch.org/docs/stable/tensor_attributes.html#torch.dtype\n",
        "Device - https://pytorch.org/docs/stable/tensor_attributes.html#torch.device\n",
        "\n"
      ],
      "metadata": {
        "id": "oYDEp4DbMyXe"
      }
    },
    {
      "cell_type": "code",
      "source": [
        "# Float 32 tensor\n",
        "\n",
        "float_32_tensor = torch.tensor([3.0, 6.0, 9.0], \n",
        "                               dtype=None,            # what datatype is the tensor (defeault: float 32) \n",
        "                               device=None,           # what device is your tensor on       \n",
        "                               requires_grad=False)   # whether or not to track gradients with this tensors operations\n",
        "float_32_tensor"
      ],
      "metadata": {
        "colab": {
          "base_uri": "https://localhost:8080/"
        },
        "id": "Dv72F2ZkL0tF",
        "outputId": "53e920ac-a54c-4de9-dc9c-317ea88228b8"
      },
      "execution_count": 27,
      "outputs": [
        {
          "output_type": "execute_result",
          "data": {
            "text/plain": [
              "tensor([3., 6., 9.])"
            ]
          },
          "metadata": {},
          "execution_count": 27
        }
      ]
    },
    {
      "cell_type": "code",
      "source": [
        "float_32_tensor.dtype"
      ],
      "metadata": {
        "colab": {
          "base_uri": "https://localhost:8080/"
        },
        "id": "XIRgtM7YM6V0",
        "outputId": "9684d475-e7fb-4e4d-974a-f2d9a0d6c2aa"
      },
      "execution_count": 28,
      "outputs": [
        {
          "output_type": "execute_result",
          "data": {
            "text/plain": [
              "torch.float32"
            ]
          },
          "metadata": {},
          "execution_count": 28
        }
      ]
    },
    {
      "cell_type": "code",
      "source": [
        "float_16_tensor = float_32_tensor.type(torch.float16)\n",
        "float_16_tensor"
      ],
      "metadata": {
        "colab": {
          "base_uri": "https://localhost:8080/"
        },
        "id": "wbGLYGGqN5_H",
        "outputId": "da53b43f-ca75-4710-edb4-3f91ecc4fcde"
      },
      "execution_count": 29,
      "outputs": [
        {
          "output_type": "execute_result",
          "data": {
            "text/plain": [
              "tensor([3., 6., 9.], dtype=torch.float16)"
            ]
          },
          "metadata": {},
          "execution_count": 29
        }
      ]
    },
    {
      "cell_type": "code",
      "source": [
        "float_64_tensor = torch.tensor([3.0, 6.0, 9.0], dtype=torch.float64)\n",
        "float_64_tensor"
      ],
      "metadata": {
        "colab": {
          "base_uri": "https://localhost:8080/"
        },
        "id": "FJbnOPW0RjTF",
        "outputId": "541f824f-7761-40c0-d22e-383269f21d5c"
      },
      "execution_count": 30,
      "outputs": [
        {
          "output_type": "execute_result",
          "data": {
            "text/plain": [
              "tensor([3., 6., 9.], dtype=torch.float64)"
            ]
          },
          "metadata": {},
          "execution_count": 30
        }
      ]
    },
    {
      "cell_type": "code",
      "source": [
        "bool_tensor = torch.tensor([1,0,1], dtype=torch.bool)\n",
        "bool_tensor, bool_tensor.dtype"
      ],
      "metadata": {
        "colab": {
          "base_uri": "https://localhost:8080/"
        },
        "id": "sbY6pYLXSCp6",
        "outputId": "cefbfc81-b878-4761-823b-a0ced781bebd"
      },
      "execution_count": 31,
      "outputs": [
        {
          "output_type": "execute_result",
          "data": {
            "text/plain": [
              "(tensor([ True, False,  True]), torch.bool)"
            ]
          },
          "metadata": {},
          "execution_count": 31
        }
      ]
    },
    {
      "cell_type": "markdown",
      "source": [
        "## Getting information from tensor\n",
        "\n",
        "1.   Tensors not right datatype: *to get datatype of a tensor use `tensor.dtype`*\n",
        "2.   Tensor not right shape (e.g. during matrix multiplication): *to get shape of a tensor use `tensor.shape`*\n",
        "3.   Tensor not on the right device: *to get divice from a tensor use `tensor.divice`*\n",
        "\n"
      ],
      "metadata": {
        "id": "3CBAElqQTtjE"
      }
    },
    {
      "cell_type": "code",
      "source": [
        "# Create a tensor \n",
        "tensor = torch.rand(2,3,4).type(torch.float64)"
      ],
      "metadata": {
        "id": "O0hzmLVZTMN7"
      },
      "execution_count": 32,
      "outputs": []
    },
    {
      "cell_type": "code",
      "source": [
        "# Finding out details about tensor\n",
        "\n",
        "print(tensor)\n",
        "print('\\nDetails of tensor:')\n",
        "print(f'\\t datatype: {tensor.dtype}')\n",
        "print(f'\\t shape: {tensor.shape}')\n",
        "print(f'\\t device: {tensor.device}')"
      ],
      "metadata": {
        "colab": {
          "base_uri": "https://localhost:8080/"
        },
        "id": "LQohNhfxU8VK",
        "outputId": "4f5bc9f7-9b55-4815-f036-5e5ae7fccd26"
      },
      "execution_count": 33,
      "outputs": [
        {
          "output_type": "stream",
          "name": "stdout",
          "text": [
            "tensor([[[0.5490, 0.5929, 0.6534, 0.3850],\n",
            "         [0.5180, 0.9458, 0.0139, 0.2307],\n",
            "         [0.9572, 0.3100, 0.1684, 0.0194]],\n",
            "\n",
            "        [[0.6471, 0.7717, 0.3582, 0.1716],\n",
            "         [0.8819, 0.4022, 0.6928, 0.2885],\n",
            "         [0.5948, 0.8987, 0.3045, 0.9817]]], dtype=torch.float64)\n",
            "\n",
            "Details of tensor:\n",
            "\t datatype: torch.float64\n",
            "\t shape: torch.Size([2, 3, 4])\n",
            "\t device: cpu\n"
          ]
        }
      ]
    },
    {
      "cell_type": "markdown",
      "source": [
        "## Manipulating tensors (tensors operations)\n",
        "\n",
        "Tensors operations:\n",
        "* addition\n",
        "* subtraction\n",
        "* multiplication (element-wise)\n",
        "* dvision\n",
        "* matrix multiplication\n",
        "\n",
        "\n",
        "\n",
        "\n",
        "\n"
      ],
      "metadata": {
        "id": "jJKUkJb7Wk45"
      }
    },
    {
      "cell_type": "markdown",
      "source": [
        "### Basic operations on tensors"
      ],
      "metadata": {
        "id": "vlyKDMcRyK86"
      }
    },
    {
      "cell_type": "code",
      "source": [
        "# Create a tensor and add 10 to it\n",
        "tensor = torch.tensor([1, 2, 3])\n",
        "tensor + 10"
      ],
      "metadata": {
        "colab": {
          "base_uri": "https://localhost:8080/"
        },
        "id": "N7RqA_YIVcgi",
        "outputId": "73be67ae-455f-4742-d1fd-8e15910dbb8b"
      },
      "execution_count": 34,
      "outputs": [
        {
          "output_type": "execute_result",
          "data": {
            "text/plain": [
              "tensor([11, 12, 13])"
            ]
          },
          "metadata": {},
          "execution_count": 34
        }
      ]
    },
    {
      "cell_type": "code",
      "source": [
        "# Multiply tensor by 10\n",
        "tensor * 10"
      ],
      "metadata": {
        "colab": {
          "base_uri": "https://localhost:8080/"
        },
        "id": "U0GCpKItXsbe",
        "outputId": "aee29c71-1fa8-4d5a-e307-d40a7faa2f86"
      },
      "execution_count": 35,
      "outputs": [
        {
          "output_type": "execute_result",
          "data": {
            "text/plain": [
              "tensor([10, 20, 30])"
            ]
          },
          "metadata": {},
          "execution_count": 35
        }
      ]
    },
    {
      "cell_type": "code",
      "source": [
        "# Substract 10 \n",
        "tensor - 10"
      ],
      "metadata": {
        "colab": {
          "base_uri": "https://localhost:8080/"
        },
        "id": "AONDPzq2X8Rd",
        "outputId": "e378a483-c72f-49a4-9b8b-9768d4efb1dd"
      },
      "execution_count": 36,
      "outputs": [
        {
          "output_type": "execute_result",
          "data": {
            "text/plain": [
              "tensor([-9, -8, -7])"
            ]
          },
          "metadata": {},
          "execution_count": 36
        }
      ]
    },
    {
      "cell_type": "code",
      "source": [
        "# We can use PyTorch in-build fonctions\n",
        "multiplied_tensor = torch.mul(tensor, 10)\n",
        "tensor_with_added_10 = torch.add(tensor, 10)\n",
        "\n",
        "multiplied_tensor, tensor_with_added_10"
      ],
      "metadata": {
        "colab": {
          "base_uri": "https://localhost:8080/"
        },
        "id": "O1fVtAlaYJpn",
        "outputId": "62745690-550f-4014-e272-646e30733653"
      },
      "execution_count": 37,
      "outputs": [
        {
          "output_type": "execute_result",
          "data": {
            "text/plain": [
              "(tensor([10, 20, 30]), tensor([11, 12, 13]))"
            ]
          },
          "metadata": {},
          "execution_count": 37
        }
      ]
    },
    {
      "cell_type": "markdown",
      "source": [
        "### Matrix multiplication\n",
        "\n",
        "Two main ways of performing matrix multiplication in neural networks and deep learning:\n",
        "\n",
        "1. Element-wise multiplication\n",
        "2. Matrix multiplication (dot product): *use `torch.matmul()` or `torch.mm()` or `@`*\n",
        "    \n",
        "    https://pytorch.org/docs/stable/generated/torch.mm.html?highlight=torch+mm#torch.mm\n",
        "\n",
        "\n",
        "There are two matrix multiplication rules that must be followed:\n",
        "1. The **inner dimension** must match:\n",
        "  * `(3, 2) @ (3, 2)` won't work\n",
        "\n",
        "    `RuntimeError: mat1 and mat2 shapes cannot be multiplied (3x2 and 3x2)`\n",
        "  * `(3, 2) @ (2, 3)` will work\n",
        "2. The resulting matrix has the shape of the **outer dimensions**:\n",
        "  * `(3, 2) @ (2, 3) -> (3, 3)`"
      ],
      "metadata": {
        "id": "DaI28Wu9ZlNc"
      }
    },
    {
      "cell_type": "code",
      "source": [
        "# Element wise multiplication \n",
        "print(tensor, '*', tensor)\n",
        "print(tensor * tensor) # [(1*1), (2*2), (3*3)]\n"
      ],
      "metadata": {
        "colab": {
          "base_uri": "https://localhost:8080/"
        },
        "id": "BMcE90BJYkl4",
        "outputId": "5a09ffaf-bf0a-4157-f768-8d9a0a9d79f5"
      },
      "execution_count": 38,
      "outputs": [
        {
          "output_type": "stream",
          "name": "stdout",
          "text": [
            "tensor([1, 2, 3]) * tensor([1, 2, 3])\n",
            "tensor([1, 4, 9])\n"
          ]
        }
      ]
    },
    {
      "cell_type": "code",
      "source": [
        "# Matrix multiplication\n",
        "torch.matmul(tensor, tensor) # 1*1 + 2*2 + 3*3 = 14 "
      ],
      "metadata": {
        "colab": {
          "base_uri": "https://localhost:8080/"
        },
        "id": "Ss8F9rs5a61E",
        "outputId": "708faa1c-ea2a-43f6-b456-daebb4136166"
      },
      "execution_count": 39,
      "outputs": [
        {
          "output_type": "execute_result",
          "data": {
            "text/plain": [
              "tensor(14)"
            ]
          },
          "metadata": {},
          "execution_count": 39
        }
      ]
    },
    {
      "cell_type": "markdown",
      "source": [
        "## Most common errors in deep learning: \n",
        "1.   Tensors not right datatype\n",
        "2.   Tensor not right shape (e.g. during matrix multiplication)\n",
        "3.   Tensor not on the right device"
      ],
      "metadata": {
        "id": "b3LTmInLcRAB"
      }
    },
    {
      "cell_type": "markdown",
      "source": [
        "### Shape error"
      ],
      "metadata": {
        "id": "e-KTWO91svJ4"
      }
    },
    {
      "cell_type": "code",
      "source": [
        "# Shapes for matrix multiplication\n",
        "tensor_A = torch.tensor([[1, 2], \n",
        "                         [3, 4], \n",
        "                         [5, 6]])\n",
        "tensor_B = torch.tensor([[7, 10], \n",
        "                         [8, 11], \n",
        "                         [9, 12]])"
      ],
      "metadata": {
        "id": "v5_y9OghbADA"
      },
      "execution_count": 40,
      "outputs": []
    },
    {
      "cell_type": "code",
      "source": [
        "# torch.mm(tensor_A, tensor_B)"
      ],
      "metadata": {
        "id": "nkllvQ0vfIgi"
      },
      "execution_count": 41,
      "outputs": []
    },
    {
      "cell_type": "code",
      "source": [
        "# It doesn't work because \n",
        "tensor_A.shape, tensor_B.shape"
      ],
      "metadata": {
        "colab": {
          "base_uri": "https://localhost:8080/"
        },
        "id": "Eh-PXJtsfSjX",
        "outputId": "2d8ea994-8db2-4af0-9f48-3435b643d051"
      },
      "execution_count": 42,
      "outputs": [
        {
          "output_type": "execute_result",
          "data": {
            "text/plain": [
              "(torch.Size([3, 2]), torch.Size([3, 2]))"
            ]
          },
          "metadata": {},
          "execution_count": 42
        }
      ]
    },
    {
      "cell_type": "markdown",
      "source": [
        "**Note:** To fix our tensor shape issues, we can manipulate shape of one of our tensors using `transpose`."
      ],
      "metadata": {
        "id": "UKQ2IDRWf3NH"
      }
    },
    {
      "cell_type": "code",
      "source": [
        "tensor_B.T, tensor_B.T.shape"
      ],
      "metadata": {
        "colab": {
          "base_uri": "https://localhost:8080/"
        },
        "id": "2Fyp50ugf1R1",
        "outputId": "3c57ad09-8df4-405c-c0a0-31e2561e54cc"
      },
      "execution_count": 43,
      "outputs": [
        {
          "output_type": "execute_result",
          "data": {
            "text/plain": [
              "(tensor([[ 7,  8,  9],\n",
              "         [10, 11, 12]]),\n",
              " torch.Size([2, 3]))"
            ]
          },
          "metadata": {},
          "execution_count": 43
        }
      ]
    },
    {
      "cell_type": "code",
      "source": [
        "# It will works because we have two matrix multiplication with shapes (3, 2)x(2, 3)\n",
        "torch.matmul(tensor_A, tensor_B.T)"
      ],
      "metadata": {
        "colab": {
          "base_uri": "https://localhost:8080/"
        },
        "id": "VjmltT57gLRI",
        "outputId": "0bd1230e-600d-42ee-a337-63b67ceb2c8b"
      },
      "execution_count": 44,
      "outputs": [
        {
          "output_type": "execute_result",
          "data": {
            "text/plain": [
              "tensor([[ 27,  30,  33],\n",
              "        [ 61,  68,  75],\n",
              "        [ 95, 106, 117]])"
            ]
          },
          "metadata": {},
          "execution_count": 44
        }
      ]
    },
    {
      "cell_type": "markdown",
      "source": [
        "## Finding the min, max, mean, sum, etc. (tensor agregation)"
      ],
      "metadata": {
        "id": "WTcz_mhjhAY8"
      }
    },
    {
      "cell_type": "code",
      "source": [
        "# Create a tensor \n",
        "x = torch.arange(0, 100, 10)\n",
        "x, x.dtype"
      ],
      "metadata": {
        "colab": {
          "base_uri": "https://localhost:8080/"
        },
        "id": "vA8YS2Wpgd_D",
        "outputId": "3764d730-d07b-4c8e-ce2a-b39aa2b8ab4d"
      },
      "execution_count": 45,
      "outputs": [
        {
          "output_type": "execute_result",
          "data": {
            "text/plain": [
              "(tensor([ 0, 10, 20, 30, 40, 50, 60, 70, 80, 90]), torch.int64)"
            ]
          },
          "metadata": {},
          "execution_count": 45
        }
      ]
    },
    {
      "cell_type": "code",
      "source": [
        "# Finding the min \n",
        "torch.min(x), x.min()"
      ],
      "metadata": {
        "colab": {
          "base_uri": "https://localhost:8080/"
        },
        "id": "90qkoTmOhOwe",
        "outputId": "c8b29604-9cee-432f-e2a0-83963cb6a656"
      },
      "execution_count": 46,
      "outputs": [
        {
          "output_type": "execute_result",
          "data": {
            "text/plain": [
              "(tensor(0), tensor(0))"
            ]
          },
          "metadata": {},
          "execution_count": 46
        }
      ]
    },
    {
      "cell_type": "code",
      "source": [
        "# Finding the max \n",
        "torch.max(x), x.max()"
      ],
      "metadata": {
        "colab": {
          "base_uri": "https://localhost:8080/"
        },
        "id": "XLKHT47Ahmeb",
        "outputId": "99c3d061-736d-4710-b8d7-2a9121e4a809"
      },
      "execution_count": 47,
      "outputs": [
        {
          "output_type": "execute_result",
          "data": {
            "text/plain": [
              "(tensor(90), tensor(90))"
            ]
          },
          "metadata": {},
          "execution_count": 47
        }
      ]
    },
    {
      "cell_type": "code",
      "source": [
        "# Finding the mean - note: the torch.mean() dunction requires a tensor of float32 datatype to work\n",
        "torch.mean(x.type(torch.float32)), x.type(torch.float32).mean()"
      ],
      "metadata": {
        "colab": {
          "base_uri": "https://localhost:8080/"
        },
        "id": "Ab6jrNfdhp8Q",
        "outputId": "4ec1907f-7266-40ef-b79d-2b76c7744819"
      },
      "execution_count": 48,
      "outputs": [
        {
          "output_type": "execute_result",
          "data": {
            "text/plain": [
              "(tensor(45.), tensor(45.))"
            ]
          },
          "metadata": {},
          "execution_count": 48
        }
      ]
    },
    {
      "cell_type": "code",
      "source": [
        "# Finding the sum \n",
        "torch.sum(x), x.sum()"
      ],
      "metadata": {
        "colab": {
          "base_uri": "https://localhost:8080/"
        },
        "id": "UtZgipsWhy-O",
        "outputId": "7d4ebdb7-8947-40eb-b00f-155579422fa6"
      },
      "execution_count": 49,
      "outputs": [
        {
          "output_type": "execute_result",
          "data": {
            "text/plain": [
              "(tensor(450), tensor(450))"
            ]
          },
          "metadata": {},
          "execution_count": 49
        }
      ]
    },
    {
      "cell_type": "code",
      "source": [
        "# Finding the standard deviation - note: the torch.std() dunction requires a tensor of float32 datatype to work\n",
        "torch.std(x.type(torch.float32)), x.type(torch.float32).std()"
      ],
      "metadata": {
        "colab": {
          "base_uri": "https://localhost:8080/"
        },
        "id": "_wxruLYBiQ6w",
        "outputId": "01998f8e-0477-40f9-ef04-2b038dacfc13"
      },
      "execution_count": 50,
      "outputs": [
        {
          "output_type": "execute_result",
          "data": {
            "text/plain": [
              "(tensor(30.2765), tensor(30.2765))"
            ]
          },
          "metadata": {},
          "execution_count": 50
        }
      ]
    },
    {
      "cell_type": "markdown",
      "source": [
        "## Finding the positional of min and max"
      ],
      "metadata": {
        "id": "IUyWJiFSjDuj"
      }
    },
    {
      "cell_type": "code",
      "source": [
        "# Find the position in tensor that has the minimum/maximum value with argmin() -> returns index of position\n",
        "x.argmin(), x.argmax()"
      ],
      "metadata": {
        "colab": {
          "base_uri": "https://localhost:8080/"
        },
        "id": "bK_vrxzxikkH",
        "outputId": "0e27c3df-dac7-4518-d368-81aa1d42956d"
      },
      "execution_count": 51,
      "outputs": [
        {
          "output_type": "execute_result",
          "data": {
            "text/plain": [
              "(tensor(0), tensor(9))"
            ]
          },
          "metadata": {},
          "execution_count": 51
        }
      ]
    },
    {
      "cell_type": "markdown",
      "source": [
        "## Reshaping, stacking, squeezing and unsqueezing tensors\n",
        "\n",
        "* Reshaping (`reshape()`) - reshapes an input tensor to a define shape\n",
        "  * **note:** `our new shape has to be equal as previous`\n",
        "* View (`view()`) - return a view od an input tensor of certain shape but keep yhe same memory as the orginal tensor\n",
        "* Stacking (`stack()`)- comnibe multiple tensors on top of each other (vstack) or side by side (hstack)\n",
        "* Squeeze (`squeeze()`) - removes all `1` dimension from a tensor\n",
        "* Unsqueeze (`unsqueeze(dim=1)`) - add `1` dimension to a target tensor \n",
        "* Permute (`permute()`) - return a view of the input with dimensions permuted (swapped) in a certain way"
      ],
      "metadata": {
        "id": "mdzbLfOXvaXR"
      }
    },
    {
      "cell_type": "code",
      "source": [
        "# Create a tensor\n",
        "x = torch.arange(1., 10.)\n",
        "x, x.shape"
      ],
      "metadata": {
        "colab": {
          "base_uri": "https://localhost:8080/"
        },
        "id": "jI-YTsO_inHW",
        "outputId": "0472c0f3-ff56-4844-d40a-fbdfb700ac83"
      },
      "execution_count": 52,
      "outputs": [
        {
          "output_type": "execute_result",
          "data": {
            "text/plain": [
              "(tensor([1., 2., 3., 4., 5., 6., 7., 8., 9.]), torch.Size([9]))"
            ]
          },
          "metadata": {},
          "execution_count": 52
        }
      ]
    },
    {
      "cell_type": "code",
      "source": [
        "# Add an extra dimension - note: our new shape has to be equal as previous 1*9=9\n",
        "x_reshaped = x.reshape(1, 9)\n",
        "print(x_reshaped, x_reshaped.shape)\n",
        "\n",
        "# We can also make (9, 1) because 9*1=9 \n",
        "x_reshaped_2 = x.reshape(9, 1) \n",
        "print(x_reshaped_2, x_reshaped_2.shape)"
      ],
      "metadata": {
        "colab": {
          "base_uri": "https://localhost:8080/"
        },
        "id": "GCKy2AwpymQ2",
        "outputId": "7be766cd-3434-4f71-d8ea-d9556e3ac631"
      },
      "execution_count": 53,
      "outputs": [
        {
          "output_type": "stream",
          "name": "stdout",
          "text": [
            "tensor([[1., 2., 3., 4., 5., 6., 7., 8., 9.]]) torch.Size([1, 9])\n",
            "tensor([[1.],\n",
            "        [2.],\n",
            "        [3.],\n",
            "        [4.],\n",
            "        [5.],\n",
            "        [6.],\n",
            "        [7.],\n",
            "        [8.],\n",
            "        [9.]]) torch.Size([9, 1])\n"
          ]
        }
      ]
    },
    {
      "cell_type": "code",
      "source": [
        "# Change the view\n",
        "z = x.view(1, 9)\n",
        "z, z.shape"
      ],
      "metadata": {
        "colab": {
          "base_uri": "https://localhost:8080/"
        },
        "id": "-pPhwnqCy3mJ",
        "outputId": "277ac05b-9c2c-453e-f49a-7899bdf904ca"
      },
      "execution_count": 54,
      "outputs": [
        {
          "output_type": "execute_result",
          "data": {
            "text/plain": [
              "(tensor([[1., 2., 3., 4., 5., 6., 7., 8., 9.]]), torch.Size([1, 9]))"
            ]
          },
          "metadata": {},
          "execution_count": 54
        }
      ]
    },
    {
      "cell_type": "code",
      "source": [
        "# Changing z changes x (because a view of a tensor shares the same memory as the orginal input)\n",
        "z[:, 0] = 5\n",
        "z, x"
      ],
      "metadata": {
        "colab": {
          "base_uri": "https://localhost:8080/"
        },
        "id": "BzrCVjIW0epd",
        "outputId": "e5d3f21d-0968-45fa-ddf8-739afabce636"
      },
      "execution_count": 55,
      "outputs": [
        {
          "output_type": "execute_result",
          "data": {
            "text/plain": [
              "(tensor([[5., 2., 3., 4., 5., 6., 7., 8., 9.]]),\n",
              " tensor([5., 2., 3., 4., 5., 6., 7., 8., 9.]))"
            ]
          },
          "metadata": {},
          "execution_count": 55
        }
      ]
    },
    {
      "cell_type": "code",
      "source": [
        "# Stack tensors on top of each other\n",
        "x_stacked = torch.stack([x, x, x, x], dim=0)\n",
        "x_stacked"
      ],
      "metadata": {
        "colab": {
          "base_uri": "https://localhost:8080/"
        },
        "id": "u6I85pbY1Gz1",
        "outputId": "1fc4bb31-a012-46e7-ebfd-9c35334f03f7"
      },
      "execution_count": 56,
      "outputs": [
        {
          "output_type": "execute_result",
          "data": {
            "text/plain": [
              "tensor([[5., 2., 3., 4., 5., 6., 7., 8., 9.],\n",
              "        [5., 2., 3., 4., 5., 6., 7., 8., 9.],\n",
              "        [5., 2., 3., 4., 5., 6., 7., 8., 9.],\n",
              "        [5., 2., 3., 4., 5., 6., 7., 8., 9.]])"
            ]
          },
          "metadata": {},
          "execution_count": 56
        }
      ]
    },
    {
      "cell_type": "code",
      "source": [
        "# Squeezing a tensor using\n",
        "## torch.squeeze()- removes all single dimensions from a target tensor\n",
        "x_squeezed = torch.squeeze(x)\n",
        "x_squeezed, x_squeezed.shape"
      ],
      "metadata": {
        "colab": {
          "base_uri": "https://localhost:8080/"
        },
        "id": "8DfZ5uOQ1j9N",
        "outputId": "80af3b54-c59c-4e76-db58-26a011197077"
      },
      "execution_count": 57,
      "outputs": [
        {
          "output_type": "execute_result",
          "data": {
            "text/plain": [
              "(tensor([5., 2., 3., 4., 5., 6., 7., 8., 9.]), torch.Size([9]))"
            ]
          },
          "metadata": {},
          "execution_count": 57
        }
      ]
    },
    {
      "cell_type": "code",
      "source": [
        "# For better visualization of squeezing a tensor\n",
        "print(f\"Previous tensor: {x_reshaped}\")\n",
        "print(f\"Previous shape: {x_reshaped.shape}\")\n",
        "\n",
        "# Remove extra dimension from x_reshaped\n",
        "x_squeezed = x_reshaped.squeeze()\n",
        "print(f\"\\nNew tensor: {x_squeezed}\")\n",
        "print(f\"New shape: {x_squeezed.shape}\")"
      ],
      "metadata": {
        "colab": {
          "base_uri": "https://localhost:8080/"
        },
        "id": "gwKggEji2l8n",
        "outputId": "2eed7fe6-e588-4b1e-fabd-a38933b6ba2f"
      },
      "execution_count": 58,
      "outputs": [
        {
          "output_type": "stream",
          "name": "stdout",
          "text": [
            "Previous tensor: tensor([[5., 2., 3., 4., 5., 6., 7., 8., 9.]])\n",
            "Previous shape: torch.Size([1, 9])\n",
            "\n",
            "New tensor: tensor([5., 2., 3., 4., 5., 6., 7., 8., 9.])\n",
            "New shape: torch.Size([9])\n"
          ]
        }
      ]
    },
    {
      "cell_type": "code",
      "source": [
        "# Unsqueeze a tensor\n",
        "## torch.unsqueeze()- adds a single dimensions to a target tensor ta s specific dim (dimension)\n",
        "x_unsqueezed = x_squeezed.unsqueeze(dim=0)\n",
        "x_unsqueezed, x_unsqueezed.shape"
      ],
      "metadata": {
        "colab": {
          "base_uri": "https://localhost:8080/"
        },
        "id": "Mhz5bq3GkVil",
        "outputId": "75aec3a0-8058-4bc0-da43-39f502abb0c0"
      },
      "execution_count": 59,
      "outputs": [
        {
          "output_type": "execute_result",
          "data": {
            "text/plain": [
              "(tensor([[5., 2., 3., 4., 5., 6., 7., 8., 9.]]), torch.Size([1, 9]))"
            ]
          },
          "metadata": {},
          "execution_count": 59
        }
      ]
    },
    {
      "cell_type": "code",
      "source": [
        "# For better visualization of unsqueezing a tensor\n",
        "print(f\"Previous tensor: {x_squeezed}\")\n",
        "print(f\"Previous shape: {x_squeezed.shape}\")\n",
        "\n",
        "# Add an extra dimension with unsqueeze\n",
        "x_unsqueezed = x_squeezed.unsqueeze(dim=0)\n",
        "print(f\"\\nNew tensor: {x_unsqueezed}\")\n",
        "print(f\"New shape: {x_unsqueezed.shape}\")"
      ],
      "metadata": {
        "colab": {
          "base_uri": "https://localhost:8080/"
        },
        "id": "o1_GIKSCj94E",
        "outputId": "c0a4bf1f-3331-45bb-d34b-e66ae5f9599b"
      },
      "execution_count": 60,
      "outputs": [
        {
          "output_type": "stream",
          "name": "stdout",
          "text": [
            "Previous tensor: tensor([5., 2., 3., 4., 5., 6., 7., 8., 9.])\n",
            "Previous shape: torch.Size([9])\n",
            "\n",
            "New tensor: tensor([[5., 2., 3., 4., 5., 6., 7., 8., 9.]])\n",
            "New shape: torch.Size([1, 9])\n"
          ]
        }
      ]
    },
    {
      "cell_type": "code",
      "source": [
        "# torch.permute() - rearranges the dimensions of a target tensor in a specified order\n",
        "x_orginal = torch.rand(size=(224, 224, 3)) # (height, width, color_chanels)- common for image data \n",
        "\n",
        "# Permute the orginal tensor to rearrange the axis (or dim) order\n",
        "x_permured = x_orginal.permute(2, 0, 1) # shifts axis order -> (color_chanels, height, width)\n",
        "\n",
        "print(f'Previous shape: {x_orginal.shape}')\n",
        "print(f'New shape: {x_permured.shape}')"
      ],
      "metadata": {
        "colab": {
          "base_uri": "https://localhost:8080/"
        },
        "id": "6EZQ-zkmlySF",
        "outputId": "c1caae49-3e41-4b31-d873-120d9f5be81c"
      },
      "execution_count": 61,
      "outputs": [
        {
          "output_type": "stream",
          "name": "stdout",
          "text": [
            "Previous shape: torch.Size([224, 224, 3])\n",
            "New shape: torch.Size([3, 224, 224])\n"
          ]
        }
      ]
    },
    {
      "cell_type": "markdown",
      "source": [
        "## Indexing (selecting data from tensor)\n"
      ],
      "metadata": {
        "id": "_rmBW60Xn8s5"
      }
    },
    {
      "cell_type": "code",
      "source": [
        "# Create a tensor\n",
        "x = torch.arange(1, 10).reshape(1, 3, 3)\n",
        "x, x.shape"
      ],
      "metadata": {
        "colab": {
          "base_uri": "https://localhost:8080/"
        },
        "id": "_Ic9GX9intXi",
        "outputId": "01be4c6a-64fd-413f-d8b2-7d1a98b999cf"
      },
      "execution_count": 62,
      "outputs": [
        {
          "output_type": "execute_result",
          "data": {
            "text/plain": [
              "(tensor([[[1, 2, 3],\n",
              "          [4, 5, 6],\n",
              "          [7, 8, 9]]]),\n",
              " torch.Size([1, 3, 3]))"
            ]
          },
          "metadata": {},
          "execution_count": 62
        }
      ]
    },
    {
      "cell_type": "code",
      "source": [
        "# Indexing the outer bracket of our tensor (dim=0)\n",
        "x[0]"
      ],
      "metadata": {
        "colab": {
          "base_uri": "https://localhost:8080/"
        },
        "id": "DOXdgeiEofEZ",
        "outputId": "26cb4bb1-81e8-4e8c-88ac-ee740cf7fe28"
      },
      "execution_count": 63,
      "outputs": [
        {
          "output_type": "execute_result",
          "data": {
            "text/plain": [
              "tensor([[1, 2, 3],\n",
              "        [4, 5, 6],\n",
              "        [7, 8, 9]])"
            ]
          },
          "metadata": {},
          "execution_count": 63
        }
      ]
    },
    {
      "cell_type": "code",
      "source": [
        "# Indexing the middle bracket (dim=1)\n",
        "x[0][0]\n",
        "x[0, 0] # works the same!"
      ],
      "metadata": {
        "colab": {
          "base_uri": "https://localhost:8080/"
        },
        "id": "CAZzc6PXoqLD",
        "outputId": "b2438bfc-68ad-40ea-d3ba-fc1a1f698b2a"
      },
      "execution_count": 64,
      "outputs": [
        {
          "output_type": "execute_result",
          "data": {
            "text/plain": [
              "tensor([1, 2, 3])"
            ]
          },
          "metadata": {},
          "execution_count": 64
        }
      ]
    },
    {
      "cell_type": "code",
      "source": [
        "# Indexing the inner bracket (last dim)\n",
        "x[0][2][2]"
      ],
      "metadata": {
        "colab": {
          "base_uri": "https://localhost:8080/"
        },
        "id": "lCV58JacpAgy",
        "outputId": "8bab5101-9cfb-4595-ae0a-872f80ce1a0d"
      },
      "execution_count": 65,
      "outputs": [
        {
          "output_type": "execute_result",
          "data": {
            "text/plain": [
              "tensor(9)"
            ]
          },
          "metadata": {},
          "execution_count": 65
        }
      ]
    },
    {
      "cell_type": "markdown",
      "source": [
        "Our tensor has shape [**1**, 3, 3], in our dim=0 we have **1**, but in indexing `x[0][2][2]` in the first bracket we can pass only 0 (it may be confusing)"
      ],
      "metadata": {
        "id": "MG1LDeJrqCzF"
      }
    },
    {
      "cell_type": "code",
      "source": [
        "# We can use also ':' to select 'all' of a target dimension\n",
        "x[:, 0]"
      ],
      "metadata": {
        "colab": {
          "base_uri": "https://localhost:8080/"
        },
        "id": "exihNJSXpgco",
        "outputId": "aa70dee1-9430-4fa6-ad33-6c648a74a764"
      },
      "execution_count": 66,
      "outputs": [
        {
          "output_type": "execute_result",
          "data": {
            "text/plain": [
              "tensor([[1, 2, 3]])"
            ]
          },
          "metadata": {},
          "execution_count": 66
        }
      ]
    },
    {
      "cell_type": "code",
      "source": [
        "# More complex example:\n",
        "# Get all values of 0th and 1st dimensions but only 1 of 2nd dimension\n",
        "x[:, :, 1]"
      ],
      "metadata": {
        "colab": {
          "base_uri": "https://localhost:8080/"
        },
        "id": "qWPec-xPq2P2",
        "outputId": "936ef6f5-1840-4ccd-c13d-c7b216412ba7"
      },
      "execution_count": 67,
      "outputs": [
        {
          "output_type": "execute_result",
          "data": {
            "text/plain": [
              "tensor([[2, 5, 8]])"
            ]
          },
          "metadata": {},
          "execution_count": 67
        }
      ]
    },
    {
      "cell_type": "markdown",
      "source": [
        "## PyTorch tensors and NumPy\n",
        "\n",
        "* Data in NumPy to PyTorch tensor -> `torch.from_numpy(ndarray)`\n",
        "* Data in PyTorch tensor to NumPy -> `torch.Tensor.numpy)_`"
      ],
      "metadata": {
        "id": "qDwLK0kfrn0M"
      }
    },
    {
      "cell_type": "code",
      "source": [
        "# NumPy array to tensor\n",
        "import torch\n",
        "import numpy as np\n",
        "\n",
        "array = np.arange(1.0, 8.0) # numpy has default datatyple float 64\n",
        "tensor = torch.from_numpy(array) # WARNING: during converting from numpy -> pytorch, pytorch takes numpy's default datatype \n",
        "array, tensor"
      ],
      "metadata": {
        "colab": {
          "base_uri": "https://localhost:8080/"
        },
        "id": "fQqbhyb4rJEO",
        "outputId": "76c127d6-3075-468a-d989-148b4c5918d2"
      },
      "execution_count": 68,
      "outputs": [
        {
          "output_type": "execute_result",
          "data": {
            "text/plain": [
              "(array([1., 2., 3., 4., 5., 6., 7.]),\n",
              " tensor([1., 2., 3., 4., 5., 6., 7.], dtype=torch.float64))"
            ]
          },
          "metadata": {},
          "execution_count": 68
        }
      ]
    },
    {
      "cell_type": "code",
      "source": [
        "# Changing the values of array doesn't change value in tensor\n",
        "array = array +1\n",
        "array, tensor"
      ],
      "metadata": {
        "colab": {
          "base_uri": "https://localhost:8080/"
        },
        "id": "5VhP_w2Rsa5E",
        "outputId": "a207db36-d2d6-44dc-b8e5-2ccb363cc7a3"
      },
      "execution_count": 69,
      "outputs": [
        {
          "output_type": "execute_result",
          "data": {
            "text/plain": [
              "(array([2., 3., 4., 5., 6., 7., 8.]),\n",
              " tensor([1., 2., 3., 4., 5., 6., 7.], dtype=torch.float64))"
            ]
          },
          "metadata": {},
          "execution_count": 69
        }
      ]
    },
    {
      "cell_type": "code",
      "source": [
        "# Tensor to NumPy array\n",
        "tensor = torch.ones(7)\n",
        "array = tensor.numpy() # new array keeps datatype of the tensor\n",
        "tensor, array"
      ],
      "metadata": {
        "colab": {
          "base_uri": "https://localhost:8080/"
        },
        "id": "b-lb_u57t8gK",
        "outputId": "3ed549ba-f513-4161-9111-77b46ebd7e8e"
      },
      "execution_count": 70,
      "outputs": [
        {
          "output_type": "execute_result",
          "data": {
            "text/plain": [
              "(tensor([1., 1., 1., 1., 1., 1., 1.]),\n",
              " array([1., 1., 1., 1., 1., 1., 1.], dtype=float32))"
            ]
          },
          "metadata": {},
          "execution_count": 70
        }
      ]
    },
    {
      "cell_type": "code",
      "source": [
        "# Changing the tensor's values doesn't change value in tensor\n",
        "tensor = tensor + 1\n",
        "tensor, array"
      ],
      "metadata": {
        "colab": {
          "base_uri": "https://localhost:8080/"
        },
        "id": "jF1XT1bLuOJ6",
        "outputId": "f9f8ce2a-0532-46bf-ce3c-cfbca8ccb3b5"
      },
      "execution_count": 71,
      "outputs": [
        {
          "output_type": "execute_result",
          "data": {
            "text/plain": [
              "(tensor([2., 2., 2., 2., 2., 2., 2.]),\n",
              " array([1., 1., 1., 1., 1., 1., 1.], dtype=float32))"
            ]
          },
          "metadata": {},
          "execution_count": 71
        }
      ]
    },
    {
      "cell_type": "markdown",
      "source": [
        "**Note:** PyTorch tensor and NumPy array don't share the memory"
      ],
      "metadata": {
        "id": "m6HCr1y3up98"
      }
    },
    {
      "cell_type": "markdown",
      "source": [
        "## Reproducbility (trying to take the random out of random) \n",
        " \n",
        "In short how a neural networks learns:\n",
        "\n",
        "`start with random numbers -> tensor operations -> update random numbers to try and make them better representations of the data -> again -> again..`\n",
        "\n",
        "To reduce randomness in neural networks and PyTorch comes to the concept of a **random seed**.\n",
        "\n",
        "* https://pytorch.org/docs/stable/random.html?highlight=random+seed#torch.random.seed\n",
        "\n",
        "* https://en.wikipedia.org/wiki/Random_seed"
      ],
      "metadata": {
        "id": "MpYGkReIu9eR"
      }
    },
    {
      "cell_type": "code",
      "source": [
        "# Create two random tensors\n",
        "random_tensor_A = torch.rand(3, 4)\n",
        "random_tensor_B = torch.rand(3, 4)\n",
        "\n",
        "random_tensor_A, random_tensor_B, random_tensor_A == random_tensor_B"
      ],
      "metadata": {
        "colab": {
          "base_uri": "https://localhost:8080/"
        },
        "id": "PkDSicKxuivG",
        "outputId": "4a8daaeb-7c4a-44d1-b5be-65ad9b01f1d2"
      },
      "execution_count": 72,
      "outputs": [
        {
          "output_type": "execute_result",
          "data": {
            "text/plain": [
              "(tensor([[0.4522, 0.5294, 0.1206, 0.0560],\n",
              "         [0.5200, 0.3209, 0.7139, 0.9750],\n",
              "         [0.7991, 0.3406, 0.0876, 0.2256]]),\n",
              " tensor([[0.5777, 0.3818, 0.3588, 0.3770],\n",
              "         [0.5680, 0.3249, 0.7972, 0.4588],\n",
              "         [0.1908, 0.5076, 0.7382, 0.5937]]),\n",
              " tensor([[False, False, False, False],\n",
              "         [False, False, False, False],\n",
              "         [False, False, False, False]]))"
            ]
          },
          "metadata": {},
          "execution_count": 72
        }
      ]
    },
    {
      "cell_type": "code",
      "source": [
        "# Create two random but reproducible tensors\n",
        "\n",
        "# Set the random seed\n",
        "RANDOM_SEED = 42 \n",
        "\n",
        "torch.manual_seed(RANDOM_SEED)\n",
        "random_tensor_C = torch.rand(3, 4)\n",
        "\n",
        "torch.manual_seed(RANDOM_SEED)\n",
        "random_tensor_D = torch.rand(3, 4)\n",
        "\n",
        "random_tensor_C, random_tensor_D, random_tensor_C==random_tensor_D"
      ],
      "metadata": {
        "colab": {
          "base_uri": "https://localhost:8080/"
        },
        "id": "Ss3kLC9Hv8Vj",
        "outputId": "dafb2a85-dd9a-493b-af58-24328010cf99"
      },
      "execution_count": 73,
      "outputs": [
        {
          "output_type": "execute_result",
          "data": {
            "text/plain": [
              "(tensor([[0.8823, 0.9150, 0.3829, 0.9593],\n",
              "         [0.3904, 0.6009, 0.2566, 0.7936],\n",
              "         [0.9408, 0.1332, 0.9346, 0.5936]]),\n",
              " tensor([[0.8823, 0.9150, 0.3829, 0.9593],\n",
              "         [0.3904, 0.6009, 0.2566, 0.7936],\n",
              "         [0.9408, 0.1332, 0.9346, 0.5936]]),\n",
              " tensor([[True, True, True, True],\n",
              "         [True, True, True, True],\n",
              "         [True, True, True, True]]))"
            ]
          },
          "metadata": {},
          "execution_count": 73
        }
      ]
    },
    {
      "cell_type": "markdown",
      "source": [
        "**Note:** *using `torch.manual_seed(RANDOM_SEED)` -> remeber it works only for \n",
        "one block of code, so we need to use it each time*"
      ],
      "metadata": {
        "id": "Tl46N77QyCd0"
      }
    },
    {
      "cell_type": "markdown",
      "source": [
        "##  Running tensors and PyTorch objects on the GPUs (and making faster computations)\n"
      ],
      "metadata": {
        "id": "lL7Rc2_JzODq"
      }
    },
    {
      "cell_type": "markdown",
      "source": [
        "### Getting a GPU:\n",
        "In Google Colab:\n",
        "\n",
        "`Runtime -> Change runtime type -> Hardware accelerator -> GPU`"
      ],
      "metadata": {
        "id": "ZPrxQTNo66d1"
      }
    },
    {
      "cell_type": "code",
      "source": [
        "# Details about GPU\n",
        "!nvidia-smi"
      ],
      "metadata": {
        "colab": {
          "base_uri": "https://localhost:8080/"
        },
        "id": "SHplwLtpxqrF",
        "outputId": "f3e9102f-fc58-4254-b92f-3c979c96c02e"
      },
      "execution_count": 74,
      "outputs": [
        {
          "output_type": "stream",
          "name": "stdout",
          "text": [
            "/bin/bash: nvidia-smi: command not found\n"
          ]
        }
      ]
    },
    {
      "cell_type": "markdown",
      "source": [
        "### Check for GPU access with PyTorch"
      ],
      "metadata": {
        "id": "wGaenaH67IjR"
      }
    },
    {
      "cell_type": "code",
      "source": [
        "# Check for GPU access with PyTorch\n",
        "import torch \n",
        "torch.cuda.is_available()"
      ],
      "metadata": {
        "colab": {
          "base_uri": "https://localhost:8080/"
        },
        "id": "5xQeioUN6Now",
        "outputId": "2f887076-2ff2-42af-a27b-e2cb03ef3dd9"
      },
      "execution_count": 75,
      "outputs": [
        {
          "output_type": "execute_result",
          "data": {
            "text/plain": [
              "False"
            ]
          },
          "metadata": {},
          "execution_count": 75
        }
      ]
    },
    {
      "cell_type": "markdown",
      "source": [
        "Setup device agnostic code: \n",
        "https://pytorch.org/docs/stable/notes/cuda.html"
      ],
      "metadata": {
        "id": "90jgHWrK8Vkw"
      }
    },
    {
      "cell_type": "code",
      "source": [
        "# Setup device agnostic code\n",
        "# Run on GPU if available, els default to CPU\n",
        "device = 'cuda' if torch.cuda.is_available() else 'cpu'\n",
        "device"
      ],
      "metadata": {
        "colab": {
          "base_uri": "https://localhost:8080/",
          "height": 58
        },
        "id": "3sIgGmPt7Xnz",
        "outputId": "1a4dcb4f-592c-4cad-b992-4eca367e1189"
      },
      "execution_count": 76,
      "outputs": [
        {
          "output_type": "execute_result",
          "data": {
            "text/plain": [
              "'cpu'"
            ],
            "application/vnd.google.colaboratory.intrinsic+json": {
              "type": "string"
            }
          },
          "metadata": {},
          "execution_count": 76
        }
      ]
    },
    {
      "cell_type": "code",
      "source": [
        "# Count number of divices\n",
        "torch.cuda.device_count()"
      ],
      "metadata": {
        "colab": {
          "base_uri": "https://localhost:8080/"
        },
        "id": "PYJASAX_7-xJ",
        "outputId": "64adce4f-decc-4fe8-f43b-9ef816fb0fe2"
      },
      "execution_count": 77,
      "outputs": [
        {
          "output_type": "execute_result",
          "data": {
            "text/plain": [
              "0"
            ]
          },
          "metadata": {},
          "execution_count": 77
        }
      ]
    },
    {
      "cell_type": "markdown",
      "source": [
        "### Putting tensors (and models) on the GPU\n",
        "\n",
        "The rason we want our tensors/models on the GPU is because Using GPU results in faster computations."
      ],
      "metadata": {
        "id": "T1TQuewR89mJ"
      }
    },
    {
      "cell_type": "code",
      "source": [
        "# Create a tensor (default on the CPU)\n",
        "tensor = torch.tensor([1, 2, 3])\n",
        "\n",
        "# Tensor not on GPU\n",
        "tensor, tensor.device"
      ],
      "metadata": {
        "colab": {
          "base_uri": "https://localhost:8080/"
        },
        "id": "rG-lxENo8Kkn",
        "outputId": "13157847-ecfe-41b5-82d5-967c4e06449e"
      },
      "execution_count": 78,
      "outputs": [
        {
          "output_type": "execute_result",
          "data": {
            "text/plain": [
              "(tensor([1, 2, 3]), device(type='cpu'))"
            ]
          },
          "metadata": {},
          "execution_count": 78
        }
      ]
    },
    {
      "cell_type": "code",
      "source": [
        "# Move tensor to GPU (if available)\n",
        "tensor_on_gpu = tensor.to(device)\n",
        "tensor_on_gpu"
      ],
      "metadata": {
        "colab": {
          "base_uri": "https://localhost:8080/"
        },
        "id": "iiv2o3la9pGW",
        "outputId": "b5b6a146-9983-485c-de73-8551840bffad"
      },
      "execution_count": 79,
      "outputs": [
        {
          "output_type": "execute_result",
          "data": {
            "text/plain": [
              "tensor([1, 2, 3])"
            ]
          },
          "metadata": {},
          "execution_count": 79
        }
      ]
    },
    {
      "cell_type": "markdown",
      "source": [
        "### Moving back tensors to the CPU\n",
        "\n",
        "**If tensor is on GPU, can't transform it to NumPy** -> *To fix GPU tensor with NumPy issue, we can first set it on CPU*"
      ],
      "metadata": {
        "id": "FTZ0bCYT-Unq"
      }
    },
    {
      "cell_type": "code",
      "source": [
        "tensor_back_on_cpu = tensor_on_gpu.cpu().numpy()\n",
        "tensor_back_on_cpu"
      ],
      "metadata": {
        "colab": {
          "base_uri": "https://localhost:8080/"
        },
        "id": "NmySPWQ29_d0",
        "outputId": "06ddb897-fb9b-40cd-c4c9-13650a0bb2ab"
      },
      "execution_count": 80,
      "outputs": [
        {
          "output_type": "execute_result",
          "data": {
            "text/plain": [
              "array([1, 2, 3])"
            ]
          },
          "metadata": {},
          "execution_count": 80
        }
      ]
    },
    {
      "cell_type": "markdown",
      "source": [
        "# Exercises"
      ],
      "metadata": {
        "id": "NTqScTp-_yyR"
      }
    },
    {
      "cell_type": "code",
      "source": [
        "import torch"
      ],
      "metadata": {
        "id": "mVQKEUgUArP1"
      },
      "execution_count": 81,
      "outputs": []
    },
    {
      "cell_type": "code",
      "source": [
        "# 1. Create a random tensor with shape (7, 7).\n",
        "tensor_A = torch.rand(7, 7)\n",
        "tensor_A, tensor_A.shape"
      ],
      "metadata": {
        "colab": {
          "base_uri": "https://localhost:8080/"
        },
        "id": "PKIUzYUl_UT9",
        "outputId": "48182108-0a71-4e83-8b4f-fbba54dbdccd"
      },
      "execution_count": 82,
      "outputs": [
        {
          "output_type": "execute_result",
          "data": {
            "text/plain": [
              "(tensor([[0.8694, 0.5677, 0.7411, 0.4294, 0.8854, 0.5739, 0.2666],\n",
              "         [0.6274, 0.2696, 0.4414, 0.2969, 0.8317, 0.1053, 0.2695],\n",
              "         [0.3588, 0.1994, 0.5472, 0.0062, 0.9516, 0.0753, 0.8860],\n",
              "         [0.5832, 0.3376, 0.8090, 0.5779, 0.9040, 0.5547, 0.3423],\n",
              "         [0.6343, 0.3644, 0.7104, 0.9464, 0.7890, 0.2814, 0.7886],\n",
              "         [0.5895, 0.7539, 0.1952, 0.0050, 0.3068, 0.1165, 0.9103],\n",
              "         [0.6440, 0.7071, 0.6581, 0.4913, 0.8913, 0.1447, 0.5315]]),\n",
              " torch.Size([7, 7]))"
            ]
          },
          "metadata": {},
          "execution_count": 82
        }
      ]
    },
    {
      "cell_type": "code",
      "source": [
        "# 2. Perform a matrix multiplication on the tensor from 2 with another random tensor with shape (1, 7)\n",
        "tensor_B = torch.rand(1, 7)\n",
        "\n",
        "result = torch.mm(tensor_A, tensor_B.T)\n",
        "result, result.shape"
      ],
      "metadata": {
        "colab": {
          "base_uri": "https://localhost:8080/"
        },
        "id": "do3G_GDbADru",
        "outputId": "71276532-45ba-4ff6-d3f4-cbbb0f17f0bd"
      },
      "execution_count": 83,
      "outputs": [
        {
          "output_type": "execute_result",
          "data": {
            "text/plain": [
              "(tensor([[1.9625],\n",
              "         [1.0950],\n",
              "         [0.9967],\n",
              "         [1.8910],\n",
              "         [1.9205],\n",
              "         [1.0674],\n",
              "         [1.6949]]),\n",
              " torch.Size([7, 1]))"
            ]
          },
          "metadata": {},
          "execution_count": 83
        }
      ]
    },
    {
      "cell_type": "code",
      "source": [
        "# 3. Set the random seed to 0 and do exercises 1 & 2 over again\n",
        "\n",
        "torch.manual_seed(0)\n",
        "X = torch.rand(7, 7)\n",
        "\n",
        "torch.manual_seed(0)\n",
        "Y = torch.rand(1, 7)\n",
        "\n",
        "result = torch.mm(X, Y.T)\n",
        "result, result.shape"
      ],
      "metadata": {
        "colab": {
          "base_uri": "https://localhost:8080/"
        },
        "id": "Q2UmxQMSA0l7",
        "outputId": "f961a12e-655c-45e0-b393-f76838dfdd5f"
      },
      "execution_count": 84,
      "outputs": [
        {
          "output_type": "execute_result",
          "data": {
            "text/plain": [
              "(tensor([[1.5985],\n",
              "         [1.1173],\n",
              "         [1.2741],\n",
              "         [1.6838],\n",
              "         [0.8279],\n",
              "         [1.0347],\n",
              "         [1.2498]]),\n",
              " torch.Size([7, 1]))"
            ]
          },
          "metadata": {},
          "execution_count": 84
        }
      ]
    },
    {
      "cell_type": "code",
      "source": [
        "# 4. Speaking of random seeds, we saw how to set it with torch.manual_seed() but is there a GPU equivalent?\n",
        "torch.cuda.manual_seed(123)"
      ],
      "metadata": {
        "id": "4ckPyG-CCEB_"
      },
      "execution_count": 85,
      "outputs": []
    },
    {
      "cell_type": "code",
      "source": [
        "# 5. Create two random tensors of shape (2, 3) and send them both to the GPU\n",
        "device = \"cuda\" if torch.cuda.is_available() else \"cpu\"\n",
        "print(f\"Device: {device}\")\n",
        "\n",
        "torch.manual_seed(123)\n",
        "X = torch.rand(2, 3).to(device)\n",
        "\n",
        "torch.manual_seed(123)\n",
        "Y = torch.rand(2, 3).to(device)\n",
        "\n",
        "X, Y"
      ],
      "metadata": {
        "colab": {
          "base_uri": "https://localhost:8080/"
        },
        "id": "bm_v_7V-C2aA",
        "outputId": "6df0ff42-7f10-4276-ef4f-2bf4a4650f5b"
      },
      "execution_count": 86,
      "outputs": [
        {
          "output_type": "stream",
          "name": "stdout",
          "text": [
            "Device: cpu\n"
          ]
        },
        {
          "output_type": "execute_result",
          "data": {
            "text/plain": [
              "(tensor([[0.2961, 0.5166, 0.2517],\n",
              "         [0.6886, 0.0740, 0.8665]]),\n",
              " tensor([[0.2961, 0.5166, 0.2517],\n",
              "         [0.6886, 0.0740, 0.8665]]))"
            ]
          },
          "metadata": {},
          "execution_count": 86
        }
      ]
    },
    {
      "cell_type": "code",
      "source": [
        "# 6. Perform a matrix multiplication on the tensors you created in 5.\n",
        "result = torch.mm(X, Y.T)\n",
        "result, result.shape "
      ],
      "metadata": {
        "colab": {
          "base_uri": "https://localhost:8080/"
        },
        "id": "ha0EK0jPDM3h",
        "outputId": "fc69b562-ec35-4779-d1a5-5bc01a9c0a74"
      },
      "execution_count": 87,
      "outputs": [
        {
          "output_type": "execute_result",
          "data": {
            "text/plain": [
              "(tensor([[0.4179, 0.4602],\n",
              "         [0.4602, 1.2304]]),\n",
              " torch.Size([2, 2]))"
            ]
          },
          "metadata": {},
          "execution_count": 87
        }
      ]
    },
    {
      "cell_type": "code",
      "source": [
        "# 7. Find the maximum and minimum values of the output of 6.\n",
        "minimum = result.min()\n",
        "maximum = result.max()\n",
        "minimum, maximum"
      ],
      "metadata": {
        "colab": {
          "base_uri": "https://localhost:8080/"
        },
        "id": "jZr9l5-HEPSc",
        "outputId": "5926a5eb-a9e7-4552-a65c-994cee5379e4"
      },
      "execution_count": 88,
      "outputs": [
        {
          "output_type": "execute_result",
          "data": {
            "text/plain": [
              "(tensor(0.4179), tensor(1.2304))"
            ]
          },
          "metadata": {},
          "execution_count": 88
        }
      ]
    },
    {
      "cell_type": "code",
      "source": [
        "# 8. Find the maximum and minimum index values of the output of 6. \n",
        "min_index = result.argmin()\n",
        "max_index = result.argmax()\n",
        "min_index, max_index"
      ],
      "metadata": {
        "colab": {
          "base_uri": "https://localhost:8080/"
        },
        "id": "WfA68e-gEjFj",
        "outputId": "a1df4436-5151-4140-d5ab-a1a04315405d"
      },
      "execution_count": 89,
      "outputs": [
        {
          "output_type": "execute_result",
          "data": {
            "text/plain": [
              "(tensor(0), tensor(3))"
            ]
          },
          "metadata": {},
          "execution_count": 89
        }
      ]
    },
    {
      "cell_type": "code",
      "source": [
        "# 9. Make a random tensor with shape (1, 1, 1, 10) and then create a new tensor \n",
        "# with all the 1 dimensions removed to be left with a tensor of shape (10). \n",
        "# Set the seed to 7 when you create it and print out the first tensor \n",
        "# and it's shape as well as the second tensor and it's shape.\n",
        "\n",
        "torch.manual_seed(7)\n",
        "\n",
        "random_tensor = torch.rand(1, 1, 1, 10)\n",
        "print(random_tensor.shape)\n",
        "\n",
        "new_tensor = torch.squeeze(random_tensor)\n",
        "print(new_tensor.shape)"
      ],
      "metadata": {
        "colab": {
          "base_uri": "https://localhost:8080/"
        },
        "id": "ciuT1CdWE4J9",
        "outputId": "139823da-8c57-4209-f1cd-cbf1e5a8b84c"
      },
      "execution_count": 90,
      "outputs": [
        {
          "output_type": "stream",
          "name": "stdout",
          "text": [
            "torch.Size([1, 1, 1, 10])\n",
            "torch.Size([10])\n"
          ]
        }
      ]
    },
    {
      "cell_type": "code",
      "source": [],
      "metadata": {
        "id": "u6YoT8MqFOkC"
      },
      "execution_count": 90,
      "outputs": []
    }
  ]
}

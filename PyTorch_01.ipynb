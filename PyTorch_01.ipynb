{
  "nbformat": 4,
  "nbformat_minor": 0,
  "metadata": {
    "colab": {
      "provenance": [],
      "toc_visible": true
    },
    "kernelspec": {
      "name": "python3",
      "display_name": "Python 3"
    },
    "language_info": {
      "name": "python"
    },
    "gpuClass": "standard",
    "accelerator": "GPU"
  },
  "cells": [
    {
      "cell_type": "markdown",
      "source": [
        "# PyTorch Workflow \n",
        "\n",
        "1. **Getting data ready:**  *data can be almost anything but to get started we're going to create a simple straight line*\n",
        "2. **Building a model:** *here we'll create a model to learn patterns in the data, we'll also choose a loss function, optimizer and build a training loop.*\n",
        "3. **Fitting the model to data (training):** *we've got data and a model, now let's let the model (try to) find patterns in the (training) data.*\n",
        "4. **Making predictions and evaluating a model (inference):** *our model's found patterns in the data, let's compare its findings to the actual (testing) data.*\n",
        "5. **Saving and loading a model:** *you may want to use your model elsewhere, or come back to it later, here we'll cover that.*\n",
        "6. **Putting it all together**"
      ],
      "metadata": {
        "id": "3fioKTlfHMsA"
      }
    },
    {
      "cell_type": "markdown",
      "source": [
        "## Imports"
      ],
      "metadata": {
        "id": "S1LvUzs0H0VT"
      }
    },
    {
      "cell_type": "code",
      "execution_count": 1,
      "metadata": {
        "id": "PrzIc-02G5V1"
      },
      "outputs": [],
      "source": [
        "import torch \n",
        "from torch import nn \n",
        "import matplotlib.pyplot as plt\n",
        "import numpy as np"
      ]
    },
    {
      "cell_type": "markdown",
      "source": [
        "`nn` -> contains all of PyTorch's building blocks for neural networks\n",
        "\n",
        "https://pytorch.org/docs/stable/nn.html?highlight=torch+nn#module-torch.nn"
      ],
      "metadata": {
        "id": "JQiAtHbPJd3l"
      }
    },
    {
      "cell_type": "markdown",
      "source": [
        "## 1. Data preparing and loading\n",
        "\n",
        "To showcase this, we create some *know* data using linear regression formula (𝑌 = a + b𝐗).\n",
        "We will use a linear regresion formula to make a straight line know **parameters**.\n"
      ],
      "metadata": {
        "id": "C51yoXwTKBTh"
      }
    },
    {
      "cell_type": "code",
      "source": [
        "# Create *known* parameters\n",
        "\n",
        "weight = 0.7 # b\n",
        "bias = 0.3 # a\n",
        "\n",
        "# Create\n",
        "start = 0\n",
        "end = 1\n",
        "step = 0.02\n",
        "\n",
        "X = torch.arange(start, end, step).unsqueeze(dim=1) # also we add extra dimension\n",
        "y = weight * X + bias # Y = a + bX\n",
        "\n",
        "print(f'Input: {X[:10]}')\n",
        "print(f'Output: {y[:10]}')"
      ],
      "metadata": {
        "colab": {
          "base_uri": "https://localhost:8080/"
        },
        "id": "fhuPzB0EJZFL",
        "outputId": "2c43746d-0a67-4d44-eb04-0487b2804192"
      },
      "execution_count": 2,
      "outputs": [
        {
          "output_type": "stream",
          "name": "stdout",
          "text": [
            "Input: tensor([[0.0000],\n",
            "        [0.0200],\n",
            "        [0.0400],\n",
            "        [0.0600],\n",
            "        [0.0800],\n",
            "        [0.1000],\n",
            "        [0.1200],\n",
            "        [0.1400],\n",
            "        [0.1600],\n",
            "        [0.1800]])\n",
            "Output: tensor([[0.3000],\n",
            "        [0.3140],\n",
            "        [0.3280],\n",
            "        [0.3420],\n",
            "        [0.3560],\n",
            "        [0.3700],\n",
            "        [0.3840],\n",
            "        [0.3980],\n",
            "        [0.4120],\n",
            "        [0.4260]])\n"
          ]
        }
      ]
    },
    {
      "cell_type": "code",
      "source": [
        "len(X), len(y)"
      ],
      "metadata": {
        "colab": {
          "base_uri": "https://localhost:8080/"
        },
        "id": "dAbBd8KrNOJO",
        "outputId": "6e49f9bc-d5d7-48e1-9e6d-4ffc3ef8b712"
      },
      "execution_count": 3,
      "outputs": [
        {
          "output_type": "execute_result",
          "data": {
            "text/plain": [
              "(50, 50)"
            ]
          },
          "metadata": {},
          "execution_count": 3
        }
      ]
    },
    {
      "cell_type": "markdown",
      "source": [
        "### Spliting data into training and test sets (one of the most important concepts in ML)\n",
        "\n",
        "* Training set - to train our model (**always**)\n",
        "* Validation set - to tune model patterns (**often but not always**)\n",
        "* Test set - to see if the model is redy (**always**)\n",
        "\n",
        "**Generalization:** *the ability for a ML model to perform well on data it hasn't seen before.*\n",
        "\n",
        "Also we can use scikit-learn for spliting data"
      ],
      "metadata": {
        "id": "tLwCclSIOeV4"
      }
    },
    {
      "cell_type": "code",
      "source": [
        "# Create a train/test split\n",
        "train_split = int(0.8 * len(X))\n",
        "\n",
        "X_train, y_train = X[:train_split], y[:train_split]\n",
        "X_test, y_test = X[train_split:], y[train_split:]\n",
        "\n",
        "len(X_train), len(y_train), len(X_test), len(y_test)"
      ],
      "metadata": {
        "colab": {
          "base_uri": "https://localhost:8080/"
        },
        "id": "vSI-LwZpNT9a",
        "outputId": "deb3fa83-8646-4b89-d7ab-4c1c492cd650"
      },
      "execution_count": 4,
      "outputs": [
        {
          "output_type": "execute_result",
          "data": {
            "text/plain": [
              "(40, 40, 10, 10)"
            ]
          },
          "metadata": {},
          "execution_count": 4
        }
      ]
    },
    {
      "cell_type": "markdown",
      "source": [
        "### Better data visualisation."
      ],
      "metadata": {
        "id": "rQofdzu_RooM"
      }
    },
    {
      "cell_type": "code",
      "source": [
        "def plot_predictions(train_data=X_train,\n",
        "                     train_labels=y_train,\n",
        "                     test_data=X_test,\n",
        "                     test_labels=y_test,\n",
        "                     predictions=None):\n",
        "  \"\"\"\n",
        "  Plots training data, test data and compares predictions.\n",
        "  \"\"\"\n",
        "  \n",
        "  plt.figure(figsize=(10,7))\n",
        "\n",
        "  # Plot training data in blue\n",
        "  plt.scatter(train_data, train_labels, c='b', s=4, label='Training data') \n",
        "\n",
        "  # Plot test data in red\n",
        "  plt.scatter(test_data, test_labels, c='#8a2be2', s=4, label='Test data')\n",
        "\n",
        "  # Are there predictions?\n",
        "  if predictions is not None:\n",
        "    # Plot the predictions if they exist\n",
        "    plt.scatter(test_data, predictions, c='r', s=4, label='Predictions')\n",
        "\n",
        "  # Show the legend\n",
        "  plt.legend(prop={'size': 14}) \n"
      ],
      "metadata": {
        "id": "1vwmGPJnRTE_"
      },
      "execution_count": 5,
      "outputs": []
    },
    {
      "cell_type": "markdown",
      "source": [
        "`matplotlib.pyplot.scatter` - https://matplotlib.org/stable/api/_as_gen/matplotlib.pyplot.scatter.html#matplotlib-pyplot-scatter"
      ],
      "metadata": {
        "id": "4ikUBZs7T06V"
      }
    },
    {
      "cell_type": "code",
      "source": [
        "plot_predictions()"
      ],
      "metadata": {
        "colab": {
          "base_uri": "https://localhost:8080/",
          "height": 599
        },
        "id": "78f3Hf2rSDbt",
        "outputId": "fee2b6da-cfac-4cf2-bf82-38aca34a2af9"
      },
      "execution_count": 6,
      "outputs": [
        {
          "output_type": "display_data",
          "data": {
            "text/plain": [
              "<Figure size 1000x700 with 1 Axes>"
            ],
            "image/png": "[encoded data removed]"
          },
          "metadata": {}
        }
      ]
    },
    {
      "cell_type": "markdown",
      "source": [
        "## 2. Building model\n",
        "\n",
        "What our model does:\n",
        "* Start with random values (weights, bias)\n",
        "* Look at training data the random values to better represent (or get closer to) the ideal values (the weight and bias values we used to create data)\n",
        "\n",
        "\n",
        "It does it through two main alghoritms: \n",
        "1. Gradient descent (when ` requires_grad=True`) - \n",
        "https://en.wikipedia.org/wiki/Gradient_descent\n",
        "  *Gradient descent is like a game where you have to find a hidden treasure on a mountain. You start at the top of the mountain and take small steps downhill, trying to get closer to the treasure. Each step you take depends on the steepness of the slope and how big your feet are (the learning rate). The goal is to reach the bottom of the mountain, where the treasure is hidden. Similarly, gradient descent helps a machine learning model find the best settings (weights) by taking small steps downhill in the direction of the steepest slope (gradient) until it reaches the lowest point (minimum) of the cost function.*\n",
        "\n",
        "\n",
        "2. Backpropagation - \n",
        "https://en.wikipedia.org/wiki/Backpropagation\n",
        "\n",
        "  *Backpropagation is like a teacher who helps a student learn how to solve a math problem. The teacher gives the student feedback on what they did wrong and helps them correct their mistakes. Similarly, backpropagation helps a machine learning model learn from its mistakes by calculating how much it got wrong and adjusting its internal settings (weights) so that it can do better next time.*\n",
        "\n",
        "\n",
        "More details about:\n",
        "* `torch.nn.Module` - https://pytorch.org/docs/stable/generated/torch.nn.Module.html?highlight=torch+nn+module#torch.nn.Module\n",
        "\n",
        "* `nn.Parameter` - https://pytorch.org/docs/stable/generated/torch.nn.parameter.Parameter.html"
      ],
      "metadata": {
        "id": "HmgCF7KMVsVH"
      }
    },
    {
      "cell_type": "code",
      "source": [
        "# Create a linear regression model class\n",
        "class LinearRegessionModel(nn.Module): # hint: almost everything in PyTorch inherits from nn.Module\n",
        "  def __init__(self):\n",
        "    super().__init__()\n",
        "    self.weights = nn.Parameter(torch.rand(1, # - starts with a random weight and try to adjust in to the ideal weight\n",
        "                                           requires_grad=True, # - can this parameter be updated via gradinet descent\n",
        "                                           dtype=torch.float)) # - datatype torch.float32\n",
        "\n",
        "    self.bias =  nn.Parameter(torch.rand(1, # - starts with a random bias and try to adjust in to the ideal bias\n",
        "                                         requires_grad=True, # - can this parameter be updated via gradinet descent\n",
        "                                           dtype=torch.float)) # - datatype torch.float32\n",
        "\n",
        "  # Forward method to define the computation in the model \n",
        "  def forward(self, x: torch.Tensor) -> torch.Tensor: # 'x' is the input data\n",
        "    # What computation is happening in our model:\n",
        "    return self.weights * x + self.bias # linear regression formula, same formula used to create our data\n",
        "\n"
      ],
      "metadata": {
        "id": "VeRMLtGtVq4U"
      },
      "execution_count": 7,
      "outputs": []
    },
    {
      "cell_type": "markdown",
      "source": [
        "### PyTorch model building essentials\n",
        "\n",
        "* `torch.nn` - contains all of the buildings for computional graphs (a neural network can be considered a computional graph).\n",
        "* `torch.nn.Parameter` - what parameters should our model try and learn, often a PyTorch layer from `torch.nn` will set these for us.\n",
        "* `torch.nn.Module` - the base class for all neural network modules, if you subclasses it, you should overwirte `forward`.\n",
        "* `torch.optim` - this where the optimazers in PyTorch live, they will help with gradient descent.\n",
        "* `def forward()` - all `nn.MOdule` sublclases requierd you to overwrite `forward()`, this method defines what happens in the forward computation."
      ],
      "metadata": {
        "id": "mJzT6CRqtBdF"
      }
    },
    {
      "cell_type": "markdown",
      "source": [
        "### Checking the contents of our PyTorch model\n",
        "\n",
        "We can check our model parameters ot what's inside our model using `.parameters()`"
      ],
      "metadata": {
        "id": "u_A4gtGBxFAn"
      }
    },
    {
      "cell_type": "code",
      "source": [
        "# Create a random seed\n",
        "torch.manual_seed(42)\n",
        "\n",
        "# Create an instance of the model \n",
        "model_0 = LinearRegessionModel()\n",
        "\n",
        "# Check out the parameters\n",
        "list(model_0.parameters())"
      ],
      "metadata": {
        "id": "GuKoCoCpZcJN",
        "colab": {
          "base_uri": "https://localhost:8080/"
        },
        "outputId": "590b607f-ca04-4908-af8f-49bc530c8f5d"
      },
      "execution_count": 8,
      "outputs": [
        {
          "output_type": "execute_result",
          "data": {
            "text/plain": [
              "[Parameter containing:\n",
              " tensor([0.8823], requires_grad=True),\n",
              " Parameter containing:\n",
              " tensor([0.9150], requires_grad=True)]"
            ]
          },
          "metadata": {},
          "execution_count": 8
        }
      ]
    },
    {
      "cell_type": "code",
      "source": [
        "# List named parameters \n",
        "model_0.state_dict()"
      ],
      "metadata": {
        "colab": {
          "base_uri": "https://localhost:8080/"
        },
        "id": "LPJgDC7_yKZX",
        "outputId": "653aae4e-6b58-4b89-af9f-3a9c79988264"
      },
      "execution_count": 9,
      "outputs": [
        {
          "output_type": "execute_result",
          "data": {
            "text/plain": [
              "OrderedDict([('weights', tensor([0.8823])), ('bias', tensor([0.9150]))])"
            ]
          },
          "metadata": {},
          "execution_count": 9
        }
      ]
    },
    {
      "cell_type": "markdown",
      "source": [
        "### Making predictions using `torch.inference_model()`\n",
        "\n",
        "To check our model' predictive poweer, we gonna se how well it predicts `y_test` based on `X_test`.\n",
        "\n",
        "When we pass fata trrough our model, it's going to run it through the `forward()` method."
      ],
      "metadata": {
        "id": "fZDtXTec0mf1"
      }
    },
    {
      "cell_type": "code",
      "source": [
        "# Make prediction with model\n",
        "with torch.inference_mode():\n",
        "  y_preds = model_0(X_test)\n",
        "\n",
        "# Something similar, however `inference_mode()` is prefered\n",
        "# with torch.no_grad():\n",
        "#   y_preds = model_0(X_test)\n",
        "\n",
        "y_preds"
      ],
      "metadata": {
        "colab": {
          "base_uri": "https://localhost:8080/"
        },
        "id": "q3zYWmAk0Dbo",
        "outputId": "12db25a0-0b38-485f-d512-6a1a7d68923d"
      },
      "execution_count": 10,
      "outputs": [
        {
          "output_type": "execute_result",
          "data": {
            "text/plain": [
              "tensor([[1.6208],\n",
              "        [1.6385],\n",
              "        [1.6561],\n",
              "        [1.6738],\n",
              "        [1.6914],\n",
              "        [1.7090],\n",
              "        [1.7267],\n",
              "        [1.7443],\n",
              "        [1.7620],\n",
              "        [1.7796]])"
            ]
          },
          "metadata": {},
          "execution_count": 10
        }
      ]
    },
    {
      "cell_type": "code",
      "source": [
        "plot_predictions(predictions=y_preds)"
      ],
      "metadata": {
        "colab": {
          "base_uri": "https://localhost:8080/",
          "height": 599
        },
        "id": "v_P90pmd2WTi",
        "outputId": "4567279b-6f44-47c8-b7c4-6358cce43d6d"
      },
      "execution_count": 11,
      "outputs": [
        {
          "output_type": "display_data",
          "data": {
            "text/plain": [
              "<Figure size 1000x700 with 1 Axes>"
            ],
            "image/png": "[encoded data removed]"
          },
          "metadata": {}
        }
      ]
    },
    {
      "cell_type": "markdown",
      "source": [
        "Our predictions are far from the actual values because we start with random parameters which are diffrent with our *known* parameters (`weights`=0.8823, `bias`=0.9150)."
      ],
      "metadata": {
        "id": "_jbZh4-K4eI8"
      }
    },
    {
      "cell_type": "markdown",
      "source": [
        "## 3. Train model \n",
        "The whole idea of training a model to move from som unknown parameters(these may be random) to some *known* parameters.\n",
        "\n",
        "Or the other words from poor data representation to a better one.\n",
        "\n",
        "To measure how wrong our models predictions are is to use loss function.\n",
        "\n",
        "* **Note:** Loss function may also be called cost function or criterion in different areas.\n",
        "\n",
        "Things we need to train:\n",
        "\n",
        "* **Loss function:** a funkcion to measure how wrong your model's predictions are to ideal outputs.\n",
        "  * `nn.L1Loss` (MSE - Mean Squared Error): This loss function is used for regression problems, where the goal is to predict a continuous output. It is useful when the output values have a wide range.\n",
        "\n",
        "\n",
        "\n",
        "* **Optimizer:** takes into account the loss of a model and adjust the model's parameters to improve the loss function.\n",
        "  * Inside the optimizer we often set two parameters:\n",
        "    * `params` - the model parameters we'd like to otimize, for example `params=model.parameters()`\n",
        "    * `lr` (learning rate) - the learning rate is a hyper parameter that defines how big/small the optimizer changes the parameters with each step (small `lr` results in small changes, big `lr` results in big changes) for example `lr=0.001`\n",
        "\n",
        "  * `torch.optim.SGD` (SGD - Stochastic Gradient Descent): This is the most basic optimizer used for updating the weights of a neural network. It is used when you have a large dataset and a simple model architecture.\n",
        "  * `torch.optim.Adam` Adam: This optimizer combines the benefits of Adagrad and RMSprop. It is used when you have a large dataset and complex model architecture.\n",
        "\n",
        "\n",
        "And specifically for PyTorch, we need:\n",
        "* A training loop\n",
        "* A testing loop\n"
      ],
      "metadata": {
        "id": "eT6aU8V05svB"
      }
    },
    {
      "cell_type": "code",
      "source": [
        "# Check out our model's parameters\n",
        "model_0.state_dict()"
      ],
      "metadata": {
        "colab": {
          "base_uri": "https://localhost:8080/"
        },
        "id": "1uH4AQIIB6Fu",
        "outputId": "5eb81204-b104-4ccd-c8ef-84d05048d458"
      },
      "execution_count": 12,
      "outputs": [
        {
          "output_type": "execute_result",
          "data": {
            "text/plain": [
              "OrderedDict([('weights', tensor([0.8823])), ('bias', tensor([0.9150]))])"
            ]
          },
          "metadata": {},
          "execution_count": 12
        }
      ]
    },
    {
      "cell_type": "markdown",
      "source": [
        "### Seting up loss function and optimizer"
      ],
      "metadata": {
        "id": "p1o9L0FPzBzK"
      }
    },
    {
      "cell_type": "code",
      "source": [
        "# Setup a loss function \n",
        "loss_fn = nn.L1Loss()\n",
        "\n",
        "# Setup a optimizer (SGD - stochastic gradient descent)\n",
        "optimizer = torch.optim.SGD(model_0.parameters(), \n",
        "                            lr = 0.001) # lr = learning rate - possibly the most important hyperparameter you can set"
      ],
      "metadata": {
        "id": "NhsrMJ8w2rp-"
      },
      "execution_count": 13,
      "outputs": []
    },
    {
      "cell_type": "markdown",
      "source": [
        "### Building training and testing loop with PyTorch\n",
        "\n",
        "Things we need in training loop:\n",
        "0. **Loop through the data**.\n",
        "1. **Forward pass** (this involves data moving through our model's `forward()` function) to make prediction on data - forward propagation.\n",
        "2. **Calculate the loss** ( compare forward pass predictions to ground truth labels).\n",
        "3. **Optimizer zero grad** - by default how the optimizer changes will accumulate through the loop, so we have to zero them for tne next iteration of the loop\n",
        "4. **Loss backwards** - move backwards through the network to caltulate the gradients of a each parameters our model with respect to the loss (`backpropagation`).\n",
        "5. **Optimizer step** - use the optimizer to adjust our model's parameters to try and improve the loss (`gradient descent`)."
      ],
      "metadata": {
        "id": "1RE24JdSF3up"
      }
    },
    {
      "cell_type": "markdown",
      "source": [
        "### **Training model steps**\n",
        "\n",
        "### Preparation:\n",
        "1. Setup `manual_seed`\n",
        "2. Setup `epochs`\n",
        "3. Setup list to track values\n",
        "\n",
        "### Training\n",
        "0. Set a loop\n",
        "1. Forward pass \n",
        "2. Calculate the loss\n",
        "3. Optimizer zero grad\n",
        "4. Perform backpropagation \n",
        "5. Step the optimizer\n",
        "\n",
        "### Testing \n",
        "1. Do a forward pass\n",
        "2. Calculate the test loss\n",
        "3. Print info\n",
        "\n",
        "  "
      ],
      "metadata": {
        "id": "5FAad8wGecUD"
      }
    },
    {
      "cell_type": "markdown",
      "source": [
        "### Song\n",
        "To remember these steps better there's a song 🙃\n",
        "\n",
        "*Let’s train!*\n",
        "\n",
        "*For an epoch in a range*\n",
        "\n",
        "*Call model dot train*\n",
        "\n",
        "*Do the forward pass*\n",
        "\n",
        "*Calculate the loss*\n",
        "\n",
        "*Optimizer zero grad*\n",
        "\n",
        "*Lossssss backward*\n",
        "\n",
        "*Optimizer step step step*\n",
        "\n",
        "*Test time!*\n",
        "\n",
        "*Call model dot eval*\n",
        "\n",
        "*With torch inference mode,*\n",
        "\n",
        "*Do the forward pass*\n",
        "\n",
        "*Calculate the loss*\n",
        "\n",
        "*Print out what’s happenin’*\n",
        "\n",
        "*Let’s do it again ‘gain ‘gain*\n",
        "\n",
        "Full song here: https://www.youtube.com/watch?v=Nutpusq_AFw\n"
      ],
      "metadata": {
        "id": "TDG-juCaMvKE"
      }
    },
    {
      "cell_type": "code",
      "source": [
        "torch.manual_seed(42)\n",
        "\n",
        "# An epoch is one loop through the data (this is a pyperparameter because we set it ourselves)\n",
        "epochs = 1000\n",
        "\n",
        "# Track different values\n",
        "epoch_count =[]\n",
        "loss_values = []\n",
        "test_loss_values = []\n",
        "\n",
        "### Training\n",
        "# 0. Loop through the data:\n",
        "for epoch in range(epochs):\n",
        "  # Set the model to training mode (this is the default state of a model)\n",
        "  # Even if it's default, it's a good habit to writ it \n",
        "  model_0.train() # train mode in PyTorch set all parameters that required gradients to require gradients\n",
        "\n",
        "  # 1. Forward pass (To remember how to write this step ask question \n",
        "  #                  Q: Where do I have forward function? \n",
        "  #                  A: Inside the model!!)\n",
        "  y_pred = model_0(X_train)\n",
        "\n",
        "  # 2. Calculate the loss\n",
        "  loss = loss_fn(y_pred, y_train)\n",
        "\n",
        "\n",
        "  # 3. Optimizer zero grad\n",
        "  optimizer.zero_grad()\n",
        "\n",
        "  # 4. Perform backpropagation on the loss with respect to the parameters of the model\n",
        "  loss.backward()\n",
        "\n",
        "  # 5. Step the optimizer (perform gradient descent)\n",
        "  optimizer.step() \n",
        "\n",
        "  ### Testing \n",
        "  model_0.eval() # turns off different settings in the model not needet for evaluation testing (dropout /batch norm layers)\n",
        "  with torch.inference_mode(): # turns off gradient tracking and a couple more things behind scenes\n",
        "    # 1. Do a forward pass\n",
        "    test_pred = model_0(X_test)\n",
        "\n",
        "    # 2. Calculate the test loss\n",
        "    test_loss = loss_fn(test_pred, y_test)\n",
        "  \n",
        "  # Printing out info\n",
        "  if epoch % 10 == 0:\n",
        "    epoch_count.append(epoch)\n",
        "    loss_values.append(loss)\n",
        "    test_loss_values.append(test_loss)\n",
        "    print(f'Epoch: {epoch} | Loss: {loss} | Test loss: {test_loss}')\n",
        "    # Printing out model state_dict()\n",
        "    print(model_0.state_dict())\n",
        "\n",
        "\n",
        "\n",
        "\n",
        "\n",
        "\n",
        "\n"
      ],
      "metadata": {
        "colab": {
          "base_uri": "https://localhost:8080/"
        },
        "id": "YVEH5FrG-ya-",
        "outputId": "b9eae759-04d2-496b-ecf2-696e01fb9c4b"
      },
      "execution_count": 14,
      "outputs": [
        {
          "output_type": "stream",
          "name": "stdout",
          "text": [
            "Epoch: 0 | Loss: 0.6860889196395874 | Test loss: 0.775876522064209\n",
            "OrderedDict([('weights', tensor([0.8819])), ('bias', tensor([0.9140]))])\n",
            "Epoch: 10 | Loss: 0.6745680570602417 | Test loss: 0.7624056935310364\n",
            "OrderedDict([('weights', tensor([0.8780])), ('bias', tensor([0.9040]))])\n",
            "Epoch: 20 | Loss: 0.6630472540855408 | Test loss: 0.7489349246025085\n",
            "OrderedDict([('weights', tensor([0.8741])), ('bias', tensor([0.8940]))])\n",
            "Epoch: 30 | Loss: 0.6515263915061951 | Test loss: 0.7354640960693359\n",
            "OrderedDict([('weights', tensor([0.8702])), ('bias', tensor([0.8840]))])\n",
            "Epoch: 40 | Loss: 0.6400055885314941 | Test loss: 0.7219933271408081\n",
            "OrderedDict([('weights', tensor([0.8663])), ('bias', tensor([0.8740]))])\n",
            "Epoch: 50 | Loss: 0.6284847259521484 | Test loss: 0.7085224986076355\n",
            "OrderedDict([('weights', tensor([0.8624])), ('bias', tensor([0.8640]))])\n",
            "Epoch: 60 | Loss: 0.6169638633728027 | Test loss: 0.6950516104698181\n",
            "OrderedDict([('weights', tensor([0.8585])), ('bias', tensor([0.8540]))])\n",
            "Epoch: 70 | Loss: 0.6054430603981018 | Test loss: 0.6815808415412903\n",
            "OrderedDict([('weights', tensor([0.8546])), ('bias', tensor([0.8440]))])\n",
            "Epoch: 80 | Loss: 0.5939221978187561 | Test loss: 0.6681100130081177\n",
            "OrderedDict([('weights', tensor([0.8507])), ('bias', tensor([0.8340]))])\n",
            "Epoch: 90 | Loss: 0.5824013352394104 | Test loss: 0.6546391844749451\n",
            "OrderedDict([('weights', tensor([0.8468])), ('bias', tensor([0.8240]))])\n",
            "Epoch: 100 | Loss: 0.5708805322647095 | Test loss: 0.641168475151062\n",
            "OrderedDict([('weights', tensor([0.8429])), ('bias', tensor([0.8140]))])\n",
            "Epoch: 110 | Loss: 0.5593596696853638 | Test loss: 0.6276975870132446\n",
            "OrderedDict([('weights', tensor([0.8390])), ('bias', tensor([0.8040]))])\n",
            "Epoch: 120 | Loss: 0.5478388667106628 | Test loss: 0.6142268776893616\n",
            "OrderedDict([('weights', tensor([0.8351])), ('bias', tensor([0.7940]))])\n",
            "Epoch: 130 | Loss: 0.5363179445266724 | Test loss: 0.600756049156189\n",
            "OrderedDict([('weights', tensor([0.8312])), ('bias', tensor([0.7840]))])\n",
            "Epoch: 140 | Loss: 0.5247971415519714 | Test loss: 0.5872851610183716\n",
            "OrderedDict([('weights', tensor([0.8273])), ('bias', tensor([0.7740]))])\n",
            "Epoch: 150 | Loss: 0.5132762789726257 | Test loss: 0.573814332485199\n",
            "OrderedDict([('weights', tensor([0.8234])), ('bias', tensor([0.7640]))])\n",
            "Epoch: 160 | Loss: 0.50175541639328 | Test loss: 0.5603434443473816\n",
            "OrderedDict([('weights', tensor([0.8195])), ('bias', tensor([0.7540]))])\n",
            "Epoch: 170 | Loss: 0.4902346134185791 | Test loss: 0.5468727350234985\n",
            "OrderedDict([('weights', tensor([0.8156])), ('bias', tensor([0.7440]))])\n",
            "Epoch: 180 | Loss: 0.4787138104438782 | Test loss: 0.5334018468856812\n",
            "OrderedDict([('weights', tensor([0.8117])), ('bias', tensor([0.7340]))])\n",
            "Epoch: 190 | Loss: 0.46719294786453247 | Test loss: 0.5199311375617981\n",
            "OrderedDict([('weights', tensor([0.8078])), ('bias', tensor([0.7240]))])\n",
            "Epoch: 200 | Loss: 0.45567208528518677 | Test loss: 0.5064603090286255\n",
            "OrderedDict([('weights', tensor([0.8039])), ('bias', tensor([0.7140]))])\n",
            "Epoch: 210 | Loss: 0.44415122270584106 | Test loss: 0.49298954010009766\n",
            "OrderedDict([('weights', tensor([0.8000])), ('bias', tensor([0.7040]))])\n",
            "Epoch: 220 | Loss: 0.43263036012649536 | Test loss: 0.4795186519622803\n",
            "OrderedDict([('weights', tensor([0.7961])), ('bias', tensor([0.6940]))])\n",
            "Epoch: 230 | Loss: 0.42110952734947205 | Test loss: 0.46604785323143005\n",
            "OrderedDict([('weights', tensor([0.7922])), ('bias', tensor([0.6840]))])\n",
            "Epoch: 240 | Loss: 0.40958866477012634 | Test loss: 0.45257705450057983\n",
            "OrderedDict([('weights', tensor([0.7883])), ('bias', tensor([0.6740]))])\n",
            "Epoch: 250 | Loss: 0.398067831993103 | Test loss: 0.439106285572052\n",
            "OrderedDict([('weights', tensor([0.7844])), ('bias', tensor([0.6640]))])\n",
            "Epoch: 260 | Loss: 0.3865470290184021 | Test loss: 0.425635427236557\n",
            "OrderedDict([('weights', tensor([0.7805])), ('bias', tensor([0.6540]))])\n",
            "Epoch: 270 | Loss: 0.3750261664390564 | Test loss: 0.4121646285057068\n",
            "OrderedDict([('weights', tensor([0.7766])), ('bias', tensor([0.6440]))])\n",
            "Epoch: 280 | Loss: 0.3635053336620331 | Test loss: 0.39869385957717896\n",
            "OrderedDict([('weights', tensor([0.7727])), ('bias', tensor([0.6340]))])\n",
            "Epoch: 290 | Loss: 0.351984441280365 | Test loss: 0.3852229714393616\n",
            "OrderedDict([('weights', tensor([0.7688])), ('bias', tensor([0.6240]))])\n",
            "Epoch: 300 | Loss: 0.3404636085033417 | Test loss: 0.37175220251083374\n",
            "OrderedDict([('weights', tensor([0.7649])), ('bias', tensor([0.6140]))])\n",
            "Epoch: 310 | Loss: 0.32894277572631836 | Test loss: 0.3582814037799835\n",
            "OrderedDict([('weights', tensor([0.7610])), ('bias', tensor([0.6040]))])\n",
            "Epoch: 320 | Loss: 0.31742191314697266 | Test loss: 0.3448105454444885\n",
            "OrderedDict([('weights', tensor([0.7571])), ('bias', tensor([0.5940]))])\n",
            "Epoch: 330 | Loss: 0.30590111017227173 | Test loss: 0.3313397765159607\n",
            "OrderedDict([('weights', tensor([0.7532])), ('bias', tensor([0.5840]))])\n",
            "Epoch: 340 | Loss: 0.294380247592926 | Test loss: 0.3178689181804657\n",
            "OrderedDict([('weights', tensor([0.7493])), ('bias', tensor([0.5740]))])\n",
            "Epoch: 350 | Loss: 0.2828593850135803 | Test loss: 0.3043981194496155\n",
            "OrderedDict([('weights', tensor([0.7454])), ('bias', tensor([0.5640]))])\n",
            "Epoch: 360 | Loss: 0.271338552236557 | Test loss: 0.29092732071876526\n",
            "OrderedDict([('weights', tensor([0.7415])), ('bias', tensor([0.5540]))])\n",
            "Epoch: 370 | Loss: 0.2598177194595337 | Test loss: 0.2774565517902374\n",
            "OrderedDict([('weights', tensor([0.7376])), ('bias', tensor([0.5440]))])\n",
            "Epoch: 380 | Loss: 0.248296856880188 | Test loss: 0.2639857232570648\n",
            "OrderedDict([('weights', tensor([0.7337])), ('bias', tensor([0.5340]))])\n",
            "Epoch: 390 | Loss: 0.23677602410316467 | Test loss: 0.2505149245262146\n",
            "OrderedDict([('weights', tensor([0.7298])), ('bias', tensor([0.5240]))])\n",
            "Epoch: 400 | Loss: 0.22525517642498016 | Test loss: 0.237044095993042\n",
            "OrderedDict([('weights', tensor([0.7259])), ('bias', tensor([0.5140]))])\n",
            "Epoch: 410 | Loss: 0.21373434364795685 | Test loss: 0.22357328236103058\n",
            "OrderedDict([('weights', tensor([0.7220])), ('bias', tensor([0.5040]))])\n",
            "Epoch: 420 | Loss: 0.20221348106861115 | Test loss: 0.21010248363018036\n",
            "OrderedDict([('weights', tensor([0.7181])), ('bias', tensor([0.4940]))])\n",
            "Epoch: 430 | Loss: 0.19069264829158783 | Test loss: 0.19663166999816895\n",
            "OrderedDict([('weights', tensor([0.7142])), ('bias', tensor([0.4840]))])\n",
            "Epoch: 440 | Loss: 0.17917180061340332 | Test loss: 0.18316085636615753\n",
            "OrderedDict([('weights', tensor([0.7103])), ('bias', tensor([0.4740]))])\n",
            "Epoch: 450 | Loss: 0.16765096783638 | Test loss: 0.1696900576353073\n",
            "OrderedDict([('weights', tensor([0.7064])), ('bias', tensor([0.4640]))])\n",
            "Epoch: 460 | Loss: 0.1561301052570343 | Test loss: 0.1562192142009735\n",
            "OrderedDict([('weights', tensor([0.7025])), ('bias', tensor([0.4540]))])\n",
            "Epoch: 470 | Loss: 0.1446092575788498 | Test loss: 0.14274843037128448\n",
            "OrderedDict([('weights', tensor([0.6986])), ('bias', tensor([0.4440]))])\n",
            "Epoch: 480 | Loss: 0.13308843970298767 | Test loss: 0.12927761673927307\n",
            "OrderedDict([('weights', tensor([0.6947])), ('bias', tensor([0.4340]))])\n",
            "Epoch: 490 | Loss: 0.12156756967306137 | Test loss: 0.11580677330493927\n",
            "OrderedDict([('weights', tensor([0.6908])), ('bias', tensor([0.4240]))])\n",
            "Epoch: 500 | Loss: 0.11004672944545746 | Test loss: 0.10233600437641144\n",
            "OrderedDict([('weights', tensor([0.6869])), ('bias', tensor([0.4140]))])\n",
            "Epoch: 510 | Loss: 0.09852589666843414 | Test loss: 0.08886518329381943\n",
            "OrderedDict([('weights', tensor([0.6830])), ('bias', tensor([0.4040]))])\n",
            "Epoch: 520 | Loss: 0.08700504153966904 | Test loss: 0.07539437711238861\n",
            "OrderedDict([('weights', tensor([0.6791])), ('bias', tensor([0.3940]))])\n",
            "Epoch: 530 | Loss: 0.07548420131206512 | Test loss: 0.0619235523045063\n",
            "OrderedDict([('weights', tensor([0.6752])), ('bias', tensor([0.3840]))])\n",
            "Epoch: 540 | Loss: 0.06396336108446121 | Test loss: 0.04845272749662399\n",
            "OrderedDict([('weights', tensor([0.6713])), ('bias', tensor([0.3740]))])\n",
            "Epoch: 550 | Loss: 0.052442509680986404 | Test loss: 0.03498192876577377\n",
            "OrderedDict([('weights', tensor([0.6674])), ('bias', tensor([0.3640]))])\n",
            "Epoch: 560 | Loss: 0.040921665728092194 | Test loss: 0.021511107683181763\n",
            "OrderedDict([('weights', tensor([0.6635])), ('bias', tensor([0.3540]))])\n",
            "Epoch: 570 | Loss: 0.029400816187262535 | Test loss: 0.008040308952331543\n",
            "OrderedDict([('weights', tensor([0.6596])), ('bias', tensor([0.3440]))])\n",
            "Epoch: 580 | Loss: 0.017879974097013474 | Test loss: 0.0054305074736475945\n",
            "OrderedDict([('weights', tensor([0.6557])), ('bias', tensor([0.3340]))])\n",
            "Epoch: 590 | Loss: 0.011684718541800976 | Test loss: 0.013987964019179344\n",
            "OrderedDict([('weights', tensor([0.6539])), ('bias', tensor([0.3270]))])\n",
            "Epoch: 600 | Loss: 0.010024385526776314 | Test loss: 0.01766524836421013\n",
            "OrderedDict([('weights', tensor([0.6541])), ('bias', tensor([0.3232]))])\n",
            "Epoch: 610 | Loss: 0.009334058500826359 | Test loss: 0.0191509909927845\n",
            "OrderedDict([('weights', tensor([0.6551])), ('bias', tensor([0.3208]))])\n",
            "Epoch: 620 | Loss: 0.008893127553164959 | Test loss: 0.019572770223021507\n",
            "OrderedDict([('weights', tensor([0.6564])), ('bias', tensor([0.3192]))])\n",
            "Epoch: 630 | Loss: 0.008530955761671066 | Test loss: 0.01922694966197014\n",
            "OrderedDict([('weights', tensor([0.6580])), ('bias', tensor([0.3182]))])\n",
            "Epoch: 640 | Loss: 0.008178118616342545 | Test loss: 0.018811482936143875\n",
            "OrderedDict([('weights', tensor([0.6596])), ('bias', tensor([0.3172]))])\n",
            "Epoch: 650 | Loss: 0.007828602567315102 | Test loss: 0.01825873926281929\n",
            "OrderedDict([('weights', tensor([0.6612])), ('bias', tensor([0.3163]))])\n",
            "Epoch: 660 | Loss: 0.00748574361205101 | Test loss: 0.017431367188692093\n",
            "OrderedDict([('weights', tensor([0.6629])), ('bias', tensor([0.3156]))])\n",
            "Epoch: 670 | Loss: 0.007141849957406521 | Test loss: 0.016604000702500343\n",
            "OrderedDict([('weights', tensor([0.6646])), ('bias', tensor([0.3149]))])\n",
            "Epoch: 680 | Loss: 0.006798344198614359 | Test loss: 0.01584530435502529\n",
            "OrderedDict([('weights', tensor([0.6663])), ('bias', tensor([0.3141]))])\n",
            "Epoch: 690 | Loss: 0.006455325987190008 | Test loss: 0.015017908997833729\n",
            "OrderedDict([('weights', tensor([0.6681])), ('bias', tensor([0.3134]))])\n",
            "Epoch: 700 | Loss: 0.006111425347626209 | Test loss: 0.014190560206770897\n",
            "OrderedDict([('weights', tensor([0.6698])), ('bias', tensor([0.3127]))])\n",
            "Epoch: 710 | Loss: 0.00576809560880065 | Test loss: 0.01343185268342495\n",
            "OrderedDict([('weights', tensor([0.6715])), ('bias', tensor([0.3120]))])\n",
            "Epoch: 720 | Loss: 0.0054248906672000885 | Test loss: 0.012604475021362305\n",
            "OrderedDict([('weights', tensor([0.6732])), ('bias', tensor([0.3113]))])\n",
            "Epoch: 730 | Loss: 0.005080985836684704 | Test loss: 0.011777120642364025\n",
            "OrderedDict([('weights', tensor([0.6749])), ('bias', tensor([0.3106]))])\n",
            "Epoch: 740 | Loss: 0.004737831652164459 | Test loss: 0.011018401011824608\n",
            "OrderedDict([('weights', tensor([0.6766])), ('bias', tensor([0.3098]))])\n",
            "Epoch: 750 | Loss: 0.004394450690597296 | Test loss: 0.01019102893769741\n",
            "OrderedDict([('weights', tensor([0.6783])), ('bias', tensor([0.3091]))])\n",
            "Epoch: 760 | Loss: 0.004050546791404486 | Test loss: 0.009363656863570213\n",
            "OrderedDict([('weights', tensor([0.6800])), ('bias', tensor([0.3084]))])\n",
            "Epoch: 770 | Loss: 0.0037075714208185673 | Test loss: 0.008604961447417736\n",
            "OrderedDict([('weights', tensor([0.6817])), ('bias', tensor([0.3077]))])\n",
            "Epoch: 780 | Loss: 0.003364016767591238 | Test loss: 0.007777601480484009\n",
            "OrderedDict([('weights', tensor([0.6834])), ('bias', tensor([0.3070]))])\n",
            "Epoch: 790 | Loss: 0.0030201792251318693 | Test loss: 0.0070188818499445915\n",
            "OrderedDict([('weights', tensor([0.6851])), ('bias', tensor([0.3062]))])\n",
            "Epoch: 800 | Loss: 0.0026773184072226286 | Test loss: 0.0061914981342852116\n",
            "OrderedDict([('weights', tensor([0.6869])), ('bias', tensor([0.3055]))])\n",
            "Epoch: 810 | Loss: 0.0023335821460932493 | Test loss: 0.005364149808883667\n",
            "OrderedDict([('weights', tensor([0.6886])), ('bias', tensor([0.3048]))])\n",
            "Epoch: 820 | Loss: 0.0019899189937859774 | Test loss: 0.004605448339134455\n",
            "OrderedDict([('weights', tensor([0.6903])), ('bias', tensor([0.3041]))])\n",
            "Epoch: 830 | Loss: 0.001647049910388887 | Test loss: 0.0037780702114105225\n",
            "OrderedDict([('weights', tensor([0.6920])), ('bias', tensor([0.3034]))])\n",
            "Epoch: 840 | Loss: 0.001303145312704146 | Test loss: 0.0029507100116461515\n",
            "OrderedDict([('weights', tensor([0.6937])), ('bias', tensor([0.3027]))])\n",
            "Epoch: 850 | Loss: 0.0009596645832061768 | Test loss: 0.0021920024883002043\n",
            "OrderedDict([('weights', tensor([0.6954])), ('bias', tensor([0.3019]))])\n",
            "Epoch: 860 | Loss: 0.0006166137754917145 | Test loss: 0.001364630414173007\n",
            "OrderedDict([('weights', tensor([0.6971])), ('bias', tensor([0.3012]))])\n",
            "Epoch: 870 | Loss: 0.000272712844889611 | Test loss: 0.0005372583982534707\n",
            "OrderedDict([('weights', tensor([0.6988])), ('bias', tensor([0.3005]))])\n",
            "Epoch: 880 | Loss: 0.0003208882990293205 | Test loss: 0.0007917463663034141\n",
            "OrderedDict([('weights', tensor([0.6999])), ('bias', tensor([0.3009]))])\n",
            "Epoch: 890 | Loss: 0.0003208882990293205 | Test loss: 0.0007917463663034141\n",
            "OrderedDict([('weights', tensor([0.6999])), ('bias', tensor([0.3009]))])\n",
            "Epoch: 900 | Loss: 0.0003208882990293205 | Test loss: 0.0007917463663034141\n",
            "OrderedDict([('weights', tensor([0.6999])), ('bias', tensor([0.3009]))])\n",
            "Epoch: 910 | Loss: 0.0003208882990293205 | Test loss: 0.0007917463663034141\n",
            "OrderedDict([('weights', tensor([0.6999])), ('bias', tensor([0.3009]))])\n",
            "Epoch: 920 | Loss: 0.0003208882990293205 | Test loss: 0.0007917463663034141\n",
            "OrderedDict([('weights', tensor([0.6999])), ('bias', tensor([0.3009]))])\n",
            "Epoch: 930 | Loss: 0.0003208882990293205 | Test loss: 0.0007917463663034141\n",
            "OrderedDict([('weights', tensor([0.6999])), ('bias', tensor([0.3009]))])\n",
            "Epoch: 940 | Loss: 0.0003208882990293205 | Test loss: 0.0007917463663034141\n",
            "OrderedDict([('weights', tensor([0.6999])), ('bias', tensor([0.3009]))])\n",
            "Epoch: 950 | Loss: 0.0003208882990293205 | Test loss: 0.0007917463663034141\n",
            "OrderedDict([('weights', tensor([0.6999])), ('bias', tensor([0.3009]))])\n",
            "Epoch: 960 | Loss: 0.0003208882990293205 | Test loss: 0.0007917463663034141\n",
            "OrderedDict([('weights', tensor([0.6999])), ('bias', tensor([0.3009]))])\n",
            "Epoch: 970 | Loss: 0.0003208882990293205 | Test loss: 0.0007917463663034141\n",
            "OrderedDict([('weights', tensor([0.6999])), ('bias', tensor([0.3009]))])\n",
            "Epoch: 980 | Loss: 0.0003208882990293205 | Test loss: 0.0007917463663034141\n",
            "OrderedDict([('weights', tensor([0.6999])), ('bias', tensor([0.3009]))])\n",
            "Epoch: 990 | Loss: 0.0003208882990293205 | Test loss: 0.0007917463663034141\n",
            "OrderedDict([('weights', tensor([0.6999])), ('bias', tensor([0.3009]))])\n"
          ]
        }
      ]
    },
    {
      "cell_type": "code",
      "source": [
        "# Plot the loss curves\n",
        "def loss_curves(epoch_count, loss_values, test_loss_values):\n",
        "  plt.plot(epoch_count, np.array(torch.tensor(loss_values).numpy()), label='Train loss')\n",
        "  plt.plot(epoch_count, np.array(torch.tensor(test_loss_values).numpy()), label='Test loss')\n",
        "  plt.title('Training and testing los curves')\n",
        "  plt.ylabel('Loss')\n",
        "  plt.xlabel('Epochs')\n",
        "  plt.legend()\n",
        "  return plt "
      ],
      "metadata": {
        "id": "m2KwnmR2ZLi6"
      },
      "execution_count": 15,
      "outputs": []
    },
    {
      "cell_type": "code",
      "source": [
        "# Presenting loss curves\n",
        "loss_curves(epoch_count, loss_values, test_loss_values)"
      ],
      "metadata": {
        "colab": {
          "base_uri": "https://localhost:8080/",
          "height": 489
        },
        "id": "DRX9r65pf1Fn",
        "outputId": "b37c223b-64ef-4832-c5f7-09092a7acbec"
      },
      "execution_count": 16,
      "outputs": [
        {
          "output_type": "execute_result",
          "data": {
            "text/plain": [
              "<module 'matplotlib.pyplot' from '/usr/local/lib/python3.9/dist-packages/matplotlib/pyplot.py'>"
            ]
          },
          "metadata": {},
          "execution_count": 16
        },
        {
          "output_type": "display_data",
          "data": {
            "text/plain": [
              "<Figure size 640x480 with 1 Axes>"
            ],
            "image/png": "[encoded data removed]"
          },
          "metadata": {}
        }
      ]
    },
    {
      "cell_type": "code",
      "source": [
        "with torch.inference_mode():\n",
        "  y_preds_new = model_0(X_test)\n",
        "\n",
        "plot_predictions(predictions=y_preds_new)"
      ],
      "metadata": {
        "colab": {
          "base_uri": "https://localhost:8080/",
          "height": 599
        },
        "id": "TbgEt71RR1xW",
        "outputId": "5ca3ac4a-18cf-4e9b-e0ad-9d5375f442bf"
      },
      "execution_count": 17,
      "outputs": [
        {
          "output_type": "display_data",
          "data": {
            "text/plain": [
              "<Figure size 1000x700 with 1 Axes>"
            ],
            "image/png": "[encoded data removed]"
          },
          "metadata": {}
        }
      ]
    },
    {
      "cell_type": "markdown",
      "source": [
        "## Saving a model in PyTorch\n",
        "\n",
        "There is a method we can use to saving and loading models in PyTorch:\n",
        "1. `torch.save()` - allows to save a PyTorch object in [Python's pickle](https://docs.python.org/3/library/pickle.html) format.\n",
        "\n",
        "\n",
        "https://pytorch.org/tutorials/beginner/saving_loading_models.html\n"
      ],
      "metadata": {
        "id": "xRi0IeuNgfTo"
      }
    },
    {
      "cell_type": "code",
      "source": [
        "# Saving our PyTorch model \n",
        "from pathlib import Path\n",
        "\n",
        "# 1. Create model's directory \n",
        "MODEL_PATH = Path('/content/models')\n",
        "MODEL_PATH.mkdir(parents=True, exist_ok=True)\n",
        "\n",
        "# 2. Create model save path\n",
        "MODEL_NAME = '01_pytorch_model_0.pth'\n",
        "MODEL_SAVE_PATH = MODEL_PATH / MODEL_NAME\n",
        "\n",
        "# 3. Save the model state dict\n",
        "print(f'Saving model to: {MODEL_SAVE_PATH}')\n",
        "torch.save(obj=model_0.state_dict(), \n",
        "           f=MODEL_SAVE_PATH) \n"
      ],
      "metadata": {
        "colab": {
          "base_uri": "https://localhost:8080/"
        },
        "id": "ZQ3tNNi4SkTU",
        "outputId": "4027953d-e0bb-4d91-d0b7-53c8d242aac1"
      },
      "execution_count": 18,
      "outputs": [
        {
          "output_type": "stream",
          "name": "stdout",
          "text": [
            "Saving model to: /content/models/01_pytorch_model_0.pth\n"
          ]
        }
      ]
    },
    {
      "cell_type": "markdown",
      "source": [
        "## Loading a saved PyTorch model\n",
        "\n",
        "To perform that we can use:\n",
        "1. `torch.load()` - allows to load a saved PyTorch object.\n",
        "2. `torch.nn.Module.load_state_dict()` - allows to load a model's saved state dictionary.\n",
        "\n",
        "Since we saved our model's `state_dict()` rather than entire moedel, we'll create a new instance of our model class and load the saved `state_dict()` into that."
      ],
      "metadata": {
        "id": "YVefUlQPk_5s"
      }
    },
    {
      "cell_type": "code",
      "source": [
        "# To load in a saved state_dict we have to instantiase a new instance of our model class\n",
        "loaded_model = LinearRegessionModel()\n",
        "\n",
        "# Load the saved state dict of a model (this will update the new instance with updated parameters)\n",
        "loaded_model.load_state_dict(torch.load(f=MODEL_SAVE_PATH))"
      ],
      "metadata": {
        "colab": {
          "base_uri": "https://localhost:8080/"
        },
        "id": "tkj3Tr93kiq9",
        "outputId": "ad0f8cc0-9e51-4f9b-962c-1246d5d65df6"
      },
      "execution_count": 19,
      "outputs": [
        {
          "output_type": "execute_result",
          "data": {
            "text/plain": [
              "<All keys matched successfully>"
            ]
          },
          "metadata": {},
          "execution_count": 19
        }
      ]
    },
    {
      "cell_type": "code",
      "source": [
        "# Printing out state_dict of models\n",
        "print(f'Saved moedel: {model_0.state_dict()}')\n",
        "print(f'Loaded moedel: {loaded_model.state_dict()}')\n",
        "\n",
        "if model_0.state_dict() == loaded_model.state_dict(): print('Loaded model is matching with saved one!')"
      ],
      "metadata": {
        "colab": {
          "base_uri": "https://localhost:8080/"
        },
        "id": "uDrLPsULm7Qc",
        "outputId": "aad21fcd-b0a6-49d6-8767-413159359e62"
      },
      "execution_count": 20,
      "outputs": [
        {
          "output_type": "stream",
          "name": "stdout",
          "text": [
            "Saved moedel: OrderedDict([('weights', tensor([0.6995])), ('bias', tensor([0.2999]))])\n",
            "Loaded moedel: OrderedDict([('weights', tensor([0.6995])), ('bias', tensor([0.2999]))])\n",
            "Loaded model is matching with saved one!\n"
          ]
        }
      ]
    },
    {
      "cell_type": "code",
      "source": [
        "# Make some model predictions \n",
        "model_0.eval()\n",
        "\n",
        "with torch.inference_mode():\n",
        "  y_preds = model_0(X_test)\n",
        "\n",
        "y_preds"
      ],
      "metadata": {
        "colab": {
          "base_uri": "https://localhost:8080/"
        },
        "id": "g1X6Gu-8pYWD",
        "outputId": "c01c24b1-0f7a-49ae-be59-423336f0f301"
      },
      "execution_count": 21,
      "outputs": [
        {
          "output_type": "execute_result",
          "data": {
            "text/plain": [
              "tensor([[0.8595],\n",
              "        [0.8735],\n",
              "        [0.8875],\n",
              "        [0.9015],\n",
              "        [0.9154],\n",
              "        [0.9294],\n",
              "        [0.9434],\n",
              "        [0.9574],\n",
              "        [0.9714],\n",
              "        [0.9854]])"
            ]
          },
          "metadata": {},
          "execution_count": 21
        }
      ]
    },
    {
      "cell_type": "code",
      "source": [
        "# Make some predictions with our loaded model \n",
        "loaded_model.eval()\n",
        "\n",
        "with torch.inference_mode():\n",
        "  loaded_model_preds = loaded_model(X_test)\n",
        "\n",
        "loaded_model_preds"
      ],
      "metadata": {
        "colab": {
          "base_uri": "https://localhost:8080/"
        },
        "id": "ulh8kMBOntr8",
        "outputId": "e2eb6174-e314-4398-8b4e-acc9a80cbffe"
      },
      "execution_count": 22,
      "outputs": [
        {
          "output_type": "execute_result",
          "data": {
            "text/plain": [
              "tensor([[0.8595],\n",
              "        [0.8735],\n",
              "        [0.8875],\n",
              "        [0.9015],\n",
              "        [0.9154],\n",
              "        [0.9294],\n",
              "        [0.9434],\n",
              "        [0.9574],\n",
              "        [0.9714],\n",
              "        [0.9854]])"
            ]
          },
          "metadata": {},
          "execution_count": 22
        }
      ]
    },
    {
      "cell_type": "code",
      "source": [
        "# Comparing loaded preds with orginal model preds\n",
        "y_preds == loaded_model_preds\n"
      ],
      "metadata": {
        "colab": {
          "base_uri": "https://localhost:8080/"
        },
        "id": "EzlJCIBKn2yR",
        "outputId": "409e8074-5e2f-40ca-c942-0240c027c8b1"
      },
      "execution_count": 23,
      "outputs": [
        {
          "output_type": "execute_result",
          "data": {
            "text/plain": [
              "tensor([[True],\n",
              "        [True],\n",
              "        [True],\n",
              "        [True],\n",
              "        [True],\n",
              "        [True],\n",
              "        [True],\n",
              "        [True],\n",
              "        [True],\n",
              "        [True]])"
            ]
          },
          "metadata": {},
          "execution_count": 23
        }
      ]
    },
    {
      "cell_type": "markdown",
      "source": [
        "## Putting all together "
      ],
      "metadata": {
        "id": "s59XyNa_p_Gx"
      }
    },
    {
      "cell_type": "markdown",
      "source": [
        "### Imports"
      ],
      "metadata": {
        "id": "Ro3oZQNAqkvC"
      }
    },
    {
      "cell_type": "code",
      "source": [
        "import torch \n",
        "from torch import nn\n",
        "import matplotlib.pyplot as plt\n",
        "import numpy as np"
      ],
      "metadata": {
        "id": "hcIRYI9ZpOT-"
      },
      "execution_count": 24,
      "outputs": []
    },
    {
      "cell_type": "markdown",
      "source": [
        "### Creating decide-agnostic code\n",
        "\n",
        "*If we have acces to a GPU, our code will use it.* \n",
        "\n",
        "*If GPU is not available, the code will default to useing CPU*"
      ],
      "metadata": {
        "id": "kbakG6Haq8Ny"
      }
    },
    {
      "cell_type": "code",
      "source": [
        "# Setup device agnostic code\n",
        "device = 'cuda' if torch.cuda.is_available() else 'cpu'\n",
        "print(f'Using {device}')\n",
        "\n",
        "if device == 'cuda': \n",
        "  !nvidia-smi"
      ],
      "metadata": {
        "colab": {
          "base_uri": "https://localhost:8080/"
        },
        "id": "IsOQ-1bRrFfp",
        "outputId": "7ef8e0c6-667f-48e2-f802-bb4f71f63136"
      },
      "execution_count": 25,
      "outputs": [
        {
          "output_type": "stream",
          "name": "stdout",
          "text": [
            "Using cuda\n",
            "Sat Apr 15 14:14:01 2023       \n",
            "+-----------------------------------------------------------------------------+\n",
            "| NVIDIA-SMI 525.85.12    Driver Version: 525.85.12    CUDA Version: 12.0     |\n",
            "|-------------------------------+----------------------+----------------------+\n",
            "| GPU  Name        Persistence-M| Bus-Id        Disp.A | Volatile Uncorr. ECC |\n",
            "| Fan  Temp  Perf  Pwr:Usage/Cap|         Memory-Usage | GPU-Util  Compute M. |\n",
            "|                               |                      |               MIG M. |\n",
            "|===============================+======================+======================|\n",
            "|   0  Tesla T4            Off  | 00000000:00:04.0 Off |                    0 |\n",
            "| N/A   67C    P8    13W /  70W |      3MiB / 15360MiB |      0%      Default |\n",
            "|                               |                      |                  N/A |\n",
            "+-------------------------------+----------------------+----------------------+\n",
            "                                                                               \n",
            "+-----------------------------------------------------------------------------+\n",
            "| Processes:                                                                  |\n",
            "|  GPU   GI   CI        PID   Type   Process name                  GPU Memory |\n",
            "|        ID   ID                                                   Usage      |\n",
            "|=============================================================================|\n",
            "|  No running processes found                                                 |\n",
            "+-----------------------------------------------------------------------------+\n"
          ]
        }
      ]
    },
    {
      "cell_type": "markdown",
      "source": [
        "### Data"
      ],
      "metadata": {
        "id": "zrLnjBI4qkRG"
      }
    },
    {
      "cell_type": "code",
      "source": [
        "# Create some data using in linear regression formula of y = weight * X + bias\n",
        "weight = 0.1\n",
        "bias = 0.4\n",
        "\n",
        "# Create range of values\n",
        "start = 0\n",
        "end = 1\n",
        "step = 0.001\n",
        "\n",
        "# Create X and y (features and labels)\n",
        "X = torch.arange(start, end, step).unsqueeze(dim=1) # Warning: remember to unsqueeze, preventing error\n",
        "y = weight * X + bias"
      ],
      "metadata": {
        "id": "WJQk6tkjqovY"
      },
      "execution_count": 26,
      "outputs": []
    },
    {
      "cell_type": "code",
      "source": [
        "# Split data\n",
        "train_split = int(0.8 * len(X))\n",
        "X_train, y_train = X[:train_split], y[:train_split]\n",
        "X_test, y_test = X[train_split:], y[train_split:]\n",
        "len(X_train), len(y_train), len(X_test), len(y_test)"
      ],
      "metadata": {
        "colab": {
          "base_uri": "https://localhost:8080/"
        },
        "id": "aCjccTA0tdrX",
        "outputId": "a30666dd-a7c3-4a05-db0d-3adf6fa3969d"
      },
      "execution_count": 27,
      "outputs": [
        {
          "output_type": "execute_result",
          "data": {
            "text/plain": [
              "(800, 800, 200, 200)"
            ]
          },
          "metadata": {},
          "execution_count": 27
        }
      ]
    },
    {
      "cell_type": "code",
      "source": [
        "def plot_predictions(train_data=X_train,\n",
        "                     train_labels=y_train,\n",
        "                     test_data=X_test,\n",
        "                     test_labels=y_test,\n",
        "                     predictions=None):\n",
        "  \"\"\"\n",
        "  Plots training data, test data and compares predictions.\n",
        "  \"\"\"\n",
        "  \n",
        "  plt.figure(figsize=(10,7))\n",
        "\n",
        "  # Plot training data in blue\n",
        "  plt.scatter(train_data, train_labels, c='b', s=4, label='Training data') \n",
        "\n",
        "  # Plot test data in red\n",
        "  plt.scatter(test_data, test_labels, c='#8a2be2', s=4, label='Test data')\n",
        "\n",
        "  # Are there predictions?\n",
        "  if predictions is not None:\n",
        "    # Plot the predictions if they exist\n",
        "    plt.scatter(test_data, predictions, c='r', s=4, label='Predictions')\n",
        "\n",
        "  # Show the legend\n",
        "  plt.legend(prop={'size': 14}) "
      ],
      "metadata": {
        "id": "ZspSfVnnCwRh"
      },
      "execution_count": 28,
      "outputs": []
    },
    {
      "cell_type": "code",
      "source": [
        "plot_predictions(X_train, y_train, X_test, y_test)"
      ],
      "metadata": {
        "colab": {
          "base_uri": "https://localhost:8080/",
          "height": 599
        },
        "id": "-svm2CJnuqNw",
        "outputId": "551786e6-d7c9-46e9-d324-9ba54f702437"
      },
      "execution_count": 29,
      "outputs": [
        {
          "output_type": "display_data",
          "data": {
            "text/plain": [
              "<Figure size 1000x700 with 1 Axes>"
            ],
            "image/png": "[encoded data removed]"
          },
          "metadata": {}
        }
      ]
    },
    {
      "cell_type": "code",
      "source": [
        "# Put data on the target device (device agnostic code for data)\n",
        "X_train = X_train.to(device)\n",
        "y_train = y_train.to(device)\n",
        "X_test = X_test.to(device)\n",
        "y_test = y_test.to(device)"
      ],
      "metadata": {
        "id": "b9HP1dTSLlK1"
      },
      "execution_count": 30,
      "outputs": []
    },
    {
      "cell_type": "markdown",
      "source": [
        "### Building PyTorch linear model"
      ],
      "metadata": {
        "id": "p8HIlJ-ivQHF"
      }
    },
    {
      "cell_type": "code",
      "source": [
        "# Create linear regression model\n",
        "class NewLinearRegressionModel(nn.Module):\n",
        "  def __init__(self):\n",
        "    super().__init__()\n",
        "    # Use `nn.Linear()` to create the model parameters - https://pytorch.org/docs/stable/generated/torch.nn.Linear.html?highlight=torch+nn+linear#torch.nn.Linear\n",
        "    self.linear_layer = nn.Linear(in_features=1, \n",
        "                                  out_features=1) \n",
        "\n",
        "  def forward(self, x: torch.Tensor) -> torch.Tensor:\n",
        "    return self.linear_layer(x)\n",
        "\n",
        "# Set manual seed\n",
        "torch.manual_seed(42)\n",
        "\n",
        "# Class initialization\n",
        "model_1 = NewLinearRegressionModel()\n",
        "model_1,  model_1.state_dict()"
      ],
      "metadata": {
        "colab": {
          "base_uri": "https://localhost:8080/"
        },
        "id": "tKmqcxrfuuGb",
        "outputId": "646ffd9a-cb86-4bbe-ed59-b823437d0700"
      },
      "execution_count": 31,
      "outputs": [
        {
          "output_type": "execute_result",
          "data": {
            "text/plain": [
              "(NewLinearRegressionModel(\n",
              "   (linear_layer): Linear(in_features=1, out_features=1, bias=True)\n",
              " ),\n",
              " OrderedDict([('linear_layer.weight', tensor([[0.7645]])),\n",
              "              ('linear_layer.bias', tensor([0.8300]))]))"
            ]
          },
          "metadata": {},
          "execution_count": 31
        }
      ]
    },
    {
      "cell_type": "code",
      "source": [
        "# Check the model current device \n",
        "next(model_1.parameters()).device"
      ],
      "metadata": {
        "colab": {
          "base_uri": "https://localhost:8080/"
        },
        "id": "9pw-O2B_xqEb",
        "outputId": "30fc1623-5a6c-4d0c-cd1b-34ffdd2e956f"
      },
      "execution_count": 32,
      "outputs": [
        {
          "output_type": "execute_result",
          "data": {
            "text/plain": [
              "device(type='cpu')"
            ]
          },
          "metadata": {},
          "execution_count": 32
        }
      ]
    },
    {
      "cell_type": "code",
      "source": [
        "# Set model to use the target device\n",
        "model_1.to(device)\n",
        "next(model_1.parameters()).device"
      ],
      "metadata": {
        "colab": {
          "base_uri": "https://localhost:8080/"
        },
        "id": "7xoIWezXzZL1",
        "outputId": "4fa4518b-86f3-44e3-d9ee-d755b29b8dd5"
      },
      "execution_count": 33,
      "outputs": [
        {
          "output_type": "execute_result",
          "data": {
            "text/plain": [
              "device(type='cuda', index=0)"
            ]
          },
          "metadata": {},
          "execution_count": 33
        }
      ]
    },
    {
      "cell_type": "markdown",
      "source": [
        "### Training \n",
        "For training we need: \n",
        "1. Loss function \n",
        "2. Optimizer \n",
        "3. Training loop\n",
        "4. Testing loop"
      ],
      "metadata": {
        "id": "fbJOGYr-ywwv"
      }
    },
    {
      "cell_type": "markdown",
      "source": [
        "#### Loss function"
      ],
      "metadata": {
        "id": "D5fwh_dc0Czq"
      }
    },
    {
      "cell_type": "code",
      "source": [
        "# Setup loss function\n",
        "loss_fn = nn.L1Loss() # MAE"
      ],
      "metadata": {
        "id": "mMfior3mz5N0"
      },
      "execution_count": 34,
      "outputs": []
    },
    {
      "cell_type": "markdown",
      "source": [
        "#### Optimizer"
      ],
      "metadata": {
        "id": "KJDC3zM40g7T"
      }
    },
    {
      "cell_type": "code",
      "source": [
        "# Setup optimizer\n",
        "optimizer = torch.optim.SGD(params=model_1.parameters(), lr=0.001)"
      ],
      "metadata": {
        "id": "kQ-QE91C0gga"
      },
      "execution_count": 35,
      "outputs": []
    },
    {
      "cell_type": "markdown",
      "source": [
        "#### Training/Testing loop"
      ],
      "metadata": {
        "id": "eXnlw5ZX1GOp"
      }
    },
    {
      "cell_type": "code",
      "source": [
        "### Preparation\n",
        "# Setup manual seed\n",
        "torch.manual_seed(42)\n",
        "\n",
        "# Setup epochs\n",
        "epochs = 5000\n",
        "\n",
        "# Tracking values\n",
        "epoch_count = []\n",
        "loss_values = []\n",
        "test_loss_values =[]\n",
        "\n",
        "### TRAIN\n",
        "for epoch in range(epochs):\n",
        "  model_1.train()\n",
        "\n",
        "  # 1. Forward pass\n",
        "  y_preds = model_1(X_train)\n",
        "\n",
        "  # 2. Calculate the loss\n",
        "  loss = loss_fn(y_preds, y_train)\n",
        "\n",
        "  # 3. Optimizer zero grand\n",
        "  optimizer.zero_grad()\n",
        "\n",
        "  # 4. Perform backpropagation\n",
        "  loss.backward()\n",
        "\n",
        "  # 5. Optimizer step\n",
        "  optimizer.step()\n",
        "\n",
        "  ### TEST\n",
        "  model_1.eval()\n",
        "  with torch.inference_mode():\n",
        "    # 1. Forward pass\n",
        "    test_pred = model_1(X_test)\n",
        "\n",
        "    # 2. Calculate loss\n",
        "    test_loss = loss_fn(test_pred, y_test)\n",
        "\n",
        "    # 3. Printing what' happening\n",
        "    if epoch % 100 == 0:\n",
        "      epoch_count.append(epoch)\n",
        "      loss_values.append(loss)\n",
        "      test_loss_values.append(test_loss)\n",
        "      print(f'Epoch: {epoch} | Loss: {loss} | Test loss: {test_loss}')\n",
        "\n"
      ],
      "metadata": {
        "colab": {
          "base_uri": "https://localhost:8080/"
        },
        "id": "lUKDzZ_50uGy",
        "outputId": "b6784ec7-b9d3-4561-b2c7-4d5529ce3157"
      },
      "execution_count": 36,
      "outputs": [
        {
          "output_type": "stream",
          "name": "stdout",
          "text": [
            "Epoch: 0 | Loss: 0.6954910159111023 | Test loss: 1.0264010429382324\n",
            "Epoch: 100 | Loss: 0.5795335173606873 | Test loss: 0.8904699683189392\n",
            "Epoch: 200 | Loss: 0.46357589960098267 | Test loss: 0.7545388340950012\n",
            "Epoch: 300 | Loss: 0.3476184010505676 | Test loss: 0.618607759475708\n",
            "Epoch: 400 | Loss: 0.2316608428955078 | Test loss: 0.4826766848564148\n",
            "Epoch: 500 | Loss: 0.13659553229808807 | Test loss: 0.35891926288604736\n",
            "Epoch: 600 | Loss: 0.09723494946956635 | Test loss: 0.27652615308761597\n",
            "Epoch: 700 | Loss: 0.08231397718191147 | Test loss: 0.22578170895576477\n",
            "Epoch: 800 | Loss: 0.07572188973426819 | Test loss: 0.19518622756004333\n",
            "Epoch: 900 | Loss: 0.07153525948524475 | Test loss: 0.17603445053100586\n",
            "Epoch: 1000 | Loss: 0.06795249879360199 | Test loss: 0.1628427654504776\n",
            "Epoch: 1100 | Loss: 0.06450457125902176 | Test loss: 0.15255607664585114\n",
            "Epoch: 1200 | Loss: 0.061083611100912094 | Test loss: 0.14358234405517578\n",
            "Epoch: 1300 | Loss: 0.057667315006256104 | Test loss: 0.13518184423446655\n",
            "Epoch: 1400 | Loss: 0.0542520135641098 | Test loss: 0.12714192271232605\n",
            "Epoch: 1500 | Loss: 0.050836704671382904 | Test loss: 0.11910201609134674\n",
            "Epoch: 1600 | Loss: 0.047421395778656006 | Test loss: 0.11106210201978683\n",
            "Epoch: 1700 | Loss: 0.044006090611219406 | Test loss: 0.10302218049764633\n",
            "Epoch: 1800 | Loss: 0.04059078171849251 | Test loss: 0.09498226642608643\n",
            "Epoch: 1900 | Loss: 0.03717547655105591 | Test loss: 0.08694234490394592\n",
            "Epoch: 2000 | Loss: 0.03376017138361931 | Test loss: 0.07891283929347992\n",
            "Epoch: 2100 | Loss: 0.030344877392053604 | Test loss: 0.07092148810625076\n",
            "Epoch: 2200 | Loss: 0.0269295834004879 | Test loss: 0.06293012201786041\n",
            "Epoch: 2300 | Loss: 0.023514287546277046 | Test loss: 0.054938774555921555\n",
            "Epoch: 2400 | Loss: 0.020098991692066193 | Test loss: 0.0469474121928215\n",
            "Epoch: 2500 | Loss: 0.01668369770050049 | Test loss: 0.03895605355501175\n",
            "Epoch: 2600 | Loss: 0.01326840091496706 | Test loss: 0.030966434627771378\n",
            "Epoch: 2700 | Loss: 0.00985310785472393 | Test loss: 0.022976811975240707\n",
            "Epoch: 2800 | Loss: 0.006437813863158226 | Test loss: 0.014985455200076103\n",
            "Epoch: 2900 | Loss: 0.003022592980414629 | Test loss: 0.006992764305323362\n",
            "Epoch: 3000 | Loss: 0.000569698924664408 | Test loss: 0.0005341412033885717\n",
            "Epoch: 3100 | Loss: 0.000569698924664408 | Test loss: 0.0005341412033885717\n",
            "Epoch: 3200 | Loss: 0.000569698924664408 | Test loss: 0.0005341412033885717\n",
            "Epoch: 3300 | Loss: 0.000569698924664408 | Test loss: 0.0005341412033885717\n",
            "Epoch: 3400 | Loss: 0.000569698924664408 | Test loss: 0.0005341412033885717\n",
            "Epoch: 3500 | Loss: 0.000569698924664408 | Test loss: 0.0005341412033885717\n",
            "Epoch: 3600 | Loss: 0.000569698924664408 | Test loss: 0.0005341412033885717\n",
            "Epoch: 3700 | Loss: 0.000569698924664408 | Test loss: 0.0005341412033885717\n",
            "Epoch: 3800 | Loss: 0.000569698924664408 | Test loss: 0.0005341412033885717\n",
            "Epoch: 3900 | Loss: 0.000569698924664408 | Test loss: 0.0005341412033885717\n",
            "Epoch: 4000 | Loss: 0.000569698924664408 | Test loss: 0.0005341412033885717\n",
            "Epoch: 4100 | Loss: 0.000569698924664408 | Test loss: 0.0005341412033885717\n",
            "Epoch: 4200 | Loss: 0.000569698924664408 | Test loss: 0.0005341412033885717\n",
            "Epoch: 4300 | Loss: 0.000569698924664408 | Test loss: 0.0005341412033885717\n",
            "Epoch: 4400 | Loss: 0.000569698924664408 | Test loss: 0.0005341412033885717\n",
            "Epoch: 4500 | Loss: 0.000569698924664408 | Test loss: 0.0005341412033885717\n",
            "Epoch: 4600 | Loss: 0.000569698924664408 | Test loss: 0.0005341412033885717\n",
            "Epoch: 4700 | Loss: 0.000569698924664408 | Test loss: 0.0005341412033885717\n",
            "Epoch: 4800 | Loss: 0.000569698924664408 | Test loss: 0.0005341412033885717\n",
            "Epoch: 4900 | Loss: 0.000569698924664408 | Test loss: 0.0005341412033885717\n"
          ]
        }
      ]
    },
    {
      "cell_type": "code",
      "source": [
        "model_1.state_dict()\n"
      ],
      "metadata": {
        "colab": {
          "base_uri": "https://localhost:8080/"
        },
        "id": "1b27GVJP8J5b",
        "outputId": "bb78869c-ce45-490b-cf09-b26026574b8a"
      },
      "execution_count": 37,
      "outputs": [
        {
          "output_type": "execute_result",
          "data": {
            "text/plain": [
              "OrderedDict([('linear_layer.weight', tensor([[0.1005]], device='cuda:0')),\n",
              "             ('linear_layer.bias', tensor([0.4004], device='cuda:0'))])"
            ]
          },
          "metadata": {},
          "execution_count": 37
        }
      ]
    },
    {
      "cell_type": "code",
      "source": [
        "# Plot the loss curves\n",
        "def loss_curves(epoch_count, loss_values, test_loss_values):\n",
        "  plt.plot(epoch_count, np.array(torch.tensor(loss_values).numpy()), label='Train loss')\n",
        "  plt.plot(epoch_count, np.array(torch.tensor(test_loss_values).numpy()), label='Test loss')\n",
        "  plt.title('Training and testing los curves')\n",
        "  plt.ylabel('Loss')\n",
        "  plt.xlabel('Epochs')\n",
        "  plt.legend()\n",
        "  return plt "
      ],
      "metadata": {
        "id": "Dz7_9vQdGFWq"
      },
      "execution_count": 38,
      "outputs": []
    },
    {
      "cell_type": "code",
      "source": [
        "loss_curves(epoch_count, loss_values, test_loss_values)"
      ],
      "metadata": {
        "colab": {
          "base_uri": "https://localhost:8080/",
          "height": 489
        },
        "id": "ThRo0d568o14",
        "outputId": "e091b087-9cf0-4c16-8173-3766595905b1"
      },
      "execution_count": 39,
      "outputs": [
        {
          "output_type": "execute_result",
          "data": {
            "text/plain": [
              "<module 'matplotlib.pyplot' from '/usr/local/lib/python3.9/dist-packages/matplotlib/pyplot.py'>"
            ]
          },
          "metadata": {},
          "execution_count": 39
        },
        {
          "output_type": "display_data",
          "data": {
            "text/plain": [
              "<Figure size 640x480 with 1 Axes>"
            ],
            "image/png": "[encoded data removed]"
          },
          "metadata": {}
        }
      ]
    },
    {
      "cell_type": "markdown",
      "source": [
        "### Making and evaluating predictions"
      ],
      "metadata": {
        "id": "C5yci9GLKBYc"
      }
    },
    {
      "cell_type": "code",
      "source": [
        "# Turn model into evaluation mode\n",
        "model_1.eval()\n",
        "\n",
        "# Make predictions on the test model\n",
        "with torch.inference_mode():\n",
        "  y_preds = model_1(X_test)"
      ],
      "metadata": {
        "id": "lJhlpwJK-MZm"
      },
      "execution_count": 40,
      "outputs": []
    },
    {
      "cell_type": "code",
      "source": [
        "# Visualise model predictions\n",
        "plot_predictions(predictions=y_preds.cpu()) "
      ],
      "metadata": {
        "colab": {
          "base_uri": "https://localhost:8080/",
          "height": 599
        },
        "id": "C3jptJQtLBz_",
        "outputId": "aff97dd3-ae5f-46c7-ddc8-8399a0e3de7a"
      },
      "execution_count": 41,
      "outputs": [
        {
          "output_type": "display_data",
          "data": {
            "text/plain": [
              "<Figure size 1000x700 with 1 Axes>"
            ],
            "image/png": "[encoded data removed]"
          },
          "metadata": {}
        }
      ]
    },
    {
      "cell_type": "markdown",
      "source": [
        "### Saving and loading our model"
      ],
      "metadata": {
        "id": "XbQxPXLPLyF5"
      }
    },
    {
      "cell_type": "code",
      "source": [
        "from pathlib import Path\n",
        "\n",
        "# Create model's directory \n",
        "MODEL_PATH = Path('/content/models')\n",
        "MODEL_PATH.mkdir(parents=True, exist_ok=True)\n",
        "\n",
        "# Create model save path\n",
        "MODEL_NAME = '01_pytorch_model_1.pth'\n",
        "MODEL_SAVE_PATH = MODEL_PATH / MODEL_NAME\n",
        "\n",
        "# Save the model state dict\n",
        "print(f'Saving model to: {MODEL_SAVE_PATH}')\n",
        "torch.save(obj=model_1.state_dict(), \n",
        "           f=MODEL_SAVE_PATH) \n"
      ],
      "metadata": {
        "colab": {
          "base_uri": "https://localhost:8080/"
        },
        "id": "IVR9SUMiLVs-",
        "outputId": "35deac4b-709a-472e-894c-2aa685776281"
      },
      "execution_count": 42,
      "outputs": [
        {
          "output_type": "stream",
          "name": "stdout",
          "text": [
            "Saving model to: /content/models/01_pytorch_model_1.pth\n"
          ]
        }
      ]
    },
    {
      "cell_type": "code",
      "source": [
        "# Load a PyTorch model\n",
        "loaded_model_1 = NewLinearRegressionModel()\n",
        "\n",
        "# Load the saved state dict of a model\n",
        "loaded_model_1.load_state_dict(torch.load(f=MODEL_SAVE_PATH))\n",
        "\n",
        "# Put the laded model to device\n",
        "loaded_model_1.to(device)"
      ],
      "metadata": {
        "colab": {
          "base_uri": "https://localhost:8080/"
        },
        "id": "E0-9yxUXMJZS",
        "outputId": "5b5181b3-f32f-4382-b58f-87d370d00b5e"
      },
      "execution_count": 43,
      "outputs": [
        {
          "output_type": "execute_result",
          "data": {
            "text/plain": [
              "NewLinearRegressionModel(\n",
              "  (linear_layer): Linear(in_features=1, out_features=1, bias=True)\n",
              ")"
            ]
          },
          "metadata": {},
          "execution_count": 43
        }
      ]
    },
    {
      "cell_type": "code",
      "source": [
        "loaded_model_1.state_dict()"
      ],
      "metadata": {
        "colab": {
          "base_uri": "https://localhost:8080/"
        },
        "id": "9k-sNQ32M8yR",
        "outputId": "6a171c6b-10ad-46b7-a8cd-3da73cba74d6"
      },
      "execution_count": 44,
      "outputs": [
        {
          "output_type": "execute_result",
          "data": {
            "text/plain": [
              "OrderedDict([('linear_layer.weight', tensor([[0.1005]], device='cuda:0')),\n",
              "             ('linear_layer.bias', tensor([0.4004], device='cuda:0'))])"
            ]
          },
          "metadata": {},
          "execution_count": 44
        }
      ]
    },
    {
      "cell_type": "code",
      "source": [
        "# Evaluate loaded model\n",
        "loaded_model_1.eval()\n",
        "with torch.inference_mode():\n",
        "  loaded_y_pred = loaded_model_1(X_test)\n",
        "\n",
        "y_preds == loaded_y_pred"
      ],
      "metadata": {
        "colab": {
          "base_uri": "https://localhost:8080/"
        },
        "id": "E4r6fCPlOO9c",
        "outputId": "26430f37-2425-49ea-9706-8fca250c6d28"
      },
      "execution_count": 45,
      "outputs": [
        {
          "output_type": "execute_result",
          "data": {
            "text/plain": [
              "tensor([[True],\n",
              "        [True],\n",
              "        [True],\n",
              "        [True],\n",
              "        [True],\n",
              "        [True],\n",
              "        [True],\n",
              "        [True],\n",
              "        [True],\n",
              "        [True],\n",
              "        [True],\n",
              "        [True],\n",
              "        [True],\n",
              "        [True],\n",
              "        [True],\n",
              "        [True],\n",
              "        [True],\n",
              "        [True],\n",
              "        [True],\n",
              "        [True],\n",
              "        [True],\n",
              "        [True],\n",
              "        [True],\n",
              "        [True],\n",
              "        [True],\n",
              "        [True],\n",
              "        [True],\n",
              "        [True],\n",
              "        [True],\n",
              "        [True],\n",
              "        [True],\n",
              "        [True],\n",
              "        [True],\n",
              "        [True],\n",
              "        [True],\n",
              "        [True],\n",
              "        [True],\n",
              "        [True],\n",
              "        [True],\n",
              "        [True],\n",
              "        [True],\n",
              "        [True],\n",
              "        [True],\n",
              "        [True],\n",
              "        [True],\n",
              "        [True],\n",
              "        [True],\n",
              "        [True],\n",
              "        [True],\n",
              "        [True],\n",
              "        [True],\n",
              "        [True],\n",
              "        [True],\n",
              "        [True],\n",
              "        [True],\n",
              "        [True],\n",
              "        [True],\n",
              "        [True],\n",
              "        [True],\n",
              "        [True],\n",
              "        [True],\n",
              "        [True],\n",
              "        [True],\n",
              "        [True],\n",
              "        [True],\n",
              "        [True],\n",
              "        [True],\n",
              "        [True],\n",
              "        [True],\n",
              "        [True],\n",
              "        [True],\n",
              "        [True],\n",
              "        [True],\n",
              "        [True],\n",
              "        [True],\n",
              "        [True],\n",
              "        [True],\n",
              "        [True],\n",
              "        [True],\n",
              "        [True],\n",
              "        [True],\n",
              "        [True],\n",
              "        [True],\n",
              "        [True],\n",
              "        [True],\n",
              "        [True],\n",
              "        [True],\n",
              "        [True],\n",
              "        [True],\n",
              "        [True],\n",
              "        [True],\n",
              "        [True],\n",
              "        [True],\n",
              "        [True],\n",
              "        [True],\n",
              "        [True],\n",
              "        [True],\n",
              "        [True],\n",
              "        [True],\n",
              "        [True],\n",
              "        [True],\n",
              "        [True],\n",
              "        [True],\n",
              "        [True],\n",
              "        [True],\n",
              "        [True],\n",
              "        [True],\n",
              "        [True],\n",
              "        [True],\n",
              "        [True],\n",
              "        [True],\n",
              "        [True],\n",
              "        [True],\n",
              "        [True],\n",
              "        [True],\n",
              "        [True],\n",
              "        [True],\n",
              "        [True],\n",
              "        [True],\n",
              "        [True],\n",
              "        [True],\n",
              "        [True],\n",
              "        [True],\n",
              "        [True],\n",
              "        [True],\n",
              "        [True],\n",
              "        [True],\n",
              "        [True],\n",
              "        [True],\n",
              "        [True],\n",
              "        [True],\n",
              "        [True],\n",
              "        [True],\n",
              "        [True],\n",
              "        [True],\n",
              "        [True],\n",
              "        [True],\n",
              "        [True],\n",
              "        [True],\n",
              "        [True],\n",
              "        [True],\n",
              "        [True],\n",
              "        [True],\n",
              "        [True],\n",
              "        [True],\n",
              "        [True],\n",
              "        [True],\n",
              "        [True],\n",
              "        [True],\n",
              "        [True],\n",
              "        [True],\n",
              "        [True],\n",
              "        [True],\n",
              "        [True],\n",
              "        [True],\n",
              "        [True],\n",
              "        [True],\n",
              "        [True],\n",
              "        [True],\n",
              "        [True],\n",
              "        [True],\n",
              "        [True],\n",
              "        [True],\n",
              "        [True],\n",
              "        [True],\n",
              "        [True],\n",
              "        [True],\n",
              "        [True],\n",
              "        [True],\n",
              "        [True],\n",
              "        [True],\n",
              "        [True],\n",
              "        [True],\n",
              "        [True],\n",
              "        [True],\n",
              "        [True],\n",
              "        [True],\n",
              "        [True],\n",
              "        [True],\n",
              "        [True],\n",
              "        [True],\n",
              "        [True],\n",
              "        [True],\n",
              "        [True],\n",
              "        [True],\n",
              "        [True],\n",
              "        [True],\n",
              "        [True],\n",
              "        [True],\n",
              "        [True],\n",
              "        [True],\n",
              "        [True],\n",
              "        [True],\n",
              "        [True],\n",
              "        [True],\n",
              "        [True],\n",
              "        [True],\n",
              "        [True],\n",
              "        [True],\n",
              "        [True]], device='cuda:0')"
            ]
          },
          "metadata": {},
          "execution_count": 45
        }
      ]
    },
    {
      "cell_type": "code",
      "source": [
        "plot_predictions(predictions=loaded_y_pred.cpu())"
      ],
      "metadata": {
        "colab": {
          "base_uri": "https://localhost:8080/",
          "height": 599
        },
        "id": "w8YaB7IwOgEl",
        "outputId": "4761901a-66a1-4d0c-b406-b71aff079b35"
      },
      "execution_count": 46,
      "outputs": [
        {
          "output_type": "display_data",
          "data": {
            "text/plain": [
              "<Figure size 1000x700 with 1 Axes>"
            ],
            "image/png": "[encoded data removed]"
          },
          "metadata": {}
        }
      ]
    }
  ]
}